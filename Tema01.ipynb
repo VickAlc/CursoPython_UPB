{
 "cells": [
  {
   "cell_type": "markdown",
   "metadata": {
    "id": "FpUxYR8GKaMF"
   },
   "source": [
    "# 1. Declaración Print\n",
    "\n",
    "La función `print()` se emplea para mostrar en pantalla lo que se escribe entre los paréntesis.\n",
    "\n",
    "- Cuando se trata de texto se debe poner entre comillas dobles (\" \") o simples (' ').\n",
    "\n",
    "print(\"Hola mundo\")\n",
    "\n",
    "```\n",
    "Hola mundo\n",
    "```"
   ]
  },
  {
   "cell_type": "markdown",
   "metadata": {
    "id": "_AkCWyZaMHOq"
   },
   "source": [
    "- Para el caso de valores numéricos, no es necesario el uso de comillas.\n",
    "\n",
    "print(1234)\n",
    "```\n",
    "1234\n",
    "```"
   ]
  },
  {
   "cell_type": "markdown",
   "metadata": {
    "id": "iCJgmMODMn9w"
   },
   "source": [
    "### Ejercicio 1.1\n",
    "\n",
    "Escriba una línea de código que muestre en pantalla la siguiente oración:\n",
    "```\n",
    "¡Hola mundo!\n",
    "```"
   ]
  },
  {
   "cell_type": "code",
   "execution_count": null,
   "metadata": {
    "id": "qoNuo2qvLReK"
   },
   "outputs": [],
   "source": []
  },
  {
   "cell_type": "markdown",
   "metadata": {
    "id": "JHlBMKH3NPDd"
   },
   "source": [
    "### Ejercicio 1.2\n",
    "\n",
    "Genere un código que muestre en pantalla la oración:\n",
    "```\n",
    "El término \"comillas\" es un signo tipográfico.\n",
    "```"
   ]
  },
  {
   "cell_type": "code",
   "execution_count": null,
   "metadata": {
    "id": "7pQ73zfLM7dM"
   },
   "outputs": [],
   "source": []
  },
  {
   "cell_type": "markdown",
   "metadata": {
    "id": "MjB1XmB4OEnc"
   },
   "source": [
    "### Ejercicio 1.3\n",
    "\n",
    "Diseñe una línea de código que presente en pantalla el número $750$."
   ]
  },
  {
   "cell_type": "code",
   "execution_count": null,
   "metadata": {
    "id": "elISVm8BN4YI"
   },
   "outputs": [],
   "source": []
  },
  {
   "cell_type": "markdown",
   "metadata": {
    "id": "6ap7gMDROU9S"
   },
   "source": [
    "> 🔑 **Nota:** Dentro de la función `print()` también es posible realizar operaciones numéricas."
   ]
  },
  {
   "cell_type": "markdown",
   "metadata": {
    "id": "057zq9q_OiN9"
   },
   "source": [
    "### Ejercicio 1.4\n",
    "\n",
    "Utilizando la función `print()` solucione la suma 15 + 20:"
   ]
  },
  {
   "cell_type": "code",
   "execution_count": null,
   "metadata": {
    "id": "Gtng-e1MOO77"
   },
   "outputs": [],
   "source": []
  },
  {
   "cell_type": "markdown",
   "metadata": {
    "id": "5vp2KCztO4kK"
   },
   "source": [
    "### Ejercicio 1.5\n",
    "\n",
    "Repita el ejercicio 1.4 empleando comillas para la operación: `\"15 + 20\"`. Analice el resultado."
   ]
  },
  {
   "cell_type": "code",
   "execution_count": null,
   "metadata": {
    "id": "oebIfDEnOzJ_"
   },
   "outputs": [],
   "source": []
  },
  {
   "cell_type": "markdown",
   "metadata": {},
   "source": [
    ">🔑**Nota:** Dentro de un `string` es posible incluir el signo comillas dobles (\" \") como parte del texto, para ello debe redactarse entre comillas simples (' ') y viceversa."
   ]
  },
  {
   "cell_type": "markdown",
   "metadata": {},
   "source": [
    "### Ejercicio 1.6\n",
    "\n",
    "Muestre en pantalla la siguiente frase.\n",
    "\n",
    "`\"Hoy es un buen día para aprender\"`"
   ]
  },
  {
   "cell_type": "code",
   "execution_count": null,
   "metadata": {},
   "outputs": [],
   "source": []
  },
  {
   "cell_type": "markdown",
   "metadata": {},
   "source": [
    "---"
   ]
  },
  {
   "cell_type": "markdown",
   "metadata": {
    "id": "dY0TJWMMPYNT"
   },
   "source": [
    "### Práctica 1.1\n",
    "\n",
    "Genere un código que imprima en pantalla la expresión:\n",
    "```\n",
    "Me encanta estudiar Python.\n",
    "```"
   ]
  },
  {
   "cell_type": "code",
   "execution_count": null,
   "metadata": {
    "id": "BWHTkkobPPH0"
   },
   "outputs": [],
   "source": []
  },
  {
   "cell_type": "markdown",
   "metadata": {
    "id": "x26K8x3APnrM"
   },
   "source": [
    "### Práctica 1.2\n",
    "\n",
    "Desarrolle un código que imprima en pantalla la expresión:\n",
    "```\n",
    "Einstein decía, \"la medida de la inteligencia es la capacidad de cambiar\".\n",
    "```"
   ]
  },
  {
   "cell_type": "code",
   "execution_count": null,
   "metadata": {
    "id": "PvjnF5tOP5GA"
   },
   "outputs": [],
   "source": []
  },
  {
   "cell_type": "markdown",
   "metadata": {
    "id": "YwWHwwDMQlsI"
   },
   "source": [
    "### Práctica 1.3\n",
    "\n",
    "Defina un código que imprima en pantalla el número $120$, pero no debe ingresar el dato directamente sino como resultado de una operación matemática."
   ]
  },
  {
   "cell_type": "code",
   "execution_count": null,
   "metadata": {
    "id": "EHqvT1JJ4GkJ"
   },
   "outputs": [],
   "source": []
  },
  {
   "cell_type": "markdown",
   "metadata": {
    "id": "FK1gDWKRR6Me"
   },
   "source": [
    "----\n",
    "----"
   ]
  },
  {
   "cell_type": "markdown",
   "metadata": {
    "id": "xg500prBRBFF"
   },
   "source": [
    "# 2. Strings\n",
    "\n",
    "Los `strings` son cadenas de texto, es decir un conjunto de caracteres (letras, palabras, oraciones o números).\n",
    "\n",
    "> 🔑 **Nota:** Siempre deben escribirse entre comillas simples (' ') o dobles (\" \").\n",
    "\n",
    "\n",
    "```\n",
    "\"Esto es un string\"\n",
    "\n",
    "'Esto también es un string'\n",
    "```"
   ]
  },
  {
   "cell_type": "markdown",
   "metadata": {
    "id": "OMp43-Z0R_gE"
   },
   "source": [
    "### Ejercicio 2.1\n",
    "\n",
    "Analice la salida de la expresión '50 + 20' dentro de la función `print()`."
   ]
  },
  {
   "cell_type": "code",
   "execution_count": null,
   "metadata": {
    "id": "2x9UmBo8Q0vJ"
   },
   "outputs": [],
   "source": []
  },
  {
   "cell_type": "markdown",
   "metadata": {
    "id": "-pmoj7A4SmNh"
   },
   "source": [
    "> 🔑 **Nota:** Al emplear el operador $+$ entre cadenas de `strings` se realiza el proceso de concatenación."
   ]
  },
  {
   "cell_type": "markdown",
   "metadata": {
    "id": "JqN5JEU1TIhe"
   },
   "source": [
    "### Ejercicio 2.2\n",
    "\n",
    "Genere una línea de código donde su *nombre* y *apellido* sean dos `strings`, aplique el operador $+$ entre ellas. Analice el resultado.\n",
    "\n",
    "```\n",
    "print('Nombre' + 'Apellido')\n",
    "```"
   ]
  },
  {
   "cell_type": "code",
   "execution_count": null,
   "metadata": {
    "id": "IIefq6OIScfz"
   },
   "outputs": [],
   "source": []
  },
  {
   "cell_type": "markdown",
   "metadata": {
    "id": "SP2Wx5aaUHjO"
   },
   "source": [
    "### Ejercicio 2.3\n",
    "\n",
    "Solucione el error del ejercicio 2.2, se puede hacer de 3 formas distintas. Aquí se muestra una de ellas, encuentre el código de las otras 2.\n",
    "\n",
    "```\n",
    "print('Nombre' + \" \" + 'Apellido')\n",
    "print('Nombre ' + 'Apellido')\n",
    "print('Nombre' + ' Apellido')\n",
    "```"
   ]
  },
  {
   "cell_type": "code",
   "execution_count": null,
   "metadata": {
    "id": "n3bfavW4T7jP"
   },
   "outputs": [],
   "source": []
  },
  {
   "cell_type": "code",
   "execution_count": null,
   "metadata": {},
   "outputs": [],
   "source": []
  },
  {
   "cell_type": "code",
   "execution_count": null,
   "metadata": {},
   "outputs": [],
   "source": []
  },
  {
   "cell_type": "markdown",
   "metadata": {
    "id": "iZW_qHKVVO-F"
   },
   "source": [
    "> 🔑 **Nota:** La barra invertida `\\` es un signo de escape que se utiliza para mostrar caracteres especiales que normalmente tienen la función de ejecutar algún comando."
   ]
  },
  {
   "cell_type": "markdown",
   "metadata": {
    "id": "TrliiI13ViyE"
   },
   "source": [
    "### Ejercicio 2.4\n",
    "\n",
    "Muestre en pantalla el siguiente texto:\n",
    "```\n",
    "Mi familia me dice \"May\".\n",
    "```\n",
    "\n",
    "Use `\\\"` para poner las comillas."
   ]
  },
  {
   "cell_type": "code",
   "execution_count": null,
   "metadata": {
    "id": "wnd7FE29UhN3"
   },
   "outputs": [],
   "source": []
  },
  {
   "cell_type": "markdown",
   "metadata": {
    "id": "cYFO3JEjqL-d"
   },
   "source": [
    "> 🔑 **Nota:** Para realizar saltos de línea en cadenas de texto se puede emplear `\\n`."
   ]
  },
  {
   "cell_type": "markdown",
   "metadata": {
    "id": "RBIxbM6ZoxjN"
   },
   "source": [
    "### Ejercicio 2.5\n",
    "\n",
    "Haciendo uso del salto de línea `\\n` y una sola función `print()`, presente la frase como se muestra a continuación:\n",
    "```\n",
    "\"Céntrate hacia dónde quieres ir,\n",
    "no en lo que temes\".\n",
    "```\n",
    "\n",
    "```\n",
    "print(\"\\\"Céntrate hacia dónde quieres ir,\\nno en lo que temes\\\".\")\n",
    "```"
   ]
  },
  {
   "cell_type": "code",
   "execution_count": null,
   "metadata": {
    "id": "RkLBlmo-WLVz"
   },
   "outputs": [],
   "source": []
  },
  {
   "cell_type": "markdown",
   "metadata": {
    "id": "dQy3sA3YxKt6"
   },
   "source": [
    "> 🔑 **Nota:** El caracter “Tab Horizontal\" se usa para sangrías, en `Python` se realiza con `\\t`."
   ]
  },
  {
   "cell_type": "markdown",
   "metadata": {
    "id": "y5JWYCgly3e2"
   },
   "source": [
    "### Ejercicio 2.6\n",
    "\n",
    "Empleando una sola función `print()`, genere el código para obtener la siguiente oración. Note la sangría horizontal de la segunda línea.\n",
    "```\n",
    "Tu actitud, no tu aptitud,\n",
    "    determinará tu altitud.\n",
    "```\n"
   ]
  },
  {
   "cell_type": "code",
   "execution_count": null,
   "metadata": {
    "id": "_EJ2xlyCpvsD"
   },
   "outputs": [],
   "source": []
  },
  {
   "cell_type": "markdown",
   "metadata": {
    "id": "QCrPBw7o3lwy"
   },
   "source": [
    "### Ejercicio 2.7\n",
    "\n",
    "Establezca un código que muestre la siguiente frase en pantalla:\n",
    "```\n",
    "A este signo \\ se le llama barra invertida.\n",
    "```"
   ]
  },
  {
   "cell_type": "code",
   "execution_count": null,
   "metadata": {
    "id": "tPNVa9ipz_46"
   },
   "outputs": [],
   "source": []
  },
  {
   "cell_type": "markdown",
   "metadata": {
    "id": "sUsuY3674x9g"
   },
   "source": [
    "----"
   ]
  },
  {
   "cell_type": "markdown",
   "metadata": {},
   "source": [
    "Defina los códigos para obtener en pantalla los textos como se indica en cada ejercicio. Utilice solo una función `print()` en cada caso.  "
   ]
  },
  {
   "cell_type": "markdown",
   "metadata": {
    "id": "Ik4wc_Jn5B07"
   },
   "source": [
    "### Práctica 2.1\n",
    "\n",
    "```\n",
    "Línea 1\n",
    "Línea 2\n",
    "Línea 3\n",
    "```"
   ]
  },
  {
   "cell_type": "code",
   "execution_count": null,
   "metadata": {
    "id": "Wf42uFZz34bR"
   },
   "outputs": [],
   "source": []
  },
  {
   "cell_type": "markdown",
   "metadata": {
    "id": "r86vsOFn5bAm"
   },
   "source": [
    "### Práctica 2.2\n",
    "\n",
    "```\n",
    "A\tB\tC\n",
    "D\tE\tF\n",
    "G\tH\tI\n",
    "```\n",
    "**Notas:**\n",
    "- Observe que la distancia horizontal entre las letras ha sido creada con una tabulación."
   ]
  },
  {
   "cell_type": "code",
   "execution_count": null,
   "metadata": {
    "id": "dmSqqs5q5wg3"
   },
   "outputs": [],
   "source": []
  },
  {
   "cell_type": "markdown",
   "metadata": {
    "id": "RlxUpotB59fR"
   },
   "source": [
    "### Práctica 2.3\n",
    "\n",
    "```\n",
    "Barra Normal: /\n",
    "Barra Invertida: \\\n",
    "```"
   ]
  },
  {
   "cell_type": "code",
   "execution_count": null,
   "metadata": {
    "id": "OoouQgww6Fja"
   },
   "outputs": [],
   "source": []
  },
  {
   "cell_type": "markdown",
   "metadata": {
    "id": "50rTeCdQ6RN7"
   },
   "source": [
    "----\n",
    "----"
   ]
  },
  {
   "cell_type": "markdown",
   "metadata": {
    "id": "Z4jnNiUQ6VJc"
   },
   "source": [
    "# 3. Función Input\n",
    "\n",
    "El objetivo de la instrucción `input()` es solicitar y esperar información del usuario, seguido de tecla *enter*, para posteriormente ejecutar una acción. Esto no implica que se mueste en pantalla el resultado, para ello se emplea junto con la función `print()`.\n"
   ]
  },
  {
   "cell_type": "markdown",
   "metadata": {
    "id": "D4JHMF98aKq-"
   },
   "source": [
    "### Ejercicio 3.1\n",
    "\n",
    "Utilice la función `input()` para solicitar al usuario su nombre y apellido.\n",
    "\n",
    "```\n",
    "print(input('Dime tu nombre: '))\n",
    "print(input('Ahora ingresa tu apellido: '))\n",
    "```"
   ]
  },
  {
   "cell_type": "code",
   "execution_count": null,
   "metadata": {
    "id": "7DUfvrpE6TRa"
   },
   "outputs": [],
   "source": []
  },
  {
   "cell_type": "markdown",
   "metadata": {
    "id": "RX_2Ocujbc6T"
   },
   "source": [
    "### Ejercicio 3.2\n",
    "\n",
    "Diseñe una línea de código donde se solicite al usuario su color favorito y posteriormente se muestre la siguiente frase:\n",
    "\n",
    "```\n",
    "Tu color favorito es el azul\n",
    "```\n",
    "\n",
    "Para emplear sólo una función `print()` se debe usar la operación de concatenar.\n",
    "\n",
    "```\n",
    "print('Tu color favorito es el ' + input('¿Cuál es tu color favorito?'))\n",
    "```"
   ]
  },
  {
   "cell_type": "code",
   "execution_count": null,
   "metadata": {
    "id": "qBmUON7_a7Q9"
   },
   "outputs": [],
   "source": []
  },
  {
   "cell_type": "markdown",
   "metadata": {
    "id": "DKcjvtE4c347"
   },
   "source": [
    "### Ejercicio 3.3\n",
    "\n",
    "Realice un código que solicite al usuario su nombre y edad. Posteriormente se debe mostrar en pantalla la siguiente oración:\n",
    "\n",
    "```\n",
    "Tu nombre es Juan y tienes 22 años.\n",
    "```"
   ]
  },
  {
   "cell_type": "code",
   "execution_count": null,
   "metadata": {
    "id": "8xAYDBcXcMEC"
   },
   "outputs": [],
   "source": []
  },
  {
   "cell_type": "markdown",
   "metadata": {
    "id": "33kF5wcOd1lg"
   },
   "source": [
    "----"
   ]
  },
  {
   "cell_type": "markdown",
   "metadata": {},
   "source": [
    "Genere los códigos que le permitan ingresar las respuestas al usuario haciendo las preguntas indicadas en cada práctica.\n",
    "\n",
    "**Nota:** Se debe visualizar en pantalla lo ingresado por el usuario (utilizando `print()`)."
   ]
  },
  {
   "cell_type": "markdown",
   "metadata": {
    "id": "XVQsGwAUd62h"
   },
   "source": [
    "### Práctica 3.1\n",
    "\n",
    "```\n",
    "¿Qué estás estudiando?\n",
    "```"
   ]
  },
  {
   "cell_type": "code",
   "execution_count": null,
   "metadata": {
    "id": "BPlMeJtvdiFH"
   },
   "outputs": [],
   "source": []
  },
  {
   "cell_type": "markdown",
   "metadata": {
    "id": "LyQEKyNUeXrm"
   },
   "source": [
    "### Práctica 3.2\n",
    "\n",
    "```\n",
    "¿En qué país vives?\n",
    "```"
   ]
  },
  {
   "cell_type": "code",
   "execution_count": null,
   "metadata": {
    "id": "OyGbLLc6ehL4"
   },
   "outputs": [],
   "source": []
  },
  {
   "cell_type": "markdown",
   "metadata": {
    "id": "1KXNzjHoekue"
   },
   "source": [
    "### Práctica 3.3\n",
    "\n",
    "```\n",
    "Escribe tu nombre:\n",
    "Escribe tu apellido:\n",
    "```"
   ]
  },
  {
   "cell_type": "code",
   "execution_count": null,
   "metadata": {
    "id": "xh6CDtSIezet"
   },
   "outputs": [],
   "source": []
  }
 ],
 "metadata": {
  "colab": {
   "authorship_tag": "ABX9TyPb11KcPtYs32nzE/wnIMf5",
   "provenance": []
  },
  "kernelspec": {
   "display_name": "upb_env",
   "language": "python",
   "name": "python3"
  },
  "language_info": {
   "codemirror_mode": {
    "name": "ipython",
    "version": 3
   },
   "file_extension": ".py",
   "mimetype": "text/x-python",
   "name": "python",
   "nbconvert_exporter": "python",
   "pygments_lexer": "ipython3",
   "version": "3.11.2"
  }
 },
 "nbformat": 4,
 "nbformat_minor": 0
}
