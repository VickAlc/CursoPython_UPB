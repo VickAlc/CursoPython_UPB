{
 "cells": [
  {
   "attachments": {},
   "cell_type": "markdown",
   "metadata": {},
   "source": [
    "# 1. Método `index()`\n",
    "\n",
    "Este método se utiliza para obtener el índice de la primera ocurrencia de un valor en una lista o tupla. Básicamente busca el valor especificado en la lista o tupla y devuelve el índice de la primera ocurrencia del valor.\n",
    "\n",
    "El método `index()` tiene la siguiente sintaxis:\n",
    "```\n",
    "lista.index(valor, [inicio, [fin]])\n",
    "```\n",
    "\n",
    "- **valor**: Es el valor que se busca en la lista.\n",
    "- **inicio** (opcional): Es el índice desde donde se inicia la búsqueda. Por defecto es 0.\n",
    "- **fin** (opcional): Es el índice donde se detiene la búsqueda. Por defecto es el último índice de la lista."
   ]
  },
  {
   "attachments": {},
   "cell_type": "markdown",
   "metadata": {},
   "source": [
    "### Ejemplo 1.1\n",
    "Genere la lista mostrada y muetre en pantalla el índice de la fruta *naranja*.\n",
    "```\n",
    "frutas = ['manzana', 'pera', 'naranja', 'manzana', 'banana']\n",
    "```"
   ]
  },
  {
   "cell_type": "code",
   "execution_count": null,
   "metadata": {},
   "outputs": [],
   "source": [
    "frutas = ['manzana', 'pera', 'naranja', 'manzana', 'banana']\n",
    "indice = frutas.index('naranja')\n",
    "print(indice)"
   ]
  },
  {
   "attachments": {},
   "cell_type": "markdown",
   "metadata": {},
   "source": [
    "> 🔑 **Nota:** Si el valor especificado no se encuentra en la lista, se produce un error de tipo `ValueError`."
   ]
  },
  {
   "attachments": {},
   "cell_type": "markdown",
   "metadata": {},
   "source": [
    "### Ejemplot 1.2\n",
    "\n",
    "Genere la lista mostrada y muestre en pantalla el índice de la fruta *uvas*.\n",
    "```\n",
    "frutas = ['manzana', 'pera', 'naranja', 'manzana', 'banana']\n",
    "```"
   ]
  },
  {
   "cell_type": "code",
   "execution_count": null,
   "metadata": {},
   "outputs": [],
   "source": [
    "frutas = ['manzana', 'pera', 'naranja', 'manzana', 'banana']\n",
    "indice = frutas.index('uvas')\n",
    "print(indice)"
   ]
  },
  {
   "attachments": {},
   "cell_type": "markdown",
   "metadata": {},
   "source": [
    "> 🔑 **Nota:** El método `index()` también se puede utilizar en una cadena de texto para encontrar la posición de un carácter o subcadena."
   ]
  },
  {
   "attachments": {},
   "cell_type": "markdown",
   "metadata": {},
   "source": [
    "### Ejemplo 1.3\n",
    "\n",
    "Para la siguiente cadena de texto determine cuál es el índice de la letra *ñ*.\n",
    "```\n",
    "cadena = 'Diseño Industrial'\n",
    "```"
   ]
  },
  {
   "cell_type": "code",
   "execution_count": null,
   "metadata": {},
   "outputs": [],
   "source": [
    "cadena = 'Diseño Industrial'\n",
    "indice = cadena.index('ñ')\n",
    "print(indice)"
   ]
  },
  {
   "attachments": {},
   "cell_type": "markdown",
   "metadata": {},
   "source": [
    "> 🔑**Nota:** Los espacios vacíos y los signos de puntuación también son contados dentro de la secuencia."
   ]
  },
  {
   "attachments": {},
   "cell_type": "markdown",
   "metadata": {},
   "source": [
    "### Ejemplo 1.4\n",
    "\n",
    "Para la cadena de texto del ejemplo anterior, determine el índice de la subcadena *Industrial*."
   ]
  },
  {
   "cell_type": "code",
   "execution_count": null,
   "metadata": {},
   "outputs": [],
   "source": [
    "cadena = 'Diseño Industrial'\n",
    "indice = cadena.index('Industrial')\n",
    "print(indice)"
   ]
  },
  {
   "attachments": {},
   "cell_type": "markdown",
   "metadata": {},
   "source": [
    "> 🔑 **Nota:** El método `index()` realiza la búsqueda de izquierda a derecha y arroja el valor del primer elemento que encuentar."
   ]
  },
  {
   "attachments": {},
   "cell_type": "markdown",
   "metadata": {},
   "source": [
    "### Ejemplo 1.5\n",
    "\n",
    "Para la cadena de texto '*Diseño Industrial*', determine el índice de la letra '*i*'."
   ]
  },
  {
   "cell_type": "code",
   "execution_count": null,
   "metadata": {},
   "outputs": [],
   "source": [
    "cadena = 'Diseño Industrial'\n",
    "indice = cadena.index('i')\n",
    "print(indice)"
   ]
  },
  {
   "attachments": {},
   "cell_type": "markdown",
   "metadata": {},
   "source": [
    "> 🔑 **Nota:** Se puede emplear el método `rindex()` para realizar la búsqueda de derecha a izquierda."
   ]
  },
  {
   "attachments": {},
   "cell_type": "markdown",
   "metadata": {},
   "source": [
    "### Ejemplo 1.6\n",
    "\n",
    "Para la cadena de texto '*Diseño Industrial*', utilice el método `rindex()` para determine el índice de la letra '*i*'."
   ]
  },
  {
   "cell_type": "code",
   "execution_count": null,
   "metadata": {},
   "outputs": [],
   "source": [
    "cadena = 'Diseño Industrial'\n",
    "indice = cadena.rindex('i')\n",
    "print(indice)"
   ]
  },
  {
   "attachments": {},
   "cell_type": "markdown",
   "metadata": {},
   "source": [
    "> 🔑 **Nota:** En `Python`, el método `index()` también puede trabajar con índices negativos. Estos se cuentan desde el final de la lista o cadena, por lo que -1 se refiere al último elemento, -2 al penúltimo elemento y así sucesivamente."
   ]
  },
  {
   "attachments": {},
   "cell_type": "markdown",
   "metadata": {},
   "source": [
    "### Ejemplo 1.5\n",
    "\n",
    "Para la lista mostrada, muestre en pantalla el valor obtenido para el índice -1.\n",
    "```\n",
    "frutas = ['manzana', 'pera', 'naranja', 'manzana', 'banana']\n",
    "```"
   ]
  },
  {
   "cell_type": "code",
   "execution_count": null,
   "metadata": {},
   "outputs": [],
   "source": [
    "frutas = ['manzana', 'pera', 'naranja', 'manzana', 'banana']\n",
    "print(frutas[-1])"
   ]
  },
  {
   "attachments": {},
   "cell_type": "markdown",
   "metadata": {},
   "source": [
    "----"
   ]
  },
  {
   "attachments": {},
   "cell_type": "markdown",
   "metadata": {},
   "source": [
    "### Práctica 1.1\n",
    "\n",
    "Encuentra y muestra en pantalla qué caracter ocupa la quinta posición dentro de la siguiente palabra: \"*computadora*\"."
   ]
  },
  {
   "cell_type": "code",
   "execution_count": null,
   "metadata": {},
   "outputs": [],
   "source": []
  },
  {
   "attachments": {},
   "cell_type": "markdown",
   "metadata": {},
   "source": [
    "### Práctica 1.2\n",
    "\n",
    "Encuentra y muestra en pantalla el índice de la primera aparición de la palabra \"*diseño*\" en la siguiente frase:\n",
    "\n",
    "\"*Existen tres posibles respuestas a un diseño: sí, no y ¡wow! La última expresión es a la que se debe aspirar cuando se plantea un diseño*.\""
   ]
  },
  {
   "cell_type": "code",
   "execution_count": null,
   "metadata": {},
   "outputs": [],
   "source": []
  },
  {
   "attachments": {},
   "cell_type": "markdown",
   "metadata": {},
   "source": [
    "### Práctica 1.3\n",
    "\n",
    "Encuentra y muestra en pantalla el índice de la última aparición de la palabra \"*diseño*\" en la siguiente frase:\n",
    "\n",
    "\"*Existen tres posibles respuestas a un diseño: sí, no y ¡wow! La última expresión es a la que se debe aspirar cuando se plantea un diseño*.\""
   ]
  },
  {
   "cell_type": "code",
   "execution_count": null,
   "metadata": {},
   "outputs": [],
   "source": []
  },
  {
   "attachments": {},
   "cell_type": "markdown",
   "metadata": {},
   "source": [
    "----\n",
    "----"
   ]
  },
  {
   "attachments": {},
   "cell_type": "markdown",
   "metadata": {},
   "source": [
    "# 2. Subconjuntos o `slicing`\n",
    "\n",
    "El `slicing` en `Python` es una técnica que permite extraer partes o subconjuntos de una secuencia (como una lista, una cadena de texto o una tupla) utilizando una sintaxis especial. El `slicing` se realiza mediante el uso de corchetes `[]` y dos puntos `:` dentro de ellos, con uno o más índices para especificar los límites del subconjunto que se desea obtener.\n",
    "\n",
    "La sintaxis general del slicing es:\n",
    "\n",
    "```\n",
    "secuencia[inicio:fin:paso]\n",
    "```\n",
    "\n",
    "Donde:\n",
    "\n",
    "- *secuencia*: es la secuencia de la cual se desea obtener el subconjunto.\n",
    "- *inicio*: es el índice de inicio del subconjunto (inclusive).\n",
    "- *fin*: es el índice de fin del subconjunto (exclusivo).\n",
    "- *paso*: es el tamaño del salto entre los elementos seleccionados (opcional)."
   ]
  },
  {
   "attachments": {},
   "cell_type": "markdown",
   "metadata": {},
   "source": [
    "### Ejemplo 2.1\n",
    "\n",
    "Para la lista dada, genere el código que guarde los valores `[2, 3, 4]` en una variable llamada `sublista` y posteriormente muestre los valores en pantalla.\n",
    "\n",
    "```\n",
    "lista = [1, 2, 3, 4, 5]\n",
    "```"
   ]
  },
  {
   "cell_type": "code",
   "execution_count": null,
   "metadata": {},
   "outputs": [],
   "source": [
    "lista = [1, 2, 3, 4, 5]\n",
    "sublista = lista[1:4]\n",
    "print(sublista)"
   ]
  },
  {
   "attachments": {},
   "cell_type": "markdown",
   "metadata": {},
   "source": [
    "> 🔑**Nota:** El índice final del subconjunto no es incluido en la nueva lista."
   ]
  },
  {
   "attachments": {},
   "cell_type": "markdown",
   "metadata": {},
   "source": [
    "### Ejemplo 2.2\n",
    "\n",
    "Para la cadena de texto `\"Hola, diseñador industrial\"`, desarrolle el código para obtener una subcadena con la palabra `diseñador` y muestre el resultado en pantalla."
   ]
  },
  {
   "cell_type": "code",
   "execution_count": null,
   "metadata": {},
   "outputs": [],
   "source": [
    "cadena = \"Hola, diseñador industrial\"\n",
    "subcadena = cadena[6:15]\n",
    "print(subcadena)"
   ]
  },
  {
   "attachments": {},
   "cell_type": "markdown",
   "metadata": {},
   "source": [
    "### Ejemplo 2.3\n",
    "\n",
    "Genere una lista con una secuencia numérica de 1 al 9. Posteriormente, genere una subsecuencia que incluya únicamente a los valores pares. Presente el resultado en pantalla."
   ]
  },
  {
   "cell_type": "code",
   "execution_count": null,
   "metadata": {},
   "outputs": [],
   "source": [
    "secuencia = [1, 2, 3, 4, 5, 6, 7, 8, 9]\n",
    "subsecuencia = secuencia[1:9:2]\n",
    "print(subsecuencia)"
   ]
  },
  {
   "cell_type": "code",
   "execution_count": null,
   "metadata": {},
   "outputs": [],
   "source": [
    "letras = 'ABCDEFGHIJKLMNÑOPQRSTUVWXYZ'\n"
   ]
  }
 ],
 "metadata": {
  "kernelspec": {
   "display_name": "Python 3",
   "language": "python",
   "name": "python3"
  },
  "language_info": {
   "codemirror_mode": {
    "name": "ipython",
    "version": 3
   },
   "file_extension": ".py",
   "mimetype": "text/x-python",
   "name": "python",
   "nbconvert_exporter": "python",
   "pygments_lexer": "ipython3",
   "version": "3.11.2"
  },
  "orig_nbformat": 4
 },
 "nbformat": 4,
 "nbformat_minor": 2
}
