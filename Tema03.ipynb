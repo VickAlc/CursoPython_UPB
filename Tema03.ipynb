{
 "cells": [
  {
   "attachments": {},
   "cell_type": "markdown",
   "metadata": {},
   "source": [
    "# 1. Método `index()`\n",
    "\n",
    "Este método se utiliza para obtener el índice de la primera ocurrencia de un valor en una lista o tupla. Básicamente busca el valor especificado en la lista o tupla y devuelve el índice de la primera ocurrencia del valor.\n",
    "\n",
    "El método `index()` tiene la siguiente sintaxis:\n",
    "```\n",
    "lista.index(valor, [inicio, [fin]])\n",
    "```\n",
    "\n",
    "- **valor**: Es el valor que se busca en la lista.\n",
    "- **inicio** (opcional): Es el índice desde donde se inicia la búsqueda. Por defecto es 0.\n",
    "- **fin** (opcional): Es el índice donde se detiene la búsqueda. Por defecto es el último índice de la lista."
   ]
  },
  {
   "attachments": {},
   "cell_type": "markdown",
   "metadata": {},
   "source": [
    "### Ejemplo 1.1\n",
    "Genere la lista mostrada y muetre en pantalla el índice de la fruta *naranja*.\n",
    "```\n",
    "frutas = ['manzana', 'pera', 'naranja', 'manzana', 'banana']\n",
    "```"
   ]
  },
  {
   "cell_type": "code",
   "execution_count": null,
   "metadata": {},
   "outputs": [],
   "source": [
    "frutas = ['manzana', 'pera', 'naranja', 'manzana', 'banana']\n",
    "indice = frutas.index('naranja')\n",
    "print(indice)"
   ]
  },
  {
   "attachments": {},
   "cell_type": "markdown",
   "metadata": {},
   "source": [
    "> 🔑 **Nota:** Si el valor especificado no se encuentra en la lista, se produce un error de tipo `ValueError`."
   ]
  },
  {
   "cell_type": "code",
   "execution_count": null,
   "metadata": {},
   "outputs": [],
   "source": []
  }
 ],
 "metadata": {
  "kernelspec": {
   "display_name": "Python 3",
   "language": "python",
   "name": "python3"
  },
  "language_info": {
   "codemirror_mode": {
    "name": "ipython",
    "version": 3
   },
   "file_extension": ".py",
   "mimetype": "text/x-python",
   "name": "python",
   "nbconvert_exporter": "python",
   "pygments_lexer": "ipython3",
   "version": "3.11.2"
  },
  "orig_nbformat": 4
 },
 "nbformat": 4,
 "nbformat_minor": 2
}
