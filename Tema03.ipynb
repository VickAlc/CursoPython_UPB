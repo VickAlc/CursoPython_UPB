{
 "cells": [
  {
   "attachments": {},
   "cell_type": "markdown",
   "metadata": {},
   "source": [
    "# 1. Método `index()`\n",
    "\n",
    "Se utiliza para obtener el índice de la primera ocurrencia de un valor en una lista o tupla.\n",
    "\n",
    "El método `index()` tiene la siguiente sintaxis:\n",
    "```\n",
    "lista.index(valor, [inicio, [fin]])\n",
    "```\n",
    "\n",
    "- **valor**: El que se desea encontrar en en la lista.\n",
    "- **inicio** (opcional): Es el índice donde comienza la búsqueda. Predeterminadamente es 0.\n",
    "- **fin** (opcional): Es donde se detiene la exploración. Por defecto es el último elemento de la lista."
   ]
  },
  {
   "attachments": {},
   "cell_type": "markdown",
   "metadata": {},
   "source": [
    "### Ejemplo 1.1\n",
    "Genere la lista mostrada e imprima en pantalla el índice de la fruta *naranja*.\n",
    "```\n",
    "frutas = ['manzana', 'pera', 'naranja', 'manzana', 'banana']\n",
    "indice = frutas.index('naranja')\n",
    "print(indice)\n",
    "```"
   ]
  },
  {
   "cell_type": "code",
   "execution_count": null,
   "metadata": {},
   "outputs": [],
   "source": []
  },
  {
   "attachments": {},
   "cell_type": "markdown",
   "metadata": {},
   "source": [
    "> 🔑 **Nota:** Si el valor especificado no se encuentra en la lista, se produce un error de tipo `ValueError`."
   ]
  },
  {
   "attachments": {},
   "cell_type": "markdown",
   "metadata": {},
   "source": [
    "### Ejemplo 1.2\n",
    "\n",
    "Defina la lista siguiente y muestre en pantalla el índice de la fruta *uvas*.\n",
    "```\n",
    "frutas = ['manzana', 'pera', 'naranja', 'manzana', 'banana']\n",
    "indice = frutas.index('uvas')\n",
    "print(indice)\n",
    "```"
   ]
  },
  {
   "cell_type": "code",
   "execution_count": null,
   "metadata": {},
   "outputs": [],
   "source": []
  },
  {
   "attachments": {},
   "cell_type": "markdown",
   "metadata": {},
   "source": [
    "> 🔑 **Nota:** El método `index()` también se puede utilizar en una cadena de texto para encontrar la posición de un caracter o subcadena."
   ]
  },
  {
   "attachments": {},
   "cell_type": "markdown",
   "metadata": {},
   "source": [
    "### Ejemplo 1.3\n",
    "\n",
    "Para el siguiente `string` determine cuál es el índice de la letra *ñ*.\n",
    "```\n",
    "cadena = 'Diseño Industrial'\n",
    "indice = cadena.index('ñ')\n",
    "print(indice)\n",
    "```"
   ]
  },
  {
   "cell_type": "code",
   "execution_count": null,
   "metadata": {},
   "outputs": [],
   "source": []
  },
  {
   "attachments": {},
   "cell_type": "markdown",
   "metadata": {},
   "source": [
    "> 🔑**Nota:** Los espacios vacíos y los signos de puntuación también son contados dentro de la secuencia."
   ]
  },
  {
   "attachments": {},
   "cell_type": "markdown",
   "metadata": {},
   "source": [
    "### Ejemplo 1.4\n",
    "\n",
    "Para la cadena de texto del ejemplo anterior, determine el índice de la subcadena *Industrial*.\n",
    "\n",
    "```\n",
    "cadena = 'Diseño Industrial'\n",
    "indice = cadena.index('Industrial')\n",
    "print(indice)\n",
    "```"
   ]
  },
  {
   "cell_type": "code",
   "execution_count": null,
   "metadata": {},
   "outputs": [],
   "source": []
  },
  {
   "attachments": {},
   "cell_type": "markdown",
   "metadata": {},
   "source": [
    "> 🔑 **Nota:** El método `index()` realiza la búsqueda de izquierda a derecha y arroja el valor del primer elemento que encuentra."
   ]
  },
  {
   "attachments": {},
   "cell_type": "markdown",
   "metadata": {},
   "source": [
    "### Ejemplo 1.5\n",
    "\n",
    "Para la cadena de texto '*Diseño Industrial*', determine el índice de la letra '*i*'.\n",
    "\n",
    "```\n",
    "cadena = 'Diseño Industrial'\n",
    "indice = cadena.index('i')\n",
    "print(indice)\n",
    "```"
   ]
  },
  {
   "cell_type": "code",
   "execution_count": null,
   "metadata": {},
   "outputs": [],
   "source": []
  },
  {
   "attachments": {},
   "cell_type": "markdown",
   "metadata": {},
   "source": [
    "> 🔑 **Nota:** Se puede emplear el método `rindex()` para ejecutar la exploración de derecha a izquierda."
   ]
  },
  {
   "attachments": {},
   "cell_type": "markdown",
   "metadata": {},
   "source": [
    "### Ejemplo 1.6\n",
    "\n",
    "Considerando el ejemplo anterior, utilice el método `rindex()` para determine el índice de la letra '*i*'.\n",
    "\n",
    "```\n",
    "cadena = 'Diseño Industrial'\n",
    "indice = cadena.rindex('i')\n",
    "print(indice)\n",
    "```"
   ]
  },
  {
   "cell_type": "code",
   "execution_count": null,
   "metadata": {},
   "outputs": [],
   "source": []
  },
  {
   "attachments": {},
   "cell_type": "markdown",
   "metadata": {},
   "source": [
    "> 🔑 **Nota:** En `Python`, el método `index()` también puede trabajar con índices negativos. Estos se cuentan desde el final de la lista o cadena, por lo que -1 se refiere al último elemento, -2 al penúltimo elemento y así sucesivamente."
   ]
  },
  {
   "attachments": {},
   "cell_type": "markdown",
   "metadata": {},
   "source": [
    "### Ejemplo 1.7\n",
    "\n",
    "Para la lista siguiente, muestre en pantalla el valor obtenido para el índice -1.\n",
    "```\n",
    "frutas = ['manzana', 'pera', 'naranja', 'manzana', 'banana']\n",
    "print(frutas[-1])\n",
    "```"
   ]
  },
  {
   "cell_type": "code",
   "execution_count": null,
   "metadata": {},
   "outputs": [],
   "source": []
  },
  {
   "attachments": {},
   "cell_type": "markdown",
   "metadata": {},
   "source": [
    "----"
   ]
  },
  {
   "attachments": {},
   "cell_type": "markdown",
   "metadata": {},
   "source": [
    "### Práctica 1.1\n",
    "\n",
    "Encuentra e imprima qué caracter ocupa la quinta posición dentro de: \"*computadora*\"."
   ]
  },
  {
   "cell_type": "code",
   "execution_count": null,
   "metadata": {},
   "outputs": [],
   "source": []
  },
  {
   "attachments": {},
   "cell_type": "markdown",
   "metadata": {},
   "source": [
    "### Práctica 1.2\n",
    "\n",
    "Publique el índice de la primera aparición de la palabra \"*diseño*\" en la siguiente frase:\n",
    "\n",
    "```\n",
    "Existen tres posibles respuestas a un diseño: sí, no y ¡wow! La última expresión es a la que se debe aspirar cuando se plantea un diseño.\n",
    "```"
   ]
  },
  {
   "cell_type": "code",
   "execution_count": null,
   "metadata": {},
   "outputs": [],
   "source": [
    "cadena = 'Existen tres posibles respuestas a un diseño: sí, no y ¡wow! La última expresión es a la que se debe aspirar cuando se plantea un diseño.'\n"
   ]
  },
  {
   "attachments": {},
   "cell_type": "markdown",
   "metadata": {},
   "source": [
    "### Práctica 1.3\n",
    "\n",
    "Determine el índice de la última presencia de la palabra \"*diseño*\" en la siguiente frase:\n",
    "\n",
    "```\n",
    "Existen tres posibles respuestas a un diseño: sí, no y ¡wow! La última expresión es a la que se debe aspirar cuando se plantea un diseño.\n",
    "```"
   ]
  },
  {
   "cell_type": "code",
   "execution_count": null,
   "metadata": {},
   "outputs": [],
   "source": [
    "cadena = 'Existen tres posibles respuestas a un diseño: sí, no y ¡wow! La última expresión es a la que se debe aspirar cuando se plantea un diseño.'\n"
   ]
  },
  {
   "attachments": {},
   "cell_type": "markdown",
   "metadata": {},
   "source": [
    "----\n",
    "----"
   ]
  },
  {
   "attachments": {},
   "cell_type": "markdown",
   "metadata": {},
   "source": [
    "# 2. Subconjuntos o `slicing`\n",
    "\n",
    "Se trata de una técnica que permite extraer partes o subconjuntos de una secuencia (como una lista, una cadena de texto o una tupla) utilizando una sintaxis especial. El `slicing` se realiza mediante el uso de corchetes `[]` y dos puntos `:` dentro de ellos, con uno o más índices para especificar los límites del subconjunto que se desea obtener.\n",
    "\n",
    "La sintaxis general del slicing es:\n",
    "\n",
    "```\n",
    "secuencia[inicio:fin:paso]\n",
    "```\n",
    "\n",
    "Donde:\n",
    "\n",
    "- *secuencia*: es el conjunto de datos del cual se desea obtener el subgrupo.\n",
    "- *inicio*: es el índice donde comienza el `slicing` (inclusivo).\n",
    "- *fin*: es el índice donde termina el subconjunto (exclusivo).\n",
    "- *paso*: es el tamaño del salto entre los elementos seleccionados (opcional)."
   ]
  },
  {
   "attachments": {},
   "cell_type": "markdown",
   "metadata": {},
   "source": [
    "### Ejemplo 2.1\n",
    "\n",
    "Para la lista dada, genere el código que guarde los valores `[2, 3, 4]` en una variable llamada `sublista` y posteriormente muéstrelos en pantalla.\n",
    "\n",
    "```\n",
    "lista = [1, 2, 3, 4, 5]\n",
    "```"
   ]
  },
  {
   "cell_type": "code",
   "execution_count": null,
   "metadata": {},
   "outputs": [],
   "source": [
    "lista = [1, 2, 3, 4, 5]\n"
   ]
  },
  {
   "attachments": {},
   "cell_type": "markdown",
   "metadata": {},
   "source": [
    "> 🔑**Nota:** El índice final del subgrupo no es incluido en la nueva lista."
   ]
  },
  {
   "attachments": {},
   "cell_type": "markdown",
   "metadata": {},
   "source": [
    "### Ejemplo 2.2\n",
    "\n",
    "Tomando en cuenta el texto `\"Hola, diseñador industrial\"`, desarrolle el código para obtener una subcadena con la palabra `diseñador` y muestre en pantalla."
   ]
  },
  {
   "cell_type": "code",
   "execution_count": null,
   "metadata": {},
   "outputs": [],
   "source": [
    "cadena = \"Hola, diseñador industrial\"\n"
   ]
  },
  {
   "attachments": {},
   "cell_type": "markdown",
   "metadata": {},
   "source": [
    "### Ejemplo 2.3\n",
    "\n",
    "Genere una lista con una secuencia numérica de 1 al 9. Posteriormente, genere una subsecuencia que incluya únicamente a los valores pares. Presente el resultado.\n",
    "\n",
    "```\n",
    "secuencia = [1, 2, 3, 4, 5, 6, 7, 8, 9]\n",
    "pares = secuencia[1:9:2]\n",
    "print(pares)\n",
    "```"
   ]
  },
  {
   "cell_type": "code",
   "execution_count": null,
   "metadata": {},
   "outputs": [],
   "source": [
    "secuencia = [1, 2, 3, 4, 5, 6, 7, 8, 9]\n"
   ]
  },
  {
   "attachments": {},
   "cell_type": "markdown",
   "metadata": {},
   "source": [
    "> 🔑**Nota:** Si los índices de inicio o fin son dejados en blanco (`[::2]`) se indica que se consideren los valores desde el principio hasta el último elemento."
   ]
  },
  {
   "attachments": {},
   "cell_type": "markdown",
   "metadata": {},
   "source": [
    "### Ejemplo 2.4\n",
    "\n",
    "Considere la lista del ejemplo anterior y genere una *subsecuencia* con los siguientes índices `[::2]`. Imprima la salida y analice el resultado.\n",
    "\n",
    "```\n",
    "subsecuencia = secuencia[::2]\n",
    "print(subsecuencia)\n",
    "```"
   ]
  },
  {
   "cell_type": "code",
   "execution_count": null,
   "metadata": {},
   "outputs": [],
   "source": [
    "secuencia = [1, 2, 3, 4, 5, 6, 7, 8, 9]\n"
   ]
  },
  {
   "attachments": {},
   "cell_type": "markdown",
   "metadata": {},
   "source": [
    "> 🔑**Nota:** Si el último factor del índice se escribe con signo negativo se obtiene un conjunto en orden opuesto."
   ]
  },
  {
   "attachments": {},
   "cell_type": "markdown",
   "metadata": {},
   "source": [
    "### Ejemplo 2.5\n",
    "\n",
    "Defina una lista llamada `letras` que contenga todo el abecedario, genere otra variable llamada `opuesto` donde las letras se ordenen en sentido contrario. Muestre el resultado en pantalla.\n",
    "\n",
    "```\n",
    "opuesto = letras[::-1]\n",
    "print(opuesto)\n",
    "```"
   ]
  },
  {
   "cell_type": "code",
   "execution_count": null,
   "metadata": {},
   "outputs": [],
   "source": [
    "letras = 'ABCDEFGHIJKLMNÑOPQRSTUVWXYZ'\n",
    "\n"
   ]
  },
  {
   "attachments": {},
   "cell_type": "markdown",
   "metadata": {},
   "source": [
    "----"
   ]
  },
  {
   "cell_type": "markdown",
   "metadata": {},
   "source": [
    "### Práctica 2.1\n",
    "\n",
    "Extraiga la palabra diseño de la siguiente frase utilizando `slicing` y muéstrela en pantalla:\n",
    "\n",
    "`El proceso de diseño es fundamental en la ingeniería.`"
   ]
  },
  {
   "cell_type": "code",
   "execution_count": null,
   "metadata": {},
   "outputs": [],
   "source": []
  },
  {
   "cell_type": "markdown",
   "metadata": {},
   "source": [
    "### Práctica 2.2\n",
    "\n",
    "Tome cada tercer caracter empezando desde el elemento inicial hasta el final del texto mostrado e imprima el resultado:\n",
    "\n",
    "`Cuio lncifiaíola m oleizntu rnt ruonsus ahcoeonan, ousce iodmlei nec trno fsbr.`"
   ]
  },
  {
   "cell_type": "code",
   "execution_count": null,
   "metadata": {},
   "outputs": [],
   "source": []
  },
  {
   "cell_type": "markdown",
   "metadata": {},
   "source": [
    "### Práctica 2.3\n",
    "\n",
    "Invierta la posición de todos los caracteres del siguiente texto y exhiba la frase resultante.\n",
    "\n",
    "`.atneimarreh narg anu se arodatupmoc rop oditsisa oñesid lE`"
   ]
  },
  {
   "cell_type": "code",
   "execution_count": null,
   "metadata": {},
   "outputs": [],
   "source": []
  },
  {
   "cell_type": "markdown",
   "metadata": {},
   "source": [
    "---\n",
    "---"
   ]
  },
  {
   "cell_type": "markdown",
   "metadata": {},
   "source": [
    "# 3. Métodos de `string`\n",
    "\n",
    "Se emplean para manipular cadenas de texto y realizar operaciones como cambiar el formato, dividir y unir, buscar y reemplazar subcadenas, entre otras acciones. Algunos de los métodos más comunes son:\n",
    "\n",
    "- `upper()` - convierte todos los caracteres a mayúsculas.\n",
    "- `lower()` - cambia el formato a solo minúsculas.\n",
    "- `split()` - divide un `string` en una lista de `sub-strings`.\n",
    "- `join()` - une una lista de `sub-strings` en un solo `string`.\n",
    "- `find()` - se emplea para encontrar un `sub-string`.\n",
    "- `replace()` - reemplaza todos los caracteres que coincidan con una determinada secuencia por otra."
   ]
  },
  {
   "cell_type": "markdown",
   "metadata": {},
   "source": [
    "### Ejemplo 3.1\n",
    "\n",
    "Para el texto mostrado, aplique la función `upper()` y analice lo obtenido.\n",
    "\n",
    "`Orgullosamente equipo IDI`\n",
    "\n",
    "```\n",
    "texto = 'Orgullosamente equipo IDI'\n",
    "resultado = texto.upper()\n",
    "print(resultado)\n",
    "```"
   ]
  },
  {
   "cell_type": "code",
   "execution_count": null,
   "metadata": {},
   "outputs": [],
   "source": [
    "texto = 'Orgullosamente equipo IDI'\n"
   ]
  },
  {
   "cell_type": "markdown",
   "metadata": {},
   "source": [
    "> 🔑 **Nota:** Es posible hacer uso de los índices para aplicar un método de `string` a determinados caracteres."
   ]
  },
  {
   "cell_type": "markdown",
   "metadata": {},
   "source": [
    "### Ejemplo 3.2\n",
    "\n",
    "Sobre la palabra *diseño*, aplique `upper()` para cambiar a mayúscula únicamente la *ñ*.\n",
    "\n",
    "```\n",
    "texto = 'diseño'\n",
    "resultado = texto[4].upper()\n",
    "print(resultado)\n",
    "```"
   ]
  },
  {
   "cell_type": "code",
   "execution_count": null,
   "metadata": {},
   "outputs": [],
   "source": [
    "texto = 'diseño'\n"
   ]
  },
  {
   "cell_type": "markdown",
   "metadata": {},
   "source": [
    "### Ejemplo 3.3\n",
    "\n",
    "Considerando el texto siguiente, utilice `lower()` y observe el resultado.\n",
    "\n",
    "`Orgullosamente equipo IDI`\n",
    "\n",
    "```\n",
    "texto = 'Orgullosamente equipo IDI'\n",
    "resultado = texto.lower()\n",
    "print(resultado)\n",
    "```"
   ]
  },
  {
   "cell_type": "code",
   "execution_count": null,
   "metadata": {},
   "outputs": [],
   "source": [
    "texto = 'Orgullosamente equipo IDI'\n"
   ]
  },
  {
   "cell_type": "markdown",
   "metadata": {},
   "source": [
    "### Ejemplo 3.4\n",
    "\n",
    "Aplique `split()` al texto mostrado y realice una conclusión.\n",
    "\n",
    "`Orgullosamente equipo IDI`\n",
    "\n",
    "```\n",
    "texto = 'Orgullosamente equipo IDI'\n",
    "resultado = texto.split()\n",
    "print(resultado)\n",
    "```"
   ]
  },
  {
   "cell_type": "code",
   "execution_count": null,
   "metadata": {},
   "outputs": [],
   "source": [
    "texto = 'Orgullosamente equipo IDI'\n"
   ]
  },
  {
   "cell_type": "markdown",
   "metadata": {},
   "source": [
    "> 🔑 **Nota:** Es posible definir un caracter como referencia para hacer la separación de las cadenas de texto."
   ]
  },
  {
   "cell_type": "markdown",
   "metadata": {},
   "source": [
    "### Ejemplo 3.5\n",
    "\n",
    "Para el texto mostrado, use `split(\"e\")` e interprete la salida.\n",
    "\n",
    "`Orgullosamente equipo IDI`\n",
    "\n",
    "```\n",
    "texto = 'Orgullosamente equipo IDI'\n",
    "resultado = texto.split(\"e\")\n",
    "print(resultado)\n",
    "```"
   ]
  },
  {
   "cell_type": "code",
   "execution_count": null,
   "metadata": {},
   "outputs": [],
   "source": [
    "texto = 'Orgullosamente equipo IDI'\n"
   ]
  },
  {
   "cell_type": "markdown",
   "metadata": {},
   "source": [
    "### Ejemplo 3.6\n",
    "\n",
    "Emplee `join()` al siguiente conjunto de elementos y analice el resultado.\n",
    "\n",
    "a = \"Aprender\"\n",
    "\n",
    "b = \"a\"\n",
    "\n",
    "c = \"modelar\"\n",
    "\n",
    "d = \"es\"\n",
    "\n",
    "e = \"genial.\"\n",
    "\n",
    "```\n",
    "a = \"Aprender\"\n",
    "b = \"a\"\n",
    "c = \"modelar\"\n",
    "d = \"es\"\n",
    "e = \"genial.\"\n",
    "resultado = \" \".join([a,b,c,d,e])\n",
    "print(resultado)\n",
    "```"
   ]
  },
  {
   "cell_type": "code",
   "execution_count": null,
   "metadata": {},
   "outputs": [],
   "source": [
    "a = \"Aprender\"\n",
    "b = \"a\"\n",
    "c = \"modelar\"\n",
    "d = \"es\"\n",
    "e = \"genial.\"\n"
   ]
  },
  {
   "cell_type": "markdown",
   "metadata": {},
   "source": [
    "### Ejemplo 3.7\n",
    "\n",
    "Repita el ejemplo anterior asignando un guión `-` para separar las palabras.\n",
    "\n",
    "```\n",
    "resultado = \"-\".join([a,b,c,d,e])\n",
    "print(resultado)\n",
    "```"
   ]
  },
  {
   "cell_type": "code",
   "execution_count": null,
   "metadata": {},
   "outputs": [],
   "source": [
    "a = \"Aprender\"\n",
    "b = \"a\"\n",
    "c = \"modelar\"\n",
    "d = \"es\"\n",
    "e = \"genial.\"\n"
   ]
  },
  {
   "cell_type": "markdown",
   "metadata": {},
   "source": [
    "### Ejemplo 3.8\n",
    "\n",
    "Sobre el texto mostrado, haga uso de `find()` para encontrar el índice de la letra `g`.\n",
    "\n",
    "`Orgullosamente equipo IDI`\n",
    "\n",
    "```\n",
    "resultado = texto.find(\"g\")\n",
    "print(resultado)\n",
    "```"
   ]
  },
  {
   "cell_type": "code",
   "execution_count": null,
   "metadata": {},
   "outputs": [],
   "source": [
    "texto = 'Orgullosamente equipo IDI'\n"
   ]
  },
  {
   "cell_type": "markdown",
   "metadata": {},
   "source": [
    "> 🔑 **Nota:** El método `find()` arroja el valor $-1$ en caso de no encontrar el caracter indicado."
   ]
  },
  {
   "cell_type": "markdown",
   "metadata": {},
   "source": [
    "### Ejemplo 3.9\n",
    "\n",
    "Para la oración siguiente, emplee `find()` para localizar el índice de `H`.\n",
    "\n",
    "`Orgullosamente equipo IDI`\n",
    "\n",
    "```\n",
    "resultado = texto.find(\"H\")\n",
    "print(resultado)\n",
    "```"
   ]
  },
  {
   "cell_type": "code",
   "execution_count": null,
   "metadata": {},
   "outputs": [],
   "source": [
    "texto = 'Orgullosamente equipo IDI'\n"
   ]
  },
  {
   "cell_type": "markdown",
   "metadata": {},
   "source": [
    "> 🔑 **Nota:** El método `replace()` requiere de dos parámetros, 1. la cadena que va a reemplazar y 2. la nueva."
   ]
  },
  {
   "cell_type": "markdown",
   "metadata": {},
   "source": [
    "### Ejemplo 3.10\n",
    "\n",
    "Tome en cuenta el siguiente texto y aplique el método `replace()` para cambiar `IDI` por `Diseño Industrial`.\n",
    "\n",
    "`Orgullosamente equipo IDI`\n",
    "\n",
    "```\n",
    "resultado = texto.replace(\"IDI\",\"Diseño Industrial\")\n",
    "print(resultado)\n",
    "```"
   ]
  },
  {
   "cell_type": "code",
   "execution_count": null,
   "metadata": {},
   "outputs": [],
   "source": [
    "texto = 'Orgullosamente equipo IDI'\n"
   ]
  },
  {
   "cell_type": "markdown",
   "metadata": {},
   "source": [
    "---"
   ]
  },
  {
   "cell_type": "markdown",
   "metadata": {},
   "source": [
    "### Práctica 3.1\n",
    "\n",
    "Empleando una función de `string`, presente en pantalla el siguiente texto en mayúsculas:\n",
    "\n",
    "`No dejes que el temor supere tu talento.`"
   ]
  },
  {
   "cell_type": "code",
   "execution_count": null,
   "metadata": {},
   "outputs": [],
   "source": [
    "cadena = 'No dejes que el temor supere tu talento.'"
   ]
  },
  {
   "cell_type": "markdown",
   "metadata": {},
   "source": [
    "### Práctica 3.2\n",
    "\n",
    "Modifique el `string` para incorporar la siguiente lista de palabras en una sola cadena de texto separadas por un espacio. Exhiba el resultado.\n",
    "\n",
    "*lista_palabras = [\"Energía\",\"UPB\",\"correcaminos!\"]*"
   ]
  },
  {
   "cell_type": "code",
   "execution_count": null,
   "metadata": {},
   "outputs": [],
   "source": [
    "lista_palabras = ['Energía', 'UPB', 'correcaminos']"
   ]
  },
  {
   "cell_type": "markdown",
   "metadata": {},
   "source": [
    "### Práctica 3.3\n",
    "\n",
    "En la siguiente frase, reemplace la palabra `cuente` por `importe` y publique.\n",
    "\n",
    "`Haz que cada día cuente`"
   ]
  },
  {
   "cell_type": "code",
   "execution_count": null,
   "metadata": {},
   "outputs": [],
   "source": [
    "frase = 'Haz que cada día cuente'"
   ]
  },
  {
   "cell_type": "markdown",
   "metadata": {},
   "source": [
    "---\n",
    "---"
   ]
  },
  {
   "cell_type": "markdown",
   "metadata": {},
   "source": [
    "# 4. Propiedades de `string`\n",
    "\n",
    "Las cadenas de texto (`string`) son objetos que tienen varias propiedades y métodos que permiten su manipulación y operación. Algunas de las más importantes son las siguientes:\n",
    "\n",
    "- inmutable\n",
    "- concatenable\n",
    "- multiplicable\n",
    "- multilineales\n",
    "- verificar si contiene\n",
    "- calcular longitud"
   ]
  },
  {
   "cell_type": "markdown",
   "metadata": {},
   "source": [
    "> 🔑 **Nota:** Para los `strings`, inmutable significa que una vez creada la cadena de texto, no se puede modificar directamente."
   ]
  },
  {
   "cell_type": "markdown",
   "metadata": {},
   "source": [
    "### Ejemplo 4.1\n",
    "\n",
    "Para el nombre `Karina`, verifique que no puede reemplazar directamente la letra `K` por una `C`.\n",
    "\n",
    "```\n",
    "nombre = \"Karina\"\n",
    "nombre.replace(\"K\",\"C\")\n",
    "print(nombre)\n",
    "```"
   ]
  },
  {
   "cell_type": "code",
   "execution_count": null,
   "metadata": {},
   "outputs": [],
   "source": [
    "nombre = \"Karina\"\n"
   ]
  },
  {
   "cell_type": "markdown",
   "metadata": {},
   "source": [
    "> 🔑 **Nota:** Como se ha realizado antes, para modificar un `string` se debe generar otra variable."
   ]
  },
  {
   "cell_type": "markdown",
   "metadata": {},
   "source": [
    "### Ejemplo 4.2\n",
    "\n",
    "Defina una primera variable de texto asignando el nombre `Karina`, posteriormente, genere una segunda donde se realice el cambio de la letra `K` por una `C` y observe la solución.\n",
    "\n",
    "```\n",
    "nombre_1 = \"Karina\"\n",
    "nombre_2 = nombre_1.replace(\"K\",\"C\")\n",
    "print(nombre_2)\n",
    "```"
   ]
  },
  {
   "cell_type": "code",
   "execution_count": null,
   "metadata": {},
   "outputs": [],
   "source": [
    "nombre_1 = \"Karina\"\n"
   ]
  },
  {
   "cell_type": "markdown",
   "metadata": {},
   "source": [
    "> 🔑 **Nota:** Concatenar es sinónimo de unir, por lo tanto, esta operación se refiere al proceso de juntar dos cadenas texto. En `Python`, el proceso de concatenación se puede realizar con el operador ($+$)."
   ]
  },
  {
   "cell_type": "markdown",
   "metadata": {},
   "source": [
    "### Ejemplo 4.3\n",
    "\n",
    "A partir de los dos textos mostrados, genere una nueva variable llamada *frase* empleando la concatenación y exponga la solución.\n",
    "\n",
    "```\n",
    "texto_1 = \"La excelencia \"\n",
    "texto_2 = \"es un hábito.\"\n",
    "```"
   ]
  },
  {
   "cell_type": "code",
   "execution_count": null,
   "metadata": {},
   "outputs": [],
   "source": [
    "texto_1 = \"La excelencia \"\n",
    "texto_2 = \"es un hábito.\"\n"
   ]
  },
  {
   "cell_type": "markdown",
   "metadata": {},
   "source": [
    "> 🔑 **Nota:** Al emplear ($*$) es posible repetir el `string` un determinado número de veces."
   ]
  },
  {
   "cell_type": "markdown",
   "metadata": {},
   "source": [
    "### Ejemplo 4.4\n",
    "\n",
    "Genere la siguiente cadena de texto y usando ($*$) haga que se repita 10 veces.\n",
    "\n",
    "```\n",
    "texto = \"IDI-\"\n",
    "print(texto * 10)\n",
    "```"
   ]
  },
  {
   "cell_type": "code",
   "execution_count": null,
   "metadata": {},
   "outputs": [],
   "source": [
    "texto = \"IDI-\"\n"
   ]
  },
  {
   "cell_type": "markdown",
   "metadata": {},
   "source": [
    "> 🔑 **Nota:** Es posible desarrollar una cadena de texto con saltos de línea, para esto se debe agrupar entre tres comillas dobles (\"\"\" *texto con salto de línea* \"\"\")."
   ]
  },
  {
   "cell_type": "markdown",
   "metadata": {},
   "source": [
    "### Ejemplo 4.5\n",
    "\n",
    "Muestre en pantalla el siguiente texto almacenado en una sola variable llamada *frase*.\n",
    "\n",
    "```\n",
    "El sabio no dice nunca todo lo que piensa,\n",
    "pero siempre piensa todo lo que dice.\n",
    "```"
   ]
  },
  {
   "cell_type": "code",
   "execution_count": null,
   "metadata": {},
   "outputs": [],
   "source": [
    "frase = \"\"\"El sabio no dice nunca todo lo que piensa,\n",
    "pero siempre piensa todo lo que dice.\"\"\"\n"
   ]
  },
  {
   "cell_type": "markdown",
   "metadata": {},
   "source": [
    "### Ejemplo 4.6\n",
    "\n",
    "Considerando la misma oración, utilice el operador `in` para determinar si la palabra *sabio* se encuentra incluida.\n",
    "\n",
    "```print(\"sabio\" in frase)```"
   ]
  },
  {
   "cell_type": "code",
   "execution_count": null,
   "metadata": {},
   "outputs": [],
   "source": [
    "frase = \"\"\"El sabio no dice nunca todo lo que piensa,\n",
    "pero siempre piensa todo lo que dice.\"\"\"\n"
   ]
  },
  {
   "cell_type": "markdown",
   "metadata": {},
   "source": [
    "### Ejemplo 4.7\n",
    "\n",
    "Aplique las instrucciones del ejemplo anterior ahora con la palabra *inteligente*.\n",
    "\n",
    "```\n",
    "print(\"inteligente\" in frase)\n",
    "```"
   ]
  },
  {
   "cell_type": "code",
   "execution_count": null,
   "metadata": {},
   "outputs": [],
   "source": [
    "frase = \"\"\"El sabio no dice nunca todo lo que piensa,\n",
    "pero siempre piensa todo lo que dice.\"\"\"\n"
   ]
  },
  {
   "cell_type": "markdown",
   "metadata": {},
   "source": [
    "### Ejemplo 4.8\n",
    "\n",
    "Tome en cuenta la frase del ejemplo 4.5, utilice el operador `not in` para aseverar que la palabra *inteligente* no se encuentra en el texto.\n",
    "\n",
    "```\n",
    "print(\"inteligente\" not in frase)\n",
    "```"
   ]
  },
  {
   "cell_type": "code",
   "execution_count": null,
   "metadata": {},
   "outputs": [],
   "source": [
    "frase = \"\"\"El sabio no dice nunca todo lo que piensa,\n",
    "pero siempre piensa todo lo que dice.\"\"\"\n"
   ]
  },
  {
   "cell_type": "markdown",
   "metadata": {},
   "source": [
    "### Ejemplo 4.9\n",
    "\n",
    "Esta vez utilice el operador `len()` para determinar el número de caracteres en el texto.\n",
    "\n",
    "```\n",
    "print(len(frase))\n",
    "```"
   ]
  },
  {
   "cell_type": "code",
   "execution_count": null,
   "metadata": {},
   "outputs": [],
   "source": [
    "frase = \"\"\"El sabio no dice nunca todo lo que piensa,\n",
    "pero siempre piensa todo lo que dice.\"\"\"\n"
   ]
  },
  {
   "cell_type": "markdown",
   "metadata": {},
   "source": [
    "---"
   ]
  },
  {
   "cell_type": "markdown",
   "metadata": {},
   "source": [
    "### Práctica 4.1\n",
    "\n",
    "Concatene 7 veces la palabra *Diseño*."
   ]
  },
  {
   "cell_type": "code",
   "execution_count": null,
   "metadata": {},
   "outputs": [],
   "source": []
  },
  {
   "cell_type": "markdown",
   "metadata": {},
   "source": [
    "### Práctica 4.2\n",
    "\n",
    "Verifique que la palabra *simple* **no** se encuentra en el siguiente texto. Muestre la salida de su código.\n",
    "\n",
    "```\n",
    "El éxito es\n",
    "sobreponerse al fracaso\n",
    "con el entusiasmo intacto.\n",
    "```"
   ]
  },
  {
   "cell_type": "code",
   "execution_count": null,
   "metadata": {},
   "outputs": [],
   "source": []
  },
  {
   "cell_type": "markdown",
   "metadata": {},
   "source": [
    "### Práctica 4.3\n",
    "\n",
    "Identifique el número de caracteres del nombre de tu Universidad:\n",
    "\n",
    "`Universidad Politécnica del Bicentenario`"
   ]
  },
  {
   "cell_type": "code",
   "execution_count": null,
   "metadata": {},
   "outputs": [],
   "source": []
  },
  {
   "cell_type": "markdown",
   "metadata": {},
   "source": [
    "---\n",
    "---"
   ]
  },
  {
   "cell_type": "markdown",
   "metadata": {},
   "source": [
    "# 5. Listas\n",
    "\n",
    "Se trata de un tipo de dato que permite almacenar múltiples elementos en una sola variable. Cada componente en una lista se identifica por un índice que comienza en 0 para el primer valor, 1 para el segundo y así sucesivamente.\n",
    "\n",
    "Pueden contener números, cadenas de texto, booleanos, otras listas, diccionarios, entre otros. Además, son mutables, lo que significa que es posible agregar, eliminar o modificarlos después de haber sido creadas.\n",
    "\n",
    "La sintaxis para generar una lista en `Python` es colocar los elementos entre corchetes $[ \\, ]$ y separarlos por comas.\n",
    "\n",
    "\n",
    "* Números enteros\n",
    "```\n",
    "numeros = [1, 2, 3, 4, 5]\n",
    "```\n",
    "\n",
    "* Cadenas de texto\n",
    "```\n",
    "nombres = ['Juan', 'María', 'Pedro']\n",
    "```\n",
    "\n",
    "* Elementos mixtos\n",
    "```\n",
    "mixta = [1, 'Hola', True, 3.14]\n",
    "```"
   ]
  },
  {
   "cell_type": "markdown",
   "metadata": {},
   "source": [
    "Una vez que se tiene una lista, es posible acceder a sus componentes utilizando índices.\n",
    "\n",
    "```\n",
    "numeros = [1, 2, 3, 4, 5]\n",
    "```\n",
    "\n",
    "`print(numeros[0])` -> Imprime el primer elemento (1)\n",
    "\n",
    "`print(numeros[2])`  -> Imprime el tercer elemento (3)"
   ]
  },
  {
   "cell_type": "markdown",
   "metadata": {},
   "source": [
    "---"
   ]
  },
  {
   "cell_type": "markdown",
   "metadata": {},
   "source": [
    "### Ejemplo 5.1\n",
    "\n",
    "Genere una variable llamada *carreras* que contenga una lista con los datos siguientes, muestre el tipo.\n",
    "\n",
    "```\n",
    "carreras = ['IDI', 'IRO', 'IAT', 'ILT', 'IFI', 'IBI']\n",
    "print(type(carreras))\n",
    "```"
   ]
  },
  {
   "cell_type": "code",
   "execution_count": null,
   "metadata": {},
   "outputs": [],
   "source": []
  },
  {
   "cell_type": "markdown",
   "metadata": {},
   "source": [
    "### Ejemplo 5.2\n",
    "\n",
    "Considerando el ejemplo anterior, utilice la función `len()` para determinar el número de elementos presentes.\n",
    "\n",
    "```print(len(carreras))```"
   ]
  },
  {
   "cell_type": "code",
   "execution_count": null,
   "metadata": {},
   "outputs": [],
   "source": [
    "carreras = ['IDI', 'IRO', 'IAT', 'ILT', 'IFI', 'IBI']\n"
   ]
  },
  {
   "cell_type": "markdown",
   "metadata": {},
   "source": [
    "> 🔑 **Nota:** `Python` inicia la numeración de una lista en la posición 0."
   ]
  },
  {
   "cell_type": "markdown",
   "metadata": {},
   "source": [
    "### Ejemplo 5.3\n",
    "\n",
    "Para la variable antes definida, imprima en pantalla únicamente `IDI`.\n",
    "\n",
    "```print(carreras[0])```"
   ]
  },
  {
   "cell_type": "code",
   "execution_count": null,
   "metadata": {},
   "outputs": [],
   "source": [
    "carreras = ['IDI', 'IRO', 'IAT', 'ILT', 'IFI', 'IBI']\n"
   ]
  },
  {
   "cell_type": "markdown",
   "metadata": {},
   "source": [
    "### Ejemplo 5.4\n",
    "\n",
    "Ahora muestre los valores `IRO`, `IAT` y `ILT`.\n",
    "\n",
    "```\n",
    "print(carreras[1:4])\n",
    "```"
   ]
  },
  {
   "cell_type": "code",
   "execution_count": null,
   "metadata": {},
   "outputs": [],
   "source": [
    "carreras = ['IDI', 'IRO', 'IAT', 'ILT', 'IFI', 'IBI']\n"
   ]
  },
  {
   "cell_type": "markdown",
   "metadata": {},
   "source": [
    "> 🔑 **Nota:** `Python` tiene una sintaxis especial para acceder al último elemento de una lista, simplemente se debe emplear el índice $-1$."
   ]
  },
  {
   "cell_type": "markdown",
   "metadata": {},
   "source": [
    "### Ejemplo 5.5\n",
    "\n",
    "Exhiba el último elemento de la lista `carreras`.\n",
    "\n",
    "```\n",
    "print(carreras[-1])\n",
    "```"
   ]
  },
  {
   "cell_type": "code",
   "execution_count": null,
   "metadata": {},
   "outputs": [],
   "source": [
    "carreras = ['IDI', 'IRO', 'IAT', 'ILT', 'IFI', 'IBI']\n"
   ]
  },
  {
   "cell_type": "markdown",
   "metadata": {},
   "source": [
    "> 🔑 **Nota:** Las listas también pueden ser concatenadas empleando el operador ($+$)."
   ]
  },
  {
   "cell_type": "markdown",
   "metadata": {},
   "source": [
    "### Ejemplo 5.6\n",
    "\n",
    "Defina las listas siguientes, posteriormente, genere una tercera donde se concatenen las dos anteriores.\n",
    "\n",
    "```\n",
    "lista_1 = ['honda', 'yamaha']\n",
    "lista_2 = ['ducati', 'suzuki']\n",
    "resultado = lista_1 + lista_2\n",
    "print(resultado)\n",
    "```"
   ]
  },
  {
   "cell_type": "code",
   "execution_count": null,
   "metadata": {},
   "outputs": [],
   "source": [
    "lista_1 = ['honda', 'yamaha']\n",
    "lista_2 = ['ducati', 'suzuki']\n"
   ]
  },
  {
   "cell_type": "markdown",
   "metadata": {},
   "source": [
    "> 🔑 **Nota:** Cuando se imprime en pantalla una lista, `Python` muestra la representación incluyendo los corchetes."
   ]
  },
  {
   "cell_type": "markdown",
   "metadata": {},
   "source": [
    "### Ejemplo 5.7\n",
    "\n",
    "Sustituya el primer elemento por `Lincoln` y presente el resultado en pantalla.\n",
    "\n",
    "```\n",
    "autos = ['Cadillac', 'Dodge', 'Ford', 'Chevrolet']\n",
    "autos[0] = 'Lincoln'\n",
    "print(autos)\n",
    "```"
   ]
  },
  {
   "cell_type": "code",
   "execution_count": null,
   "metadata": {},
   "outputs": [],
   "source": [
    "autos = ['Cadillac', 'Dodge', 'Ford', 'Chevrolet']\n"
   ]
  },
  {
   "cell_type": "markdown",
   "metadata": {},
   "source": [
    "> 🔑 **Nota:** `Python` proporciona varias formas de agregar nuevos datos a una lista existente, la forma más sencilla es empleando `append()`."
   ]
  },
  {
   "cell_type": "markdown",
   "metadata": {},
   "source": [
    "### Ejemplo 5.8\n",
    "\n",
    "Utilizando el método `append()`, agregue el elemento `Lincoln` a la siguiente lista y muestre el resultado.\n",
    "\n",
    "```\n",
    "autos = ['Cadillac', 'Dodge', 'Ford', 'Chevrolet']\n",
    "autos.append('Lincoln')\n",
    "print(autos)\n",
    "```"
   ]
  },
  {
   "cell_type": "code",
   "execution_count": null,
   "metadata": {},
   "outputs": [],
   "source": [
    "autos = ['Cadillac', 'Dodge', 'Ford', 'Chevrolet']\n"
   ]
  },
  {
   "cell_type": "markdown",
   "metadata": {},
   "source": [
    "> 🔑 **Nota:** Es posible incluir un nuevo elemento a una lista existente en el índice deseado aplicando la función `insert()`."
   ]
  },
  {
   "cell_type": "markdown",
   "metadata": {},
   "source": [
    "### Ejemplo 5.9\n",
    "\n",
    "Usando `insert()`, integre el elemento `Lincoln` al inicio e imprima.\n",
    "\n",
    "```\n",
    "autos = ['Cadillac', 'Dodge', 'Ford', 'Chevrolet']\n",
    "autos.insert(0, 'Lincoln')\n",
    "print(autos)\n",
    "```"
   ]
  },
  {
   "cell_type": "code",
   "execution_count": null,
   "metadata": {},
   "outputs": [],
   "source": [
    "autos = ['Cadillac', 'Dodge', 'Ford', 'Chevrolet']\n"
   ]
  },
  {
   "cell_type": "markdown",
   "metadata": {},
   "source": [
    "> 🔑 **Nota:** Para retirar un elemento de una lista en función de su índice se puede utilizar la función `del`."
   ]
  },
  {
   "cell_type": "markdown",
   "metadata": {},
   "source": [
    "### Ejemplo 5.10\n",
    "\n",
    "Para la lista mostrada, remueva el componente 2 con la función `del` y presente en pantalla.\n",
    "\n",
    "```\n",
    "autos = ['Cadillac', 'Dodge', 'Lincoln', 'Ford', 'Chevrolet']\n",
    "del autos[2]\n",
    "print(autos)\n",
    "```"
   ]
  },
  {
   "cell_type": "code",
   "execution_count": null,
   "metadata": {},
   "outputs": [],
   "source": [
    "autos = ['Cadillac', 'Dodge', 'Lincoln', 'Ford', 'Chevrolet']\n"
   ]
  },
  {
   "cell_type": "markdown",
   "metadata": {},
   "source": [
    "> 🔑 **Nota:** El método `pop()` elimina el último elemento de una lista, al mismo tiempo, permite almacenar ese dato en una variable."
   ]
  },
  {
   "cell_type": "markdown",
   "metadata": {},
   "source": [
    "### Ejemplo 5.11\n",
    "\n",
    "Aplique el método `pop()` para retirar el último componente de la lista, almacene este parámetro en la variable `auto_eliminado`.\n",
    "\n",
    "```\n",
    "autos = ['Cadillac', 'Dodge', 'Lincoln', 'Ford', 'Chevrolet']\n",
    "auto_eliminado = autos.pop()\n",
    "print(autos)\n",
    "print(auto_eliminado)\n",
    "```"
   ]
  },
  {
   "cell_type": "code",
   "execution_count": null,
   "metadata": {},
   "outputs": [],
   "source": [
    "autos = ['Cadillac', 'Dodge', 'Lincoln', 'Ford', 'Chevrolet']\n"
   ]
  },
  {
   "cell_type": "markdown",
   "metadata": {},
   "source": [
    "> 🔑 **Nota:** Es posible usar el método `pop()` para descartar un elemento de cualquier posición de la lista al definir el índice dentro de los paréntesis."
   ]
  },
  {
   "cell_type": "markdown",
   "metadata": {},
   "source": [
    "### Ejemplo 5.12\n",
    "\n",
    "Para la lista mostrada, suprima el elemento 1 empleando la función `pop()` y almacene el valor eliminado en la variable `auto_eliminado`.\n",
    "\n",
    "```\n",
    "autos = ['Cadillac', 'Dodge', 'Lincoln', 'Ford', 'Chevrolet']\n",
    "auto_eliminado = autos.pop(1)\n",
    "print(autos)\n",
    "print(auto_eliminado)\n",
    "```"
   ]
  },
  {
   "cell_type": "code",
   "execution_count": null,
   "metadata": {},
   "outputs": [],
   "source": [
    "autos = ['Cadillac', 'Dodge', 'Lincoln', 'Ford', 'Chevrolet']\n"
   ]
  },
  {
   "cell_type": "markdown",
   "metadata": {},
   "source": [
    "> 🔑 **Nota:** Es posible eliminar un elemento de una lista en función de su valor y no de su posición, para esto se debe emplear el método `remove()`."
   ]
  },
  {
   "cell_type": "markdown",
   "metadata": {},
   "source": [
    "### Ejemplo 5.13\n",
    "\n",
    "En la siguiente lista, excluya `Dodge` empleando `remove()`.\n",
    "\n",
    "```\n",
    "autos = ['Cadillac', 'Dodge', 'Lincoln', 'Ford', 'Chevrolet']\n",
    "autos.remove('Dodge')\n",
    "print(autos)\n",
    "```"
   ]
  },
  {
   "cell_type": "code",
   "execution_count": null,
   "metadata": {},
   "outputs": [],
   "source": [
    "autos = ['Cadillac', 'Dodge', 'Lincoln', 'Ford', 'Chevrolet']\n"
   ]
  },
  {
   "cell_type": "markdown",
   "metadata": {},
   "source": [
    "> 🔑 **Nota:** El método `sort()` de `Python` permite ordenar una lista de manera alfabética."
   ]
  },
  {
   "cell_type": "markdown",
   "metadata": {},
   "source": [
    "### Ejemplo 5.14\n",
    "\n",
    "Aplique `sort()` y muestre el resultado en pantalla.\n",
    "\n",
    "```\n",
    "marcas = ['bmw', 'audi', 'toyota', 'subaru']\n",
    "marcas.sort()\n",
    "print(marcas)\n",
    "```"
   ]
  },
  {
   "cell_type": "code",
   "execution_count": null,
   "metadata": {},
   "outputs": [],
   "source": [
    "marcas = ['bmw', 'audi', 'toyota', 'subaru']\n"
   ]
  },
  {
   "cell_type": "markdown",
   "metadata": {},
   "source": [
    "> 🔑 **Nota:** Para organizar de forma inversa una lista se puede emplear el método `reverse()`. El acomodo **no** se realiza en función del alfabeto sino de la aparición de los elementos."
   ]
  },
  {
   "cell_type": "markdown",
   "metadata": {},
   "source": [
    "### Ejemplo 5.15\n",
    "\n",
    "Utilice el método `reverse()` para ordenar los elementos de manera inversa e imprima el resultado.\n",
    "\n",
    "```\n",
    "marcas = ['bmw', 'audi', 'toyota', 'subaru']\n",
    "marcas.reverse()\n",
    "print(marcas)\n",
    "```"
   ]
  },
  {
   "cell_type": "code",
   "execution_count": null,
   "metadata": {},
   "outputs": [],
   "source": [
    "marcas = ['bmw', 'audi', 'toyota', 'subaru']\n"
   ]
  },
  {
   "cell_type": "markdown",
   "metadata": {},
   "source": [
    "---"
   ]
  },
  {
   "cell_type": "markdown",
   "metadata": {},
   "source": [
    "### Práctica 5.1\n",
    "\n",
    "Genere una lista de 6 elementos dentro de la variable `marcas`."
   ]
  },
  {
   "cell_type": "code",
   "execution_count": null,
   "metadata": {},
   "outputs": [],
   "source": []
  },
  {
   "cell_type": "markdown",
   "metadata": {},
   "source": [
    "### Práctica 5.2\n",
    "\n",
    "Agregue la palabra `micrómetro` al arreglo `herramientas_medición`:\n",
    "\n",
    "`herramientas_medicion = ['vernier', 'goniómetro', 'termómetro', 'báscula', 'nivel']`"
   ]
  },
  {
   "cell_type": "code",
   "execution_count": null,
   "metadata": {},
   "outputs": [],
   "source": []
  },
  {
   "cell_type": "markdown",
   "metadata": {},
   "source": [
    "### Práctica 5.3\n",
    "\n",
    "Utilice el método `pop()` para remover el segundo elemento de la lista `colores`, almacene el color descartado en la variable `eliminado`.\n",
    "\n",
    "```\n",
    "colores = ['rojo','negro','verde','azul']\n",
    "```"
   ]
  },
  {
   "cell_type": "code",
   "execution_count": null,
   "metadata": {},
   "outputs": [],
   "source": []
  },
  {
   "cell_type": "markdown",
   "metadata": {},
   "source": [
    "---\n",
    "---"
   ]
  },
  {
   "cell_type": "markdown",
   "metadata": {},
   "source": [
    "# 6. Diccionarios\n",
    "\n",
    "Son estructuras de datos que permiten almacenar y organizar elementos de manera asociativa. A diferencia de las listas, donde los parámetros se identifican por su índice, en los diccionarios se hace mediante una `clave` única. Cada una de ellas se relaciona con un `valor` y esta vinculación se conoce como una `clave-valor`.\n",
    "\n",
    "Los diccionarios en `Python` se representan entre llaves $\\{\\, \\}$ cuya sintaxis se ilustra a continuación:\n",
    "\n",
    "```\n",
    "diccionario = {clave1: valor1, clave2: valor2, clave3: valor3, ...}\n",
    "```\n",
    "\n",
    "Una de las ventajas principales es que proporcionan un acceso rápido a los valores utilizando las claves, lo que los hace ideales para buscar y recuperar información en grandes conjuntos de datos. Además, estas estructuras son mutables, por lo que es posible agregar, modificar y eliminar elementos después de que han sido creados."
   ]
  },
  {
   "cell_type": "markdown",
   "metadata": {},
   "source": [
    "---"
   ]
  },
  {
   "cell_type": "markdown",
   "metadata": {},
   "source": [
    "### Ejemplo 6.1\n",
    "\n",
    "Genere un diccionario llamado `alumno` con claves `parcial_1` y `parcial_2`, los valores serán las calificaciones `8.5` y `9.2`, respectivamente.\n",
    "\n",
    "```\n",
    "alumno = {'parcial_1':8.5, 'parcial_2':9.2}\n",
    "print(alumno)\n",
    "```"
   ]
  },
  {
   "cell_type": "code",
   "execution_count": null,
   "metadata": {},
   "outputs": [],
   "source": []
  },
  {
   "cell_type": "markdown",
   "metadata": {},
   "source": [
    "> 🔑 **Nota:** Las claves son únicas, es decir, no deben repetirse. Por otro lado, los valores sí pueden duplicarse."
   ]
  },
  {
   "cell_type": "markdown",
   "metadata": {},
   "source": [
    "### Ejemplo 6.2\n",
    "\n",
    "Empleando los datos del ejemplo anterior, almacene la calificación de `parcial_1` en una variable llamada `calif_1` y muéstrela en pantalla.\n",
    "\n",
    "```\n",
    "alumno = {'parcial_1':8.5, 'parcial_2':9.2}\n",
    "calif_1 = alumno['parcial_1']\n",
    "print(calif_1)\n",
    "```"
   ]
  },
  {
   "cell_type": "code",
   "execution_count": null,
   "metadata": {},
   "outputs": [],
   "source": [
    "alumno = {'parcial_1':8.5, 'parcial_2':9.2}\n"
   ]
  },
  {
   "cell_type": "markdown",
   "metadata": {},
   "source": [
    "> 🔑 **Nota:** El orden de los pares `clave-valor` es irrelevante. Para acceder a algún contenido se realiza a través de la `clave`."
   ]
  },
  {
   "cell_type": "markdown",
   "metadata": {},
   "source": [
    "### Ejemplo 6.3\n",
    "\n",
    "Desarrolle un nuevo diccionario llamado `alumno` en el cual se consideren los siguientes conjuntos de `clave-valor`:\n",
    "\n",
    "```\n",
    "nombre: Vicente\n",
    "apellido: Nario\n",
    "tareas: 9.5\n",
    "faltas: 2\n",
    "```"
   ]
  },
  {
   "cell_type": "code",
   "execution_count": null,
   "metadata": {},
   "outputs": [],
   "source": []
  },
  {
   "cell_type": "markdown",
   "metadata": {},
   "source": [
    "### Ejemplo 6.4\n",
    "\n",
    "Para el ejemplo previo, establezca una variable llamada `consulta` donde almacene el `valor` de `faltas`. Muestre el resultado en pantalla.\n",
    "\n",
    "```\n",
    "alumno = {'nombre':'Vicente', 'apellido':'Nario', 'tareas':9.5, 'faltas':2}\n",
    "consulta = alumno['faltas']\n",
    "print(consulta)\n",
    "```"
   ]
  },
  {
   "cell_type": "code",
   "execution_count": null,
   "metadata": {},
   "outputs": [],
   "source": [
    "alumno = {'nombre':'Vicente', 'apellido':'Nario', 'tareas':9.5, 'faltas':2}\n"
   ]
  },
  {
   "cell_type": "markdown",
   "metadata": {},
   "source": [
    "> 🔑 **Nota:** Es posible almacenar diferentes tipos de variables, enteros, flotantes, cadenas de texto, listas e incluso otro diccionario."
   ]
  },
  {
   "cell_type": "markdown",
   "metadata": {},
   "source": [
    "### Ejemplo 6.5\n",
    "\n",
    "Defina una nueva estructura llamada `alumno` conformado por los siguientes conjuntos de `clave-valor`:\n",
    "\n",
    "```\n",
    "'datos':{'matricula':00001, 'nombre':'Vicente', 'apellido':'Nario'}\n",
    "'parciales':[8.5, 9.2]\n",
    "'puntos_taller': 140\n",
    "'TOEFL': False\n",
    "```"
   ]
  },
  {
   "cell_type": "code",
   "execution_count": null,
   "metadata": {},
   "outputs": [],
   "source": [
    "alumno = {'datos':{},\n",
    "'parciales':[],\n",
    "'puntos_taller': ,\n",
    "'TOEFL': }\n",
    "print(alumno)"
   ]
  },
  {
   "cell_type": "markdown",
   "metadata": {},
   "source": [
    "> 🔑 **Nota:** Para acceder al valor asociado de una clave, se proporciona el nombre del diccionario seguido de la clave escrita entre corchetes [ ]."
   ]
  },
  {
   "cell_type": "markdown",
   "metadata": {},
   "source": [
    "### Ejemplo 6.6\n",
    "\n",
    "Genere una variable llamada `consulta` con la cual pueda acceder a:\n",
    "- el valor de los puntos de taller,\n",
    "- la segunda calificación de la clave parciales,\n",
    "- al nombre de la clave datos.\n",
    "\n",
    "Utilice el siguiente diccionario:\n",
    "\n",
    "```\n",
    "consulta1 = alumno['puntos_taller']\n",
    "print(consulta1)\n",
    "consulta2 = alumno['parciales'][1]\n",
    "print(consulta2)\n",
    "consulta3 = alumno['datos']['nombre']\n",
    "print(consulta3)\n",
    "```"
   ]
  },
  {
   "cell_type": "code",
   "execution_count": null,
   "metadata": {},
   "outputs": [],
   "source": [
    "alumno = {'datos':{'matricula':'00001', 'nombre':'Vicente', 'apellido':'Nario'}, # Diccionario\n",
    "'parciales':[8.5, 9.2], # Lista\n",
    "'puntos_taller': 140, # Valor entero\n",
    "'TOEFL': True} # Valor booleano\n"
   ]
  },
  {
   "cell_type": "markdown",
   "metadata": {},
   "source": [
    "> 🔑 **Nota:** Para agregar una `clave-valor`, se proporciona el nombre del diccionario seguido de la nueva `clave` entre corchetes y su respectivo `valor`."
   ]
  },
  {
   "cell_type": "markdown",
   "metadata": {},
   "source": [
    "### Ejemplo 6.7\n",
    "\n",
    "Utilice el diccionario generado en el **Ejemplo 6.2**, agregue una nueva clave llamada `final` que contenga el promedio de las calificaciones parciales 1 y 2.\n",
    "\n",
    "```\n",
    "alumno = {'parcial_1':8.5, 'parcial_2':9.2}\n",
    "alumno['final'] = (alumno['parcial_1'] + alumno['parcial_2']) / 2\n",
    "print(alumno)\n",
    "```"
   ]
  },
  {
   "cell_type": "code",
   "execution_count": null,
   "metadata": {},
   "outputs": [],
   "source": [
    "alumno = {'parcial_1':8.5, 'parcial_2':9.2}\n"
   ]
  },
  {
   "cell_type": "markdown",
   "metadata": {},
   "source": [
    "> 🔑 **Nota:** Para modificar algún parámetro, se debe proporcionar el nombre del diccionario con la `clave` entre corchetes y después el nuevo `valor` asociado."
   ]
  },
  {
   "cell_type": "markdown",
   "metadata": {},
   "source": [
    "### Ejemplo 6.8\n",
    "\n",
    "Considere el **Ejemplo 6.5**, cambie a `True` el valor de la clave `TOEFL`.\n",
    "\n",
    "```\n",
    "alumno = {'datos':{'matricula':'00001', 'nombre':'Vicente', 'apellido':'Nario'},\n",
    "'parciales':[8.5, 9.2],\n",
    "'puntos_taller': 140,\n",
    "'TOEFL': False}\n",
    "alumno['TOEFL'] = True\n",
    "print(alumno['TOEFL'])\n",
    "```"
   ]
  },
  {
   "cell_type": "code",
   "execution_count": null,
   "metadata": {},
   "outputs": [],
   "source": [
    "alumno = {'datos':{'matricula':'00001', 'nombre':'Vicente', 'apellido':'Nario'},\n",
    "'parciales':[8.5, 9.2],\n",
    "'puntos_taller': 140,\n",
    "'TOEFL': False}\n"
   ]
  },
  {
   "cell_type": "markdown",
   "metadata": {},
   "source": [
    "> 🔑 **Nota:** Para eliminar un conjunto `clave-valor` se emplea la función `del`, proporcionando el nombre del diccionario y la `clave` escrita entre corchetes."
   ]
  },
  {
   "cell_type": "markdown",
   "metadata": {},
   "source": [
    "### Ejemplo 6.8\n",
    "\n",
    "Elimine la clave `matricula` del **Ejemplo 6.5**.\n",
    "\n",
    "```\n",
    "alumno = {'datos':{'matricula':'00001', 'nombre':'Vicente', 'apellido':'Nario'},\n",
    "'parciales':[8.5, 9.2],\n",
    "'puntos_taller': 140,\n",
    "'TOEFL': False}\n",
    "del alumno['datos']['matricula']\n",
    "print(alumno)\n",
    "```"
   ]
  },
  {
   "cell_type": "code",
   "execution_count": null,
   "metadata": {},
   "outputs": [],
   "source": [
    "alumno = {'datos':{'matricula':'00001', 'nombre':'Vicente', 'apellido':'Nario'},\n",
    "'parciales':[8.5, 9.2],\n",
    "'puntos_taller': 140,\n",
    "'TOEFL': False}\n"
   ]
  },
  {
   "cell_type": "markdown",
   "metadata": {},
   "source": [
    "---"
   ]
  },
  {
   "cell_type": "markdown",
   "metadata": {},
   "source": [
    "### Práctica 6.1\n",
    "\n",
    "Genere y muestre en pantalla un diccionario llamado `auto` que contenga la siguiente información:\n",
    "\n",
    "```\n",
    "color: negro\n",
    "modelo: 2022\n",
    "marca: Ford\n",
    "```"
   ]
  },
  {
   "cell_type": "code",
   "execution_count": null,
   "metadata": {},
   "outputs": [],
   "source": []
  },
  {
   "cell_type": "markdown",
   "metadata": {},
   "source": [
    "### Práctica 6.2\n",
    "\n",
    "Para el diccionario mostrado, defina una función `print()` que devuelva el valor de la `nota2`."
   ]
  },
  {
   "cell_type": "code",
   "execution_count": null,
   "metadata": {},
   "outputs": [],
   "source": [
    "clase = {'alumnos':{'nombre1':'Pedro', 'nombre2':'Carlos', 'nombre3':'Luis'},\n",
    "        'calificaciones':{'nota1':9.5, 'nota2':7.5, 'nota3':8.4}}\n",
    "print()"
   ]
  },
  {
   "cell_type": "markdown",
   "metadata": {},
   "source": [
    "### Práctica 6.3\n",
    "\n",
    "De acuerdo con la siguiente estructura, actualice y agregue la siguiente información. **No debe editar la línea de código ya escrita**.\n",
    "\n",
    "```\n",
    "color: azul\n",
    "modelo: 2023\n",
    "marca: Nissan\n",
    "kilometros: 15000\n",
    "disponibilidad: True\n",
    "```"
   ]
  },
  {
   "cell_type": "code",
   "execution_count": null,
   "metadata": {},
   "outputs": [],
   "source": [
    "auto = {'color':'negro', 'modelo':2022, 'marca':'Ford'}\n",
    "print(auto)"
   ]
  },
  {
   "cell_type": "markdown",
   "metadata": {},
   "source": [
    "---\n",
    "---"
   ]
  },
  {
   "cell_type": "markdown",
   "metadata": {},
   "source": [
    "# 7. Tuplas"
   ]
  },
  {
   "cell_type": "markdown",
   "metadata": {},
   "source": [
    "Se trata de una disposición de datos similar a una `lista`, sin embargo, su contenido es fijo y no se puede modificar. Son especialmente útiles cuando se utilizan como claves en un diccionario, ya que su inmutabilidad garantiza que no cambiarán y se mantendrán como claves válidas.\n",
    "\n",
    "Las `tuplas` se representan entre paréntesis $(\\,)$ y consisten en una serie de elementos separados por comas. Aunque son inmutables, es posible almacenar cualquier tipo de dato: números, cadenas de texto, booleanos, otras tuplas, listas, diccionarios, entre otros.\n",
    "\n",
    "La sintaxis general para crear una `tupla` es la siguiente:\n",
    "\n",
    "`tupla = (elemento1, elemento2, elemento3, ...)`"
   ]
  },
  {
   "cell_type": "markdown",
   "metadata": {},
   "source": [
    "Para acceder a sus elementos se hace uso de los índices:\n",
    "\n",
    "```\n",
    "numeros = (1, 2, 3, 4, 5)\n",
    "print(numeros[0])  # Imprime el primer elemento (1)\n",
    "print(numeros[2])  # Imprime el tercer elemento (3)\n",
    "```"
   ]
  },
  {
   "cell_type": "markdown",
   "metadata": {},
   "source": [
    "---"
   ]
  },
  {
   "cell_type": "markdown",
   "metadata": {},
   "source": [
    "### Ejemplo 7.1\n",
    "\n",
    "Genere una `tupla` llamada `dimensiones` que contenga los siguientes valores $80, 120, 200$. Muestre en pantalla el tipo de variable y el segundo valor de la lista.\n",
    "\n",
    "```\n",
    "dimensiones = (80,120,200)\n",
    "print(type(dimensiones))\n",
    "print(dimensiones[1])\n",
    "```"
   ]
  },
  {
   "cell_type": "code",
   "execution_count": null,
   "metadata": {},
   "outputs": [],
   "source": []
  },
  {
   "cell_type": "markdown",
   "metadata": {},
   "source": [
    "> 🔑 **Nota:** Las `tuplas` son definidas por la presencia de una *coma*, los paréntesis hacen que se identifiquen claramente, aún sin ser indispensables."
   ]
  },
  {
   "cell_type": "markdown",
   "metadata": {},
   "source": [
    "### Ejemplo 7.2\n",
    "\n",
    "Almacene los siguientes valores $25,10,32$ en la variable `distancias`. Muestre en pantalla el tipo de variable y el tercer valor. **No utilice paréntesis para crear la `tupla`.**\n",
    "\n",
    "```\n",
    "distancias = 25,10,32\n",
    "print(type(distancias))\n",
    "print(distancias[2])\n",
    "```"
   ]
  },
  {
   "cell_type": "code",
   "execution_count": null,
   "metadata": {},
   "outputs": [],
   "source": []
  },
  {
   "cell_type": "markdown",
   "metadata": {},
   "source": [
    "> 🔑 **Nota:** Se debe recordar que las `tuplas` son inmutables, es decir, no se puede editar su contenido."
   ]
  },
  {
   "cell_type": "markdown",
   "metadata": {},
   "source": [
    "### Ejemplo 7.3\n",
    "\n",
    "Considere el Ejemplo 7.1, después cambie el valor $80$ por $60$. Muestre el resultado en pantalla.\n",
    "\n",
    "```\n",
    "dimensiones = (80,120,200)\n",
    "dimensiones[0] = 60\n",
    "print(dimensiones)\n",
    "```"
   ]
  },
  {
   "cell_type": "code",
   "execution_count": null,
   "metadata": {},
   "outputs": [],
   "source": [
    "dimensiones = (80,120,200)\n"
   ]
  },
  {
   "cell_type": "markdown",
   "metadata": {},
   "source": [
    "> 🔑 **Nota:** Pueden contener diferentes tipos de datos: enteros, decimales, cadenas de texto, diccionarios e incluso otras `tuplas`. Para acceder a cualquiera de sus elementos se emplean los índices."
   ]
  },
  {
   "cell_type": "markdown",
   "metadata": {},
   "source": [
    "### Ejemplo 7.4\n",
    "\n",
    "Defina una `tupla` que contenga los datos mostrados. Imprima en pantalla el valor `B`.\n",
    "\n",
    "```\n",
    "mi_tupla = (16, 3.14159, ('A','B','C'),[2,3,5])\n",
    "print(mi_tupla[2][1])\n",
    "```"
   ]
  },
  {
   "cell_type": "code",
   "execution_count": null,
   "metadata": {},
   "outputs": [],
   "source": [
    "mi_tupla = (16, 3.14159, ('A','B','C'),[2,3,5])\n"
   ]
  },
  {
   "cell_type": "markdown",
   "metadata": {},
   "source": [
    "> 🔑 **Nota:** Trabajan con los métodos `index()` y `count()`. El primero devuelve el índice del valor solicitado, mientras que el segundo, muestra cuántas veces se repite ese dato."
   ]
  },
  {
   "cell_type": "markdown",
   "metadata": {},
   "source": [
    "### Ejemplo 7.5\n",
    "\n",
    "Determine el índice en el cuál se encuentra el valor $8.5$.\n",
    "\n",
    "```\n",
    "calificaciones = (8.2, 9.5, 7.5, 8.5, 9.5)\n",
    "print(calificaciones.index(8.5))\n",
    "```"
   ]
  },
  {
   "cell_type": "code",
   "execution_count": null,
   "metadata": {},
   "outputs": [],
   "source": [
    "calificaciones = (8.2, 9.5, 7.5, 8.5, 9.5)\n"
   ]
  },
  {
   "cell_type": "markdown",
   "metadata": {},
   "source": [
    "### Ejemplo 7.6\n",
    "\n",
    "Identifique cuántas veces se repite el valor $9.5$ en la siguiente `tupla`.\n",
    "\n",
    "```\n",
    "calificaciones = (8.2, 9.5, 7.5, 8.5, 9.5)\n",
    "print(calificaciones.count(9.5))\n",
    "```"
   ]
  },
  {
   "cell_type": "code",
   "execution_count": null,
   "metadata": {},
   "outputs": [],
   "source": [
    "calificaciones = (8.2, 9.5, 7.5, 8.5, 9.5)\n"
   ]
  },
  {
   "cell_type": "markdown",
   "metadata": {},
   "source": [
    "---"
   ]
  },
  {
   "cell_type": "markdown",
   "metadata": {},
   "source": [
    "### Práctica 7.1\n",
    "\n",
    "Se han tomado 10 mediciones de espesores a una placa. Indique cuántas veces se repite el valor 1.47 mm en la `tupla` mostrada."
   ]
  },
  {
   "cell_type": "code",
   "execution_count": null,
   "metadata": {},
   "outputs": [],
   "source": [
    "espesores = (1.47, 1.42, 1.47, 1.50, 1.57, 1.47, 1.55, 1.54, 1.46, 1.33)"
   ]
  },
  {
   "cell_type": "markdown",
   "metadata": {},
   "source": [
    "### Práctica 7.2\n",
    "\n",
    "Para el ejercicio anterior, encuentre el índice del valor 1.46."
   ]
  },
  {
   "cell_type": "code",
   "execution_count": null,
   "metadata": {},
   "outputs": [],
   "source": []
  },
  {
   "cell_type": "markdown",
   "metadata": {},
   "source": [
    "---\n",
    "---"
   ]
  },
  {
   "cell_type": "markdown",
   "metadata": {},
   "source": [
    "# 8. Conjuntos o `sets`\n",
    "\n",
    "Es una colección desordenada de objetos únicos. Se trata de una estructura de datos mutable, lo que significa que se pueden agregar o eliminar elementos después de su creación. Por otro lado, no pueden contener listas o diccionarios.\n",
    "\n",
    "Los `sets` se definen utilizando llaves $\\{ \\, \\}$:\n",
    "\n",
    "`mi_set = {elemento1, elemento2, elemento3, ...}`\n",
    "\n",
    "o con la función `set([...])`:\n",
    "\n",
    "`mi_set = set([elemento1, elemento2, elemento3, ...])`\n",
    "\n",
    "Una característica importante de este tipo de datos es que eliminan automáticamente los parámetros duplicados. Si se intenta incluir un valor que ya existe simplemente no se tomará en cuenta."
   ]
  },
  {
   "cell_type": "markdown",
   "metadata": {},
   "source": [
    "---"
   ]
  },
  {
   "cell_type": "markdown",
   "metadata": {},
   "source": [
    "### Ejemplo 8.1\n",
    "\n",
    "Genere un `set` de los primeros números primos que hay del 1 al 20. Utilice llaves y muestre el tipo de dato en pantalla.\n",
    "\n",
    "```\n",
    "primos = {2,3,5,7,11,13,17,19}\n",
    "print(type(primos))\n",
    "```"
   ]
  },
  {
   "cell_type": "code",
   "execution_count": null,
   "metadata": {},
   "outputs": [],
   "source": []
  },
  {
   "cell_type": "markdown",
   "metadata": {},
   "source": [
    "### Ejemplo 8.2\n",
    "\n",
    "Repita el ejemplo anterior ahora utilizando la función `set()` para definir el conjunto.\n",
    "\n",
    "```\n",
    "primos = set([2,3,5,7,11,13,17,19])\n",
    "print(type(primos))\n",
    "```"
   ]
  },
  {
   "cell_type": "code",
   "execution_count": null,
   "metadata": {},
   "outputs": [],
   "source": []
  },
  {
   "cell_type": "markdown",
   "metadata": {},
   "source": [
    "> 🔑 **Nota:** En un `set` no es posible acceder a sus elementos empleando índices."
   ]
  },
  {
   "cell_type": "markdown",
   "metadata": {},
   "source": [
    "### Ejemplo 8.3\n",
    "\n",
    "Utilice el conjunto de datos definido en el **Ejemplo 8.1** e imprima el pantalla el segundo valor.\n",
    "\n",
    "```\n",
    "primos = {2,3,5,7,11,13,17,19}\n",
    "print(primos[1])\n",
    "```"
   ]
  },
  {
   "cell_type": "code",
   "execution_count": null,
   "metadata": {},
   "outputs": [],
   "source": [
    "primos = {2,3,5,7,11,13,17,19}\n"
   ]
  },
  {
   "cell_type": "markdown",
   "metadata": {},
   "source": [
    "### Ejemplo 8.4\n",
    "\n",
    "Para el conjunto de números pares mostrado, verifique que el `set` **no** admite parámetros repetidos.\n",
    "\n",
    "```\n",
    "pares = {2,4,6,8,2,4,6,8}\n",
    "print(pares)\n",
    "```"
   ]
  },
  {
   "cell_type": "code",
   "execution_count": null,
   "metadata": {},
   "outputs": [],
   "source": [
    "pares = {2,4,6,8,2,4,6,8}\n"
   ]
  },
  {
   "cell_type": "markdown",
   "metadata": {},
   "source": [
    "> 🔑 **Nota:** Para concatenar 2 `sets` se debe emplear la función `union()`."
   ]
  },
  {
   "cell_type": "markdown",
   "metadata": {},
   "source": [
    "### Ejemplo 8.5\n",
    "\n",
    "Una los dos conjuntos mostrados en un tercero llamado `numeros`, imprima en pantalla el resultado.\n",
    "\n",
    "```\n",
    "pares = {2,4,6,8}\n",
    "impares = {1,3,5,7}\n",
    "numeros = pares.union(impares)\n",
    "print(numeros)\n",
    "```"
   ]
  },
  {
   "cell_type": "code",
   "execution_count": null,
   "metadata": {},
   "outputs": [],
   "source": [
    "pares = {2,4,6,8}\n",
    "impares = {1,3,5,7}\n"
   ]
  },
  {
   "cell_type": "markdown",
   "metadata": {},
   "source": [
    "> 🔑 **Nota:** Los `sets` **no** puede contener `listas` ni `diccionarios`."
   ]
  },
  {
   "cell_type": "markdown",
   "metadata": {},
   "source": [
    "### Ejemplo 8.6\n",
    "\n",
    "Verifique la veracidad de la nota anterior. Trate de unir el conjunto `C1` con cada uno de los parámetros mostrados:\n",
    "\n",
    "```\n",
    "C1 = {2,4,6}\n",
    "texto = \"A-B-C\"\n",
    "tupla = (6,8,10)\n",
    "diccionario = {clase:\"alumnos\"}\n",
    "```"
   ]
  },
  {
   "cell_type": "code",
   "execution_count": null,
   "metadata": {},
   "outputs": [],
   "source": [
    "C1 = {2,4,6}\n",
    "print(C1)"
   ]
  },
  {
   "cell_type": "code",
   "execution_count": null,
   "metadata": {},
   "outputs": [],
   "source": [
    "texto = \"A-B-C\"\n",
    "C1 = C1.union(texto)\n",
    "print(C1)"
   ]
  },
  {
   "cell_type": "code",
   "execution_count": null,
   "metadata": {},
   "outputs": [],
   "source": [
    "tupla = (6,8,10)\n",
    "C1 = C1.union(tupla)\n",
    "print(C1)"
   ]
  },
  {
   "cell_type": "code",
   "execution_count": null,
   "metadata": {},
   "outputs": [],
   "source": [
    "clase = {clase:\"alumnos\"}\n",
    "C1 = C1.union(clase)\n",
    "print(C1)"
   ]
  },
  {
   "cell_type": "markdown",
   "metadata": {},
   "source": [
    "> 🔑 **Nota:** Para agregar un nuevo elemento se puede emplear `add()`."
   ]
  },
  {
   "cell_type": "markdown",
   "metadata": {},
   "source": [
    "### Ejemplo 8.7\n",
    "\n",
    "Utilice el método `add()` para incluir el valor `7` al conjunto de números primos mostrado.\n",
    "\n",
    "```\n",
    "primos = {2,3,5}\n",
    "primos.add(7)\n",
    "print(primos)\n",
    "```"
   ]
  },
  {
   "cell_type": "code",
   "execution_count": null,
   "metadata": {},
   "outputs": [],
   "source": [
    "primos = {2,3,5}\n"
   ]
  },
  {
   "cell_type": "markdown",
   "metadata": {},
   "source": [
    "> 🔑 **Nota:** Para suprimir un elemento se puede hacer uso de `remove()`."
   ]
  },
  {
   "cell_type": "markdown",
   "metadata": {},
   "source": [
    "### Ejemplo 8.8\n",
    "\n",
    "Aplique `remove()` para eliminar el valor 3 del conjunto.\n",
    "\n",
    "```\n",
    "primos = {2,3,5,7}\n",
    "primos.remove(3)\n",
    "print(primos)\n",
    "```"
   ]
  },
  {
   "cell_type": "code",
   "execution_count": null,
   "metadata": {},
   "outputs": [],
   "source": [
    "primos = {2,3,5,7}\n"
   ]
  },
  {
   "cell_type": "markdown",
   "metadata": {},
   "source": [
    "> 🔑 **Nota:** Otra forma de quitar parámetros es con `discard()`, esta función **no** genera un error si el elemento no se encuentra."
   ]
  },
  {
   "cell_type": "markdown",
   "metadata": {},
   "source": [
    "### Ejemplo 8.9\n",
    "\n",
    "Use `discard()` para suprimir `uva` del siguiente conjunto. Posteriormente, pruebe con `remove()` y analice las diferencias.\n",
    "\n",
    "`frutas = {'manzana', 'pera', 'naranja'}`"
   ]
  },
  {
   "cell_type": "code",
   "execution_count": null,
   "metadata": {},
   "outputs": [],
   "source": [
    "frutas = {'manzana', 'pera', 'naranja'}\n",
    "frutas.discard('uvas')\n",
    "print(frutas)"
   ]
  },
  {
   "cell_type": "code",
   "execution_count": null,
   "metadata": {},
   "outputs": [],
   "source": [
    "frutas.remove('uvas')\n",
    "print(frutas)"
   ]
  },
  {
   "cell_type": "markdown",
   "metadata": {},
   "source": [
    "> 🔑 **Nota:** El método `clear()` elimina todos los elementos."
   ]
  },
  {
   "cell_type": "markdown",
   "metadata": {},
   "source": [
    "### Ejemplo 8.10\n",
    "\n",
    "Emplee `clear()` y muestre el resultado en pantalla.\n",
    "\n",
    "```\n",
    "frutas = {'manzana', 'pera', 'naranja', 'uva'}\n",
    "frutas.clear()\n",
    "print(frutas)\n",
    "```"
   ]
  },
  {
   "cell_type": "code",
   "execution_count": null,
   "metadata": {},
   "outputs": [],
   "source": [
    "frutas = {'manzana', 'pera', 'naranja', 'uva'}\n"
   ]
  },
  {
   "cell_type": "markdown",
   "metadata": {},
   "source": [
    "---"
   ]
  },
  {
   "cell_type": "markdown",
   "metadata": {},
   "source": [
    "### Práctica 8.1\n",
    "\n",
    "Una los siguientes `sets` en uno solo llamado `alimentos`.\n",
    "\n",
    "```\n",
    "frutas = {'fresa', 'melón', 'mango'}\n",
    "cereales = {'maíz', 'trigo', 'arroz'}\n",
    "```"
   ]
  },
  {
   "cell_type": "code",
   "execution_count": null,
   "metadata": {},
   "outputs": [],
   "source": []
  },
  {
   "cell_type": "markdown",
   "metadata": {},
   "source": [
    "### Práctica 8.2\n",
    "\n",
    "Del conjunto `unidades_longitud` agregue la unidad `dm` y presente la salida en pantalla."
   ]
  },
  {
   "cell_type": "code",
   "execution_count": null,
   "metadata": {},
   "outputs": [],
   "source": [
    "unidades_longitud = {'cm', 'ft', 'm', 'mm'}"
   ]
  },
  {
   "cell_type": "markdown",
   "metadata": {},
   "source": [
    "### Práctica 8.3\n",
    "\n",
    "Con los datos de la práctica anterior, elimine la unidad que no pertenezca al Sistema Internacional."
   ]
  },
  {
   "cell_type": "code",
   "execution_count": null,
   "metadata": {},
   "outputs": [],
   "source": []
  },
  {
   "cell_type": "markdown",
   "metadata": {},
   "source": [
    "---\n",
    "---"
   ]
  },
  {
   "cell_type": "markdown",
   "metadata": {},
   "source": [
    "# 9. Booleanos\n",
    "\n",
    "Son tipos de datos que representan dos valores: verdadero (`True`) y falso (`False`), fundamentales para la lógica y la toma de decisiones en los programas ya que permiten evaluar condiciones y realizar operaciones de comparación.\n",
    "\n",
    "Es importante tener en cuenta que las palabras clave `True` y `False` deben ir con la primera letra en mayúscula, ya que `Python` distingue entre mayúsculas y minúsculas.\n",
    "\n",
    "Las operaciones de comparación empleadas con *booleanos* son: igualdad (`==`), desigualdad (`!=`), mayor que (`>`), menor que (`<`), mayor o igual que (`>=`) y menor o igual que (`<=`):\n",
    "\n",
    "```\n",
    "a = 5\n",
    "b = 7\n",
    "\n",
    "igual: a == b  # False\n",
    "diferente: a != b  # True\n",
    "mayor que: a > b   # False\n",
    "menor que: a < b   # True\n",
    "mayor igual que: a >= b  # False\n",
    "menor igual que: a <= b  # True\n",
    "```"
   ]
  },
  {
   "cell_type": "markdown",
   "metadata": {},
   "source": [
    "---"
   ]
  },
  {
   "cell_type": "markdown",
   "metadata": {},
   "source": [
    "#### Para los ejemplos 9.1 a 9.3, compruebe si se cumplen las condiciones planteadas utilizando expresiones `booleanas`."
   ]
  },
  {
   "cell_type": "markdown",
   "metadata": {},
   "source": [
    "### Ejemplo 9.1\n",
    "\n",
    "$d_1 = \\dfrac{1}{8}$, es mayor que, $d_2 = \\dfrac{3}{8}$\n",
    "\n",
    "```\n",
    "d1 = 1/8\n",
    "d2 = 3/8\n",
    "print(d1 > d2)\n",
    "```"
   ]
  },
  {
   "cell_type": "code",
   "execution_count": null,
   "metadata": {},
   "outputs": [],
   "source": [
    "d1 = 1/8\n",
    "d2 = 3/8\n"
   ]
  },
  {
   "cell_type": "markdown",
   "metadata": {},
   "source": [
    "> 🔑 **Nota:** En `Python`, como en muchos lenguajes de programación, al emplear un solo símbolo de igualdad (`=`) se está haciendo una asignación de valor. Por otro lado, cuando se usan dos símbolos de igualdad (`==`) se refiere a una comparación."
   ]
  },
  {
   "cell_type": "markdown",
   "metadata": {},
   "source": [
    "### Ejemplo 9.2\n",
    "\n",
    "$d_1 = \\dfrac{1}{4}$, es mayor igual que, $d_2 = \\dfrac{2}{8}$\n",
    "\n",
    "```\n",
    "d1 = 1/4\n",
    "d2 = 2/8\n",
    "print(d1 >= d2)\n",
    "```"
   ]
  },
  {
   "cell_type": "code",
   "execution_count": null,
   "metadata": {},
   "outputs": [],
   "source": [
    "d1 = 1/4\n",
    "d2 = 2/8\n"
   ]
  },
  {
   "cell_type": "markdown",
   "metadata": {},
   "source": [
    "### Ejemplo 9.3\n",
    "\n",
    "$d_1 = \\dfrac{1}{4}$, es diferente que, $d_2 = \\dfrac{2}{8}$\n",
    "\n",
    "```\n",
    "d1 = 1/4\n",
    "d2 = 2/8\n",
    "print(d1 != d2)\n",
    "```"
   ]
  },
  {
   "cell_type": "code",
   "execution_count": null,
   "metadata": {},
   "outputs": [],
   "source": [
    "d1 = 1/4\n",
    "d2 = 2/8\n"
   ]
  },
  {
   "cell_type": "markdown",
   "metadata": {},
   "source": [
    "> 🔑 **Nota:** Los `booleanos` son utilizados para determinar si una valor forma parte de un grupo o lista de elementos."
   ]
  },
  {
   "cell_type": "markdown",
   "metadata": {},
   "source": [
    "### Ejemplo 9.4\n",
    "\n",
    "Verifique si `EST` se encuentra dentro de la siguiente lista:\n",
    "\n",
    "```\n",
    "materias = ['IN', 'INE', 'BTR', 'PRE', 'DTI', 'FUF']\n",
    "print('EST' in materias)\n",
    "```"
   ]
  },
  {
   "cell_type": "code",
   "execution_count": null,
   "metadata": {},
   "outputs": [],
   "source": [
    "materias = ['IN', 'INE', 'BTR', 'PRE', 'DTI', 'FUF']\n"
   ]
  },
  {
   "cell_type": "markdown",
   "metadata": {},
   "source": [
    "---"
   ]
  },
  {
   "cell_type": "markdown",
   "metadata": {},
   "source": [
    "### Práctica 9.1\n",
    "\n",
    "Usando operaciones `booleanas`, verifique que la materia `MEC` se cursa en el quinto cuatrimestre de la carrera de Diseño Industrial.\n",
    "\n",
    "`cuatri5 = ['IN', 'HAO', 'PMT', 'TCV', 'MEC', 'SIM', 'EMM']`"
   ]
  },
  {
   "cell_type": "code",
   "execution_count": null,
   "metadata": {},
   "outputs": [],
   "source": []
  },
  {
   "cell_type": "markdown",
   "metadata": {},
   "source": [
    "### Práctica 9.2\n",
    "\n",
    "Indique si $num_1 = 6e3$ es mayor que $num_2 = 650e-2$."
   ]
  },
  {
   "cell_type": "code",
   "execution_count": null,
   "metadata": {},
   "outputs": [],
   "source": []
  },
  {
   "cell_type": "markdown",
   "metadata": {},
   "source": [
    "### Práctica 9.3\n",
    "\n",
    "Verifique si la raíz cúbica de 64 es igual a 4."
   ]
  },
  {
   "cell_type": "code",
   "execution_count": null,
   "metadata": {},
   "outputs": [],
   "source": []
  }
 ],
 "metadata": {
  "kernelspec": {
   "display_name": "upb_env",
   "language": "python",
   "name": "python3"
  },
  "language_info": {
   "codemirror_mode": {
    "name": "ipython",
    "version": 3
   },
   "file_extension": ".py",
   "mimetype": "text/x-python",
   "name": "python",
   "nbconvert_exporter": "python",
   "pygments_lexer": "ipython3",
   "version": "3.11.2"
  },
  "orig_nbformat": 4
 },
 "nbformat": 4,
 "nbformat_minor": 2
}
