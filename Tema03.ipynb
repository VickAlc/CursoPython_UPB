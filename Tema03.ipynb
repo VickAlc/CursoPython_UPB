{
 "cells": [
  {
   "attachments": {},
   "cell_type": "markdown",
   "metadata": {},
   "source": [
    "# 1. Método `index()`\n",
    "\n",
    "Este método se utiliza para obtener el índice de la primera ocurrencia de un valor en una lista o tupla. Básicamente busca el valor especificado en la lista o tupla y devuelve el índice de la primera ocurrencia del valor.\n",
    "\n",
    "El método `index()` tiene la siguiente sintaxis:\n",
    "```\n",
    "lista.index(valor, [inicio, [fin]])\n",
    "```\n",
    "\n",
    "- **valor**: Es el valor que se busca en la lista.\n",
    "- **inicio** (opcional): Es el índice desde donde se inicia la búsqueda. Por defecto es 0.\n",
    "- **fin** (opcional): Es el índice donde se detiene la búsqueda. Por defecto es el último índice de la lista."
   ]
  },
  {
   "attachments": {},
   "cell_type": "markdown",
   "metadata": {},
   "source": [
    "### Ejemplo 1.1\n",
    "Genere la lista mostrada y muetre en pantalla el índice de la fruta *naranja*.\n",
    "```\n",
    "frutas = ['manzana', 'pera', 'naranja', 'manzana', 'banana']\n",
    "```"
   ]
  },
  {
   "cell_type": "code",
   "execution_count": null,
   "metadata": {},
   "outputs": [],
   "source": [
    "frutas = ['manzana', 'pera', 'naranja', 'manzana', 'banana']\n",
    "indice = frutas.index('naranja')\n",
    "print(indice)"
   ]
  },
  {
   "attachments": {},
   "cell_type": "markdown",
   "metadata": {},
   "source": [
    "> 🔑 **Nota:** Si el valor especificado no se encuentra en la lista, se produce un error de tipo `ValueError`."
   ]
  },
  {
   "attachments": {},
   "cell_type": "markdown",
   "metadata": {},
   "source": [
    "### Ejemplot 1.2\n",
    "\n",
    "Genere la lista mostrada y muestre en pantalla el índice de la fruta *uvas*.\n",
    "```\n",
    "frutas = ['manzana', 'pera', 'naranja', 'manzana', 'banana']\n",
    "```"
   ]
  },
  {
   "cell_type": "code",
   "execution_count": null,
   "metadata": {},
   "outputs": [],
   "source": [
    "frutas = ['manzana', 'pera', 'naranja', 'manzana', 'banana']\n",
    "indice = frutas.index('uvas')\n",
    "print(indice)"
   ]
  },
  {
   "attachments": {},
   "cell_type": "markdown",
   "metadata": {},
   "source": [
    "> 🔑 **Nota:** El método `index()` también se puede utilizar en una cadena de texto para encontrar la posición de un carácter o subcadena."
   ]
  },
  {
   "attachments": {},
   "cell_type": "markdown",
   "metadata": {},
   "source": [
    "### Ejemplo 1.3\n",
    "\n",
    "Para la siguiente cadena de texto determine cuál es el índice de la letra *ñ*.\n",
    "```\n",
    "cadena = 'Diseño Industrial'\n",
    "```"
   ]
  },
  {
   "cell_type": "code",
   "execution_count": null,
   "metadata": {},
   "outputs": [],
   "source": [
    "cadena = 'Diseño Industrial'\n",
    "indice = cadena.index('ñ')\n",
    "print(indice)"
   ]
  },
  {
   "attachments": {},
   "cell_type": "markdown",
   "metadata": {},
   "source": [
    "> 🔑**Nota:** Los espacios vacíos y los signos de puntuación también son contados dentro de la secuencia."
   ]
  },
  {
   "attachments": {},
   "cell_type": "markdown",
   "metadata": {},
   "source": [
    "### Ejemplo 1.4\n",
    "\n",
    "Para la cadena de texto del ejemplo anterior, determine el índice de la subcadena *Industrial*."
   ]
  },
  {
   "cell_type": "code",
   "execution_count": null,
   "metadata": {},
   "outputs": [],
   "source": [
    "cadena = 'Diseño Industrial'\n",
    "indice = cadena.index('Industrial')\n",
    "print(indice)"
   ]
  },
  {
   "attachments": {},
   "cell_type": "markdown",
   "metadata": {},
   "source": [
    "> 🔑 **Nota:** El método `index()` realiza la búsqueda de izquierda a derecha y arroja el valor del primer elemento que encuentar."
   ]
  },
  {
   "attachments": {},
   "cell_type": "markdown",
   "metadata": {},
   "source": [
    "### Ejemplo 1.5\n",
    "\n",
    "Para la cadena de texto '*Diseño Industrial*', determine el índice de la letra '*i*'."
   ]
  },
  {
   "cell_type": "code",
   "execution_count": null,
   "metadata": {},
   "outputs": [],
   "source": [
    "cadena = 'Diseño Industrial'\n",
    "indice = cadena.index('i')\n",
    "print(indice)"
   ]
  },
  {
   "attachments": {},
   "cell_type": "markdown",
   "metadata": {},
   "source": [
    "> 🔑 **Nota:** Se puede emplear el método `rindex()` para realizar la búsqueda de derecha a izquierda."
   ]
  },
  {
   "attachments": {},
   "cell_type": "markdown",
   "metadata": {},
   "source": [
    "### Ejemplo 1.6\n",
    "\n",
    "Para la cadena de texto '*Diseño Industrial*', utilice el método `rindex()` para determine el índice de la letra '*i*'."
   ]
  },
  {
   "cell_type": "code",
   "execution_count": null,
   "metadata": {},
   "outputs": [],
   "source": [
    "cadena = 'Diseño Industrial'\n",
    "indice = cadena.rindex('i')\n",
    "print(indice)"
   ]
  },
  {
   "attachments": {},
   "cell_type": "markdown",
   "metadata": {},
   "source": [
    "> 🔑 **Nota:** En `Python`, el método `index()` también puede trabajar con índices negativos. Estos se cuentan desde el final de la lista o cadena, por lo que -1 se refiere al último elemento, -2 al penúltimo elemento y así sucesivamente."
   ]
  },
  {
   "attachments": {},
   "cell_type": "markdown",
   "metadata": {},
   "source": [
    "### Ejemplo 1.5\n",
    "\n",
    "Para la lista mostrada, muestre en pantalla el valor obtenido para el índice -1.\n",
    "```\n",
    "frutas = ['manzana', 'pera', 'naranja', 'manzana', 'banana']\n",
    "```"
   ]
  },
  {
   "cell_type": "code",
   "execution_count": null,
   "metadata": {},
   "outputs": [],
   "source": [
    "frutas = ['manzana', 'pera', 'naranja', 'manzana', 'banana']\n",
    "print(frutas[-1])"
   ]
  },
  {
   "attachments": {},
   "cell_type": "markdown",
   "metadata": {},
   "source": [
    "----"
   ]
  },
  {
   "attachments": {},
   "cell_type": "markdown",
   "metadata": {},
   "source": [
    "### Práctica 1.1\n",
    "\n",
    "Encuentra y muestra en pantalla qué caracter ocupa la quinta posición dentro de la siguiente palabra: \"*computadora*\"."
   ]
  },
  {
   "cell_type": "code",
   "execution_count": null,
   "metadata": {},
   "outputs": [],
   "source": []
  },
  {
   "attachments": {},
   "cell_type": "markdown",
   "metadata": {},
   "source": [
    "### Práctica 1.2\n",
    "\n",
    "Encuentra y muestra en pantalla el índice de la primera aparición de la palabra \"*diseño*\" en la siguiente frase:\n",
    "\n",
    "\"*Existen tres posibles respuestas a un diseño: sí, no y ¡wow! La última expresión es a la que se debe aspirar cuando se plantea un diseño*.\""
   ]
  },
  {
   "cell_type": "code",
   "execution_count": null,
   "metadata": {},
   "outputs": [],
   "source": []
  },
  {
   "attachments": {},
   "cell_type": "markdown",
   "metadata": {},
   "source": [
    "### Práctica 1.3\n",
    "\n",
    "Encuentra y muestra en pantalla el índice de la última aparición de la palabra \"*diseño*\" en la siguiente frase:\n",
    "\n",
    "\"*Existen tres posibles respuestas a un diseño: sí, no y ¡wow! La última expresión es a la que se debe aspirar cuando se plantea un diseño*.\""
   ]
  },
  {
   "cell_type": "code",
   "execution_count": null,
   "metadata": {},
   "outputs": [],
   "source": []
  },
  {
   "attachments": {},
   "cell_type": "markdown",
   "metadata": {},
   "source": [
    "----\n",
    "----"
   ]
  },
  {
   "attachments": {},
   "cell_type": "markdown",
   "metadata": {},
   "source": [
    "# 2. Subconjuntos o `slicing`\n",
    "\n",
    "El `slicing` en `Python` es una técnica que permite extraer partes o subconjuntos de una secuencia (como una lista, una cadena de texto o una tupla) utilizando una sintaxis especial. El `slicing` se realiza mediante el uso de corchetes `[]` y dos puntos `:` dentro de ellos, con uno o más índices para especificar los límites del subconjunto que se desea obtener.\n",
    "\n",
    "La sintaxis general del slicing es:\n",
    "\n",
    "```\n",
    "secuencia[inicio:fin:paso]\n",
    "```\n",
    "\n",
    "Donde:\n",
    "\n",
    "- *secuencia*: es la secuencia de la cual se desea obtener el subconjunto.\n",
    "- *inicio*: es el índice de inicio del subconjunto (inclusive).\n",
    "- *fin*: es el índice de fin del subconjunto (exclusivo).\n",
    "- *paso*: es el tamaño del salto entre los elementos seleccionados (opcional)."
   ]
  },
  {
   "attachments": {},
   "cell_type": "markdown",
   "metadata": {},
   "source": [
    "### Ejemplo 2.1\n",
    "\n",
    "Para la lista dada, genere el código que guarde los valores `[2, 3, 4]` en una variable llamada `sublista` y posteriormente muestre los valores en pantalla.\n",
    "\n",
    "```\n",
    "lista = [1, 2, 3, 4, 5]\n",
    "```"
   ]
  },
  {
   "cell_type": "code",
   "execution_count": null,
   "metadata": {},
   "outputs": [],
   "source": [
    "lista = [1, 2, 3, 4, 5]\n",
    "sublista = lista[1:4]\n",
    "print(sublista)"
   ]
  },
  {
   "attachments": {},
   "cell_type": "markdown",
   "metadata": {},
   "source": [
    "> 🔑**Nota:** El índice final del subconjunto no es incluido en la nueva lista."
   ]
  },
  {
   "attachments": {},
   "cell_type": "markdown",
   "metadata": {},
   "source": [
    "### Ejemplo 2.2\n",
    "\n",
    "Para la cadena de texto `\"Hola, diseñador industrial\"`, desarrolle el código para obtener una subcadena con la palabra `diseñador` y muestre el resultado en pantalla."
   ]
  },
  {
   "cell_type": "code",
   "execution_count": null,
   "metadata": {},
   "outputs": [],
   "source": [
    "cadena = \"Hola, diseñador industrial\"\n",
    "subcadena = cadena[6:15]\n",
    "print(subcadena)"
   ]
  },
  {
   "attachments": {},
   "cell_type": "markdown",
   "metadata": {},
   "source": [
    "### Ejemplo 2.3\n",
    "\n",
    "Genere una lista con una secuencia numérica de 1 al 9. Posteriormente, genere una subsecuencia que incluya únicamente a los valores pares. Presente el resultado en pantalla."
   ]
  },
  {
   "cell_type": "code",
   "execution_count": null,
   "metadata": {},
   "outputs": [],
   "source": [
    "secuencia = [1, 2, 3, 4, 5, 6, 7, 8, 9]\n",
    "subsecuencia = secuencia[1:9:2]\n",
    "print(subsecuencia)"
   ]
  },
  {
   "attachments": {},
   "cell_type": "markdown",
   "metadata": {},
   "source": [
    "> 🔑**Nota:** Si los índices de inicio o fin son dejados en blanco (`[::2]`) se indica que se consideren los valores desde el inicio hasta el fin."
   ]
  },
  {
   "attachments": {},
   "cell_type": "markdown",
   "metadata": {},
   "source": [
    "### Ejemplo 2.4\n",
    "\n",
    "Considere la lista del ejemplo anterior y genere una *subsecuencia* con los siguientes índices `[::2]`. Muestre en pantalla la salida y analice el resutado."
   ]
  },
  {
   "cell_type": "code",
   "execution_count": null,
   "metadata": {},
   "outputs": [],
   "source": [
    "secuencia = [1, 2, 3, 4, 5, 6, 7, 8, 9]\n",
    "subsecuencia = secuencia[::2]\n",
    "print(subsecuencia)"
   ]
  },
  {
   "attachments": {},
   "cell_type": "markdown",
   "metadata": {},
   "source": [
    "> 🔑**Nota:** Si el último factor del índice se escribe con signo negativo se obtiene un conjunto en orden opuesto."
   ]
  },
  {
   "attachments": {},
   "cell_type": "markdown",
   "metadata": {},
   "source": [
    "### Ejemplor 2.5\n",
    "\n",
    "Defina una lista llamada *letras* que contenga todo el abecedario, genere otra variable llamada *opuesto* donde las letras se ordenen en sentido contrario. Muestre el resultado en pantalla."
   ]
  },
  {
   "cell_type": "code",
   "execution_count": null,
   "metadata": {},
   "outputs": [],
   "source": [
    "letras = 'ABCDEFGHIJKLMNÑOPQRSTUVWXYZ'\n",
    "opuesto = letras[::-1]\n",
    "print(opuesto)\n"
   ]
  },
  {
   "attachments": {},
   "cell_type": "markdown",
   "metadata": {},
   "source": [
    "----"
   ]
  },
  {
   "cell_type": "markdown",
   "metadata": {},
   "source": [
    "### Práctica 2.1\n",
    "\n",
    "Extraiga la palabra diseño de la siguiente frase utilizando `slicing` y muéstrela en pantalla:\n",
    "\n",
    "`El proceso de diseño es fundamental en la ingeniería.`"
   ]
  },
  {
   "cell_type": "code",
   "execution_count": null,
   "metadata": {},
   "outputs": [],
   "source": []
  },
  {
   "cell_type": "markdown",
   "metadata": {},
   "source": [
    "### Práctica 2.2\n",
    "\n",
    "Tome cada tercer caracter empezando desde el noveno hasta el final del texto mostrado e imprima el resultado en pantalla:\n",
    "\n",
    "`Cuio lncifiaíola m oleizntu rnt ruonsus ahcoeonan, ousce iodmlei nec trno fsbr.`"
   ]
  },
  {
   "cell_type": "code",
   "execution_count": null,
   "metadata": {},
   "outputs": [],
   "source": []
  },
  {
   "cell_type": "markdown",
   "metadata": {},
   "source": [
    "### Práctica 2.3\n",
    "\n",
    "Invierta la posición de todos los caracteres del siguiente texto y muestre el resultado en pantalla.\n",
    "\n",
    "`atneimarreh narg anu se arodatupmoc rop oditsisa oñesid lE`"
   ]
  },
  {
   "cell_type": "code",
   "execution_count": null,
   "metadata": {},
   "outputs": [],
   "source": []
  },
  {
   "cell_type": "markdown",
   "metadata": {},
   "source": [
    "---\n",
    "---"
   ]
  },
  {
   "cell_type": "markdown",
   "metadata": {},
   "source": [
    "# 3. Métodos de `string`\n",
    "\n",
    "En `Python`, los métodos `string` o cadena son útiles para manipular cadenas de texto y realizar operaciones como cambiar el formato, dividir y unir cadenas, buscar y reemplazar subcadenas, entre otras cosas. Algunos de los métodos de `string` más comunes son:\n",
    "\n",
    "- `upper()` - convierte todos los caracteres a mayúsculas.\n",
    "- `lower()` - convierte todos los caracteres a minúsculas.\n",
    "- `split()` - divide un `string` en una lista de `sub-strings`.\n",
    "- `join()` - une una lista de `sub-strings` en un solo `string`.\n",
    "- `find()` - se emplea para encontrar un sub-string.\n",
    "- `replace()` - reemplaza todos los caracteres que coincidan con una determinada secuencia de caracteres por otra."
   ]
  },
  {
   "cell_type": "markdown",
   "metadata": {},
   "source": [
    "### Ejemplo 3.1\n",
    "\n",
    "Para el texto mostrado, aplique el método `upper()` y analice el resultado.\n",
    "\n",
    "`Orgullosamente equipo IDI`"
   ]
  },
  {
   "cell_type": "code",
   "execution_count": null,
   "metadata": {},
   "outputs": [],
   "source": [
    "texto = 'Orgullosamente equipo IDI'\n",
    "resultado = texto.upper()\n",
    "print(resultado)"
   ]
  },
  {
   "cell_type": "markdown",
   "metadata": {},
   "source": [
    "> 🔑 **Nota:** Es posible hacer uso de los índices para aplicar un método de estring a determinados caracteres."
   ]
  },
  {
   "cell_type": "markdown",
   "metadata": {},
   "source": [
    "### Ejemplo 3.2\n",
    "\n",
    "Para la palabra *diseño*, aplique el método `upper()` para seleccionar y cambiar a mayúscula únicamente la *ñ*."
   ]
  },
  {
   "cell_type": "code",
   "execution_count": null,
   "metadata": {},
   "outputs": [],
   "source": [
    "texto = 'diseño'\n",
    "resultado = texto[4].upper()\n",
    "print(resultado)"
   ]
  },
  {
   "cell_type": "markdown",
   "metadata": {},
   "source": [
    "### Ejemplo 3.3\n",
    "\n",
    "Para el texto mostrado, aplique el método `lower()` y analice el resultado.\n",
    "\n",
    "`Orgullosamente equipo IDI`"
   ]
  },
  {
   "cell_type": "code",
   "execution_count": null,
   "metadata": {},
   "outputs": [],
   "source": [
    "texto = 'Orgullosamente equipo IDI'\n",
    "resultado = texto.lower()\n",
    "print(resultado)"
   ]
  },
  {
   "cell_type": "markdown",
   "metadata": {},
   "source": [
    "### Ejemplo 3.4\n",
    "\n",
    "Para el texto mostrado, aplique el método `split()` y analice el resultado.\n",
    "\n",
    "`Orgullosamente equipo IDI`"
   ]
  },
  {
   "cell_type": "code",
   "execution_count": null,
   "metadata": {},
   "outputs": [],
   "source": [
    "texto = 'Orgullosamente equipo IDI'\n",
    "resultado = texto.split()\n",
    "print(resultado)"
   ]
  },
  {
   "cell_type": "markdown",
   "metadata": {},
   "source": [
    "> 🔑 **Nota:** Es posible definir un caracter como referencia para hacer la separación de las cadenas de texto."
   ]
  },
  {
   "cell_type": "markdown",
   "metadata": {},
   "source": [
    "### Ejemplo 3.4\n",
    "\n",
    "Para el texto mostrado, aplique el método `split(\"e\")` y analice el resultado.\n",
    "\n",
    "`Orgullosamente equipo IDI`"
   ]
  },
  {
   "cell_type": "code",
   "execution_count": null,
   "metadata": {},
   "outputs": [],
   "source": [
    "texto = 'Orgullosamente equipo IDI'\n",
    "resultado = texto.split(\"e\")\n",
    "print(resultado)"
   ]
  },
  {
   "cell_type": "markdown",
   "metadata": {},
   "source": [
    "### Ejemplo 3.5\n",
    "\n",
    "Aplique el método `join()` al siguiente conjunto de elementos y analice el resultado.\n",
    "\n",
    "a = \"Aprender\"\n",
    "\n",
    "b = \"a\"\n",
    "\n",
    "c = \"modelar\"\n",
    "\n",
    "d = \"es\"\n",
    "\n",
    "e = \"genial.\""
   ]
  },
  {
   "cell_type": "code",
   "execution_count": null,
   "metadata": {},
   "outputs": [],
   "source": [
    "a = \"Aprender\"\n",
    "b = \"a\"\n",
    "c = \"modelar\"\n",
    "d = \"es\"\n",
    "e = \"genial.\"\n",
    "resultado = \" \".join([a,b,c,d,e])\n",
    "print(resultado)"
   ]
  },
  {
   "cell_type": "markdown",
   "metadata": {},
   "source": [
    "### Ejemplo 3.6\n",
    "\n",
    "Repita el ejemplo anterior empleando un guión `-` para separar las palabras."
   ]
  },
  {
   "cell_type": "code",
   "execution_count": null,
   "metadata": {},
   "outputs": [],
   "source": [
    "a = \"Aprender\"\n",
    "b = \"a\"\n",
    "c = \"modelar\"\n",
    "d = \"es\"\n",
    "e = \"genial.\"\n",
    "resultado = \"-\".join([a,b,c,d,e])\n",
    "print(resultado)"
   ]
  },
  {
   "cell_type": "markdown",
   "metadata": {},
   "source": [
    "### Ejemplo 3.7\n",
    "\n",
    "Para el texto mostrado, aplique el método `find()` para encontrar el índice de la letra `g`.\n",
    "\n",
    "`Orgullosamente equipo IDI`"
   ]
  },
  {
   "cell_type": "code",
   "execution_count": null,
   "metadata": {},
   "outputs": [],
   "source": [
    "texto = 'Orgullosamente equipo IDI'\n",
    "resultado = texto.find(\"g\")\n",
    "print(resultado)"
   ]
  },
  {
   "cell_type": "markdown",
   "metadata": {},
   "source": [
    "> 🔑 **Nota:** El método `find()` arroja el evalor -1 en caso de no encontar el caracter indicado."
   ]
  },
  {
   "cell_type": "markdown",
   "metadata": {},
   "source": [
    "### Ejemplo 3.8\n",
    "\n",
    "Para el texto mostrado, aplique el método `find()` para encontrar el índice de la letra `H`.\n",
    "\n",
    "`Orgullosamente equipo IDI`"
   ]
  },
  {
   "cell_type": "code",
   "execution_count": null,
   "metadata": {},
   "outputs": [],
   "source": [
    "texto = 'Orgullosamente equipo IDI'\n",
    "resultado = texto.find(\"H\")\n",
    "print(resultado)"
   ]
  },
  {
   "cell_type": "markdown",
   "metadata": {},
   "source": [
    "> 🔑 **Nota:** El método `replace()` requiere de dos parámetros, 1. la cadena que va a reemplazar y 2. la nueva cadena."
   ]
  },
  {
   "cell_type": "markdown",
   "metadata": {},
   "source": [
    "### Ejemplo 3.9\n",
    "\n",
    "Para el texto mostrado, aplique el método `replace()` para cambiar `IDI` por `Diseño Industrial`.\n",
    "\n",
    "`Orgullosamente equipo IDI`"
   ]
  },
  {
   "cell_type": "code",
   "execution_count": null,
   "metadata": {},
   "outputs": [],
   "source": [
    "texto = 'Orgullosamente equipo IDI'\n",
    "resultado = texto.replace(\"IDI\",\"Diseño Industrial\")\n",
    "print(resultado)"
   ]
  },
  {
   "cell_type": "markdown",
   "metadata": {},
   "source": [
    "---"
   ]
  },
  {
   "cell_type": "markdown",
   "metadata": {},
   "source": [
    "### Práctica 3.1\n",
    "\n",
    "Empleando el método específico de `string`, imprima en pantalla el siguiente texto en mayúsculas:\n",
    "\n",
    "`No dejes que el temor supere tu talento.`"
   ]
  },
  {
   "cell_type": "code",
   "execution_count": null,
   "metadata": {},
   "outputs": [],
   "source": []
  },
  {
   "cell_type": "markdown",
   "metadata": {},
   "source": [
    "### Práctica 3.2\n",
    "\n",
    "Utilizando el método apropiado de `string`, una la siguiente lista de palabras en una sola cadena de texto separadas por un espacio.\n",
    "\n",
    "*lista_palabras = [\"Energía\",\"UPB\",\"correcaminos!\"]*"
   ]
  },
  {
   "cell_type": "code",
   "execution_count": null,
   "metadata": {},
   "outputs": [],
   "source": []
  },
  {
   "cell_type": "markdown",
   "metadata": {},
   "source": [
    "### Práctica 3.3\n",
    "\n",
    "Para la frase mostrada, reemplace la palabra `cuente` por `importe`.\n",
    "\n",
    "`Haz que cada día cuente`"
   ]
  },
  {
   "cell_type": "code",
   "execution_count": null,
   "metadata": {},
   "outputs": [],
   "source": []
  },
  {
   "cell_type": "markdown",
   "metadata": {},
   "source": [
    "---\n",
    "---"
   ]
  },
  {
   "cell_type": "markdown",
   "metadata": {},
   "source": [
    "# 4. Propiedades de `string`\n",
    "\n",
    "En `Python`, las cadenas de texto (`string`) son objetos que tienen varias propiedades y métodos integrados que permiten su manipulación y operación. Algunas de las propiedades más importantes son las siguientes:\n",
    "\n",
    "- inmutable\n",
    "- concatenable\n",
    "- multiplicable\n",
    "- multilineales\n",
    "- verificar si contiene\n",
    "- calcular longitud"
   ]
  },
  {
   "cell_type": "markdown",
   "metadata": {},
   "source": [
    "> 🔑 **Nota:** Para los `strings`, inmutable significa que una vez creada la cadena de texto, no se puede modificar directamente."
   ]
  },
  {
   "cell_type": "markdown",
   "metadata": {},
   "source": [
    "### Ejemplo 4.1\n",
    "\n",
    "Para el nombre `Karina`, verifique que no puede reemplazar directamente la letra `K` por una `C`."
   ]
  },
  {
   "cell_type": "code",
   "execution_count": null,
   "metadata": {},
   "outputs": [],
   "source": [
    "nombre = \"Karina\"\n",
    "nombre.replace(\"K\",\"C\")\n",
    "print(nombre)"
   ]
  },
  {
   "cell_type": "markdown",
   "metadata": {},
   "source": [
    "> 🔑 **Nota:** Como se ha realizado antes, para modificar un `string` se debe generar otra variable."
   ]
  },
  {
   "cell_type": "markdown",
   "metadata": {},
   "source": [
    "### Ejemplo 4.2\n",
    "\n",
    "Defina una primera variable de texto asignando el nombre `Karina`, posteriormente, genere una segunda variable donde se realice el cambio de la letra `K` por una `C` y muestre el resultado en pantalla."
   ]
  },
  {
   "cell_type": "code",
   "execution_count": null,
   "metadata": {},
   "outputs": [],
   "source": [
    "nombre_1 = \"Karina\"\n",
    "nombre_2 = nombre_1.replace(\"K\",\"C\")\n",
    "print(nombre_2)"
   ]
  },
  {
   "cell_type": "markdown",
   "metadata": {},
   "source": [
    "> 🔑 **Nota:** Concatenar es sinónimo de unir, por lo tanto, concatenar se refiere al proceso de unir dos cadenas texto. En `Python`, el proceso de concatenación se puede realizar con el operador ($+$)."
   ]
  },
  {
   "cell_type": "markdown",
   "metadata": {},
   "source": [
    "### Ejemplo 4.3\n",
    "\n",
    "A partir de los dos textos mostrados, genere una nueva variable llamada *frase* empleando la concatenación e imprima en pantalla el resultado.\n",
    "\n",
    "`texto_1 = \"La excelencia \"`\n",
    "\n",
    "`texto_2 = \"es un hábito.\"`"
   ]
  },
  {
   "cell_type": "code",
   "execution_count": null,
   "metadata": {},
   "outputs": [],
   "source": [
    "texto_1 = \"La excelencia \"\n",
    "texto_2 = \"es un hábito.\"\n",
    "frase = texto_1 + texto_2\n",
    "print(frase)"
   ]
  },
  {
   "cell_type": "markdown",
   "metadata": {},
   "source": [
    "> 🔑 **Nota:** Al emplear el operador ($*$) es posible repetir un `string` un determinado número de veces."
   ]
  },
  {
   "cell_type": "markdown",
   "metadata": {},
   "source": [
    "### Ejemplo 4.4\n",
    "\n",
    "Empleando el operdor ($*$), muestre en pantalla la siguiente cadena de texto (repetir 10 veces):\n",
    "\n",
    "`texto = \"IDI-\"`"
   ]
  },
  {
   "cell_type": "code",
   "execution_count": null,
   "metadata": {},
   "outputs": [],
   "source": [
    "texto = \"IDI-\"\n",
    "print(texto * 10)"
   ]
  },
  {
   "cell_type": "markdown",
   "metadata": {},
   "source": [
    "> 🔑 **Nota:** Es posible desarrollar una cadena de texto con saltos de línea, para esto se debe agrupar entre tres comillas dobles (\"\"\" *texto con salto de línea* \"\"\")."
   ]
  },
  {
   "cell_type": "markdown",
   "metadata": {},
   "source": [
    "### Ejemplor 4.5\n",
    "\n",
    "Muestre en pantalla el siguiente texto almacenado en una sola variable llamada *frase*.\n",
    "\n",
    "`El sabio no dice nunca todo lo que piensa,`\n",
    "\n",
    "`pero siempre piensa todo lo que dice.`"
   ]
  },
  {
   "cell_type": "code",
   "execution_count": null,
   "metadata": {},
   "outputs": [],
   "source": [
    "frase = \"\"\"El sabio no dice nunca todo lo que piensa,\n",
    "pero siempre piensa todo lo que dice.\"\"\"\n",
    "print(frase)"
   ]
  },
  {
   "cell_type": "markdown",
   "metadata": {},
   "source": [
    "### Ejemplo 4.6\n",
    "\n",
    "Considerando la frase del ejemplo anterior, utilice el operador `in` para determinar si la palabra *sabio* se encuentra en el texto."
   ]
  },
  {
   "cell_type": "code",
   "execution_count": null,
   "metadata": {},
   "outputs": [],
   "source": [
    "frase = \"\"\"El sabio no dice nunca todo lo que piensa,\n",
    "pero siempre piensa todo lo que dice.\"\"\"\n",
    "print(\"sabio\" in frase)"
   ]
  },
  {
   "cell_type": "markdown",
   "metadata": {},
   "source": [
    "### Ejemplo 4.7\n",
    "\n",
    "Considerando la frase del ejemplo 4.5, utilice el operador `in` para determinar si la palabra *inteligente* se encuentra en el texto."
   ]
  },
  {
   "cell_type": "code",
   "execution_count": null,
   "metadata": {},
   "outputs": [],
   "source": [
    "frase = \"\"\"El sabio no dice nunca todo lo que piensa,\n",
    "pero siempre piensa todo lo que dice.\"\"\"\n",
    "print(\"inteligente\" in frase)"
   ]
  },
  {
   "cell_type": "markdown",
   "metadata": {},
   "source": [
    "### Ejemplo 4.8\n",
    "\n",
    "Considerando la frase del ejemplo 4.5, utilice el operador `not in` para aseverar que la palabra *inteligente* no se encuentra en el texto."
   ]
  },
  {
   "cell_type": "code",
   "execution_count": null,
   "metadata": {},
   "outputs": [],
   "source": [
    "frase = \"\"\"El sabio no dice nunca todo lo que piensa,\n",
    "pero siempre piensa todo lo que dice.\"\"\"\n",
    "print(\"inteligente\" not in frase)"
   ]
  },
  {
   "cell_type": "markdown",
   "metadata": {},
   "source": [
    "### Ejemplo 4.9\n",
    "\n",
    "Considerando la frase del ejemplo 4.5, utilice el operador `len()` para determinar el número de caracteres en el texto."
   ]
  },
  {
   "cell_type": "code",
   "execution_count": null,
   "metadata": {},
   "outputs": [],
   "source": [
    "frase = \"\"\"El sabio no dice nunca todo lo que piensa,\n",
    "pero siempre piensa todo lo que dice.\"\"\"\n",
    "print(len(frase))"
   ]
  },
  {
   "cell_type": "markdown",
   "metadata": {},
   "source": [
    "---"
   ]
  },
  {
   "cell_type": "markdown",
   "metadata": {},
   "source": [
    "### Práctica 4.1\n",
    "\n",
    "Concatene 7 veses la palabra *Diseño*."
   ]
  },
  {
   "cell_type": "code",
   "execution_count": null,
   "metadata": {},
   "outputs": [],
   "source": []
  },
  {
   "cell_type": "markdown",
   "metadata": {},
   "source": [
    "### Práctica 4.2\n",
    "\n",
    "Verifique que la palabra *simple* **no** se encuentra en el siguiente texto:\n",
    "\n",
    "`El éxito es`\n",
    "\n",
    "`sobreponerse al fracaso`\n",
    "\n",
    "`con el entusiasmo intacto.`"
   ]
  },
  {
   "cell_type": "code",
   "execution_count": null,
   "metadata": {},
   "outputs": [],
   "source": []
  },
  {
   "cell_type": "markdown",
   "metadata": {},
   "source": [
    "### Práctica 4.3\n",
    "\n",
    "Muestre en pantalla el número de caracteres del nombre de tu Universidad:\n",
    "\n",
    "`Universidad Politécnica del Bicentenario`"
   ]
  },
  {
   "cell_type": "code",
   "execution_count": null,
   "metadata": {},
   "outputs": [],
   "source": []
  },
  {
   "cell_type": "markdown",
   "metadata": {},
   "source": [
    "---\n",
    "---"
   ]
  },
  {
   "cell_type": "markdown",
   "metadata": {},
   "source": [
    "# 5. Listas\n",
    "\n",
    "En `Python`, una lista es un tipo de dato que permite almacenar múltiples elementos en una sola variable. Es una estructura de datos que se utiliza para almacenar una colección ordenada y mutable de elementos. Cada elemento en una lista se identifica por un índice que comienza en 0 para el primer elemento, 1 para el segundo elemento y así sucesivamente.\n",
    "\n",
    "Las listas en `Python` pueden contener elementos de diferentes tipos de datos, como números, cadenas de texto, booleanos, otras listas, diccionarios, entre otros. Además, las listas son mutables, lo que significa que es posible agregar, eliminar o modificar elementos después de que la lista ha sido creada.\n",
    "\n",
    "La sintaxis para crear una lista en `Python` es colocar los elementos entre corchetes $[ \\, ]$ y separarlos por comas."
   ]
  },
  {
   "cell_type": "code",
   "execution_count": 8,
   "metadata": {},
   "outputs": [],
   "source": [
    "# Crear una lista de números enteros\n",
    "numeros = [1, 2, 3, 4, 5]\n",
    "\n",
    "# Crear una lista de cadenas de texto\n",
    "nombres = ['Juan', 'María', 'Pedro']\n",
    "\n",
    "# Crear una lista de elementos mixtos\n",
    "mixta = [1, 'Hola', True, 3.14]"
   ]
  },
  {
   "cell_type": "markdown",
   "metadata": {},
   "source": [
    "Una vez que se tiene una lista, es posible acceder a sus elementos utilizando índices."
   ]
  },
  {
   "cell_type": "code",
   "execution_count": null,
   "metadata": {},
   "outputs": [],
   "source": [
    "numeros = [1, 2, 3, 4, 5]\n",
    "print(numeros[0])  # Imprime el primer elemento (1)\n",
    "print(numeros[2])  # Imprime el tercer elemento (3)"
   ]
  },
  {
   "cell_type": "markdown",
   "metadata": {},
   "source": [
    "Las listas son una estructura de datos fundamental en `Python` y son ampliamente utilizadas debido a su flexibilidad y facilidad de uso. Son una herramienta poderosa para manejar y manipular colecciones de datos en tus programas."
   ]
  },
  {
   "cell_type": "markdown",
   "metadata": {},
   "source": [
    "---"
   ]
  },
  {
   "cell_type": "markdown",
   "metadata": {},
   "source": [
    "### Ejemplo 5.1\n",
    "\n",
    "Genere una variable llamada carreras que contenga una lista con los siguientes elementos, muestre el tipo de variable.\n",
    "\n",
    "`['IDI', 'IRO', 'IAT', 'ILT', 'IFI', 'IBI']`"
   ]
  },
  {
   "cell_type": "code",
   "execution_count": null,
   "metadata": {},
   "outputs": [],
   "source": [
    "carreras = ['IDI', 'IRO', 'IAT', 'ILT', 'IFI', 'IBI']\n",
    "print(type(carreras))"
   ]
  },
  {
   "cell_type": "markdown",
   "metadata": {},
   "source": [
    "### Ejemplo 5.2\n",
    "\n",
    "Considerando la lista del ejemplo anterior, utilice la función `len()` para determinar el número de elementos en la lista."
   ]
  },
  {
   "cell_type": "code",
   "execution_count": null,
   "metadata": {},
   "outputs": [],
   "source": [
    "carreras = ['IDI', 'IRO', 'IAT', 'ILT', 'IFI', 'IBI']\n",
    "print(len(carreras))"
   ]
  },
  {
   "cell_type": "markdown",
   "metadata": {},
   "source": [
    "> 🔑 **Nota:** `Python` considera al primer elemento de una lista en la posición 0."
   ]
  },
  {
   "cell_type": "markdown",
   "metadata": {},
   "source": [
    "### Ejemplo 5.3\n",
    "\n",
    "Considerando la lista `carreras`, imprima en pantalla únicamente el elemento `IDI`."
   ]
  },
  {
   "cell_type": "code",
   "execution_count": null,
   "metadata": {},
   "outputs": [],
   "source": [
    "carreras = ['IDI', 'IRO', 'IAT', 'ILT', 'IFI', 'IBI']\n",
    "print(carreras[0])"
   ]
  },
  {
   "cell_type": "markdown",
   "metadata": {},
   "source": [
    "### Ejemplo 5.4\n",
    "\n",
    "Considerando la lista `carreras`, imprima en pantalla los elementos `IRO`, `IAT` y `ILT`."
   ]
  },
  {
   "cell_type": "code",
   "execution_count": null,
   "metadata": {},
   "outputs": [],
   "source": [
    "carreras = ['IDI', 'IRO', 'IAT', 'ILT', 'IFI', 'IBI']\n",
    "print(carreras[1:4])"
   ]
  },
  {
   "cell_type": "markdown",
   "metadata": {},
   "source": [
    "> 🔑 **Nota:** `Python` tiene una sintaxis especial para acceder al último elemento de una lista, simplemente se debe emplear el índice $-1$."
   ]
  },
  {
   "cell_type": "markdown",
   "metadata": {},
   "source": [
    "### Ejemplo 5.5\n",
    "\n",
    "Considerando la lista `carreras`, imprima en pantalla el último elemento de la lista."
   ]
  },
  {
   "cell_type": "code",
   "execution_count": null,
   "metadata": {},
   "outputs": [],
   "source": [
    "carreras = ['IDI', 'IRO', 'IAT', 'ILT', 'IFI', 'IBI']\n",
    "print(carreras[-1])"
   ]
  },
  {
   "cell_type": "markdown",
   "metadata": {},
   "source": [
    "> 🔑 **Nota:** Las listas también pueden ser concatenadas empleando el operador ($+$)."
   ]
  },
  {
   "cell_type": "markdown",
   "metadata": {},
   "source": [
    "### Ejemplo 5.6\n",
    "\n",
    "Genere dos listas como se indica, posteriormente, defina una tercer lista donde se concatenen las listas anteriores. Muestre el resultado en pantalla.\n",
    "\n",
    "`lista_1 = ['honda', 'yamaha']`\n",
    "\n",
    "`lista_2_ = ['ducati', 'suzuki']`"
   ]
  },
  {
   "cell_type": "code",
   "execution_count": null,
   "metadata": {},
   "outputs": [],
   "source": [
    "lista_1 = ['honda', 'yamaha']\n",
    "lista_2 = ['ducati', 'suzuki']\n",
    "resultado = lista_1 + lista_2\n",
    "print(resultado)"
   ]
  },
  {
   "cell_type": "markdown",
   "metadata": {},
   "source": [
    "> 🔑 **Nota:** Cuando se imprime en pantalla una lista, `Python` muestra la representación de la lista incluyendo los corchetes."
   ]
  },
  {
   "cell_type": "markdown",
   "metadata": {},
   "source": [
    "### Ejemplo 5.7\n",
    "\n",
    "Para la lista mostrada, edite el primer elemento por `Lincoln` y muestre el resultado en pantalla.\n",
    "\n",
    "`autos = ['Cadillac', 'Dodge', 'Ford', 'Chevrolet']`"
   ]
  },
  {
   "cell_type": "code",
   "execution_count": null,
   "metadata": {},
   "outputs": [],
   "source": [
    "autos = ['Cadillac', 'Dodge', 'Ford', 'Chevrolet']\n",
    "autos[0] = 'Lincoln'\n",
    "print(autos)"
   ]
  },
  {
   "cell_type": "markdown",
   "metadata": {},
   "source": [
    "> 🔑 **Nota:** `Python` proporciona varias formas de agregar nuevos datos a una lista existente, la forma más sencilla es empleando el método `append()`."
   ]
  },
  {
   "cell_type": "markdown",
   "metadata": {},
   "source": [
    "### Ejemplo 5.8\n",
    "\n",
    "Para la lista mostrada, agregue el elemento `Lincoln` y muestre el resultado en pantalla.\n",
    "\n",
    "`autos = ['Cadillac', 'Dodge', 'Ford', 'Chevrolet']`"
   ]
  },
  {
   "cell_type": "code",
   "execution_count": null,
   "metadata": {},
   "outputs": [],
   "source": [
    "autos = ['Cadillac', 'Dodge', 'Ford', 'Chevrolet']\n",
    "autos.append('Lincoln')\n",
    "print(autos)"
   ]
  },
  {
   "cell_type": "markdown",
   "metadata": {},
   "source": [
    "> 🔑 **Nota:** Es posible agregar un nuevo elemento a una lista existente en el índice deseado emplendo la función `insert()`."
   ]
  },
  {
   "cell_type": "markdown",
   "metadata": {},
   "source": [
    "### Ejemplo 5.9\n",
    "\n",
    "Para la lista mostrada, agregue el elemento `Lincoln` al inicio y muestre el resultado en pantalla.\n",
    "\n",
    "`autos = ['Cadillac', 'Dodge', 'Ford', 'Chevrolet']`"
   ]
  },
  {
   "cell_type": "code",
   "execution_count": null,
   "metadata": {},
   "outputs": [],
   "source": [
    "autos = ['Cadillac', 'Dodge', 'Ford', 'Chevrolet']\n",
    "autos.insert(0, 'Lincoln')\n",
    "print(autos)"
   ]
  },
  {
   "cell_type": "markdown",
   "metadata": {},
   "source": [
    "> 🔑 **Nota:** Para remover un elemento de una lista en función de su índice se puede emplear la función `del`."
   ]
  },
  {
   "cell_type": "markdown",
   "metadata": {},
   "source": [
    "### Ejemplo 5.10\n",
    "\n",
    "Para la lista mostrada, remueva el elemento 2 empleando la función `del` e imprima el resultado en pantalla.\n",
    "\n",
    "`autos = ['Cadillac', 'Dodge', 'Lincoln', 'Ford', 'Chevrolet']`"
   ]
  },
  {
   "cell_type": "code",
   "execution_count": null,
   "metadata": {},
   "outputs": [],
   "source": [
    "autos = ['Cadillac', 'Dodge', 'Lincoln', 'Ford', 'Chevrolet']\n",
    "del autos[2]\n",
    "print(autos)"
   ]
  },
  {
   "cell_type": "markdown",
   "metadata": {},
   "source": [
    "> 🔑 **Nota:** El método `pop()` remueve el último elemento de una lista, al mismo tiempo, permite almacenar el elemento eliminado en una variable."
   ]
  },
  {
   "cell_type": "markdown",
   "metadata": {},
   "source": [
    "### Ejemplo 5.11\n",
    "\n",
    "Para la lista mostrada, remueva el último elemento empleando la función `pop()` y almacene el elemento eliminado en la variable `auto_eliminado`, imprima el resultado en pantalla.\n",
    "\n",
    "`autos = ['Cadillac', 'Dodge', 'Lincoln', 'Ford', 'Chevrolet']`"
   ]
  },
  {
   "cell_type": "code",
   "execution_count": null,
   "metadata": {},
   "outputs": [],
   "source": [
    "autos = ['Cadillac', 'Dodge', 'Lincoln', 'Ford', 'Chevrolet']\n",
    "auto_eliminado = autos.pop()\n",
    "print(autos)\n",
    "print(auto_eliminado)"
   ]
  },
  {
   "cell_type": "markdown",
   "metadata": {},
   "source": [
    "> 🔑 **Nota:** Es posible usar el método `pop()` para remover un elemento de cualquier posición de la lista al indicar el índice dentro de los paréntesis."
   ]
  },
  {
   "cell_type": "markdown",
   "metadata": {},
   "source": [
    "### Ejemplo 5.12\n",
    "\n",
    "Para la lista mostrada, remueva el elemento 1 empleando la función `pop()` y almacene el elemento eliminado en la variable `auto_eliminado`, imprima el resultado en pantalla.\n",
    "\n",
    "`autos = ['Cadillac', 'Dodge', 'Lincoln', 'Ford', 'Chevrolet']`"
   ]
  },
  {
   "cell_type": "code",
   "execution_count": null,
   "metadata": {},
   "outputs": [],
   "source": [
    "autos = ['Cadillac', 'Dodge', 'Lincoln', 'Ford', 'Chevrolet']\n",
    "auto_eliminado = autos.pop(1)\n",
    "print(autos)\n",
    "print(auto_eliminado)"
   ]
  },
  {
   "cell_type": "markdown",
   "metadata": {},
   "source": [
    "> 🔑 **Nota:** Es posible eliminar un elemento de una lista en fución de su valor y no de su posición, para esto se debe emplear el método `remove()`."
   ]
  },
  {
   "cell_type": "markdown",
   "metadata": {},
   "source": [
    "### Ejemplo 5.13\n",
    "\n",
    "Para la lista mostrada, remueva el elemento `Dodge` empleando la función `remove()`, imprima el resultado en pantalla.\n",
    "\n",
    "`autos = ['Cadillac', 'Dodge', 'Lincoln', 'Ford', 'Chevrolet']`"
   ]
  },
  {
   "cell_type": "code",
   "execution_count": null,
   "metadata": {},
   "outputs": [],
   "source": [
    "autos = ['Cadillac', 'Dodge', 'Lincoln', 'Ford', 'Chevrolet']\n",
    "autos.remove('Dodge')\n",
    "print(autos)"
   ]
  },
  {
   "cell_type": "markdown",
   "metadata": {},
   "source": [
    "> 🔑 **Nota:** El método `sort()` de `Python` permite ordenar una lista en orden alfabético."
   ]
  },
  {
   "cell_type": "markdown",
   "metadata": {},
   "source": [
    "### Ejemplo 5.14\n",
    "\n",
    "Para la lista mostrada, utilice el método `sort()` para ordenar la lista e imprima el resultado en pantalla.\n",
    "\n",
    "`marcas = ['bmw', 'audi', 'toyota', 'subaru']`"
   ]
  },
  {
   "cell_type": "code",
   "execution_count": null,
   "metadata": {},
   "outputs": [],
   "source": [
    "marcas = ['bmw', 'audi', 'toyota', 'subaru']\n",
    "marcas.sort()\n",
    "print(marcas)"
   ]
  },
  {
   "cell_type": "markdown",
   "metadata": {},
   "source": [
    "> 🔑 **Nota:** Para ordenar de forma inversa el orden de una lista se puede emplear el método `reverse()`. El ordenamiento **no** se realiza en función del alfabeto sino del orden de los elementos en la lista."
   ]
  },
  {
   "cell_type": "markdown",
   "metadata": {},
   "source": [
    "### Ejemplo 5.15\n",
    "\n",
    "Para la lista mostrada, utilice el método `reverse()` para ordenar la lista de manera inversa e imprima el resultado en pantalla.\n",
    "\n",
    "`marcas = ['bmw', 'audi', 'toyota', 'subaru']`"
   ]
  },
  {
   "cell_type": "code",
   "execution_count": null,
   "metadata": {},
   "outputs": [],
   "source": [
    "marcas = ['bmw', 'audi', 'toyota', 'subaru']\n",
    "marcas.reverse()\n",
    "print(marcas)"
   ]
  },
  {
   "cell_type": "markdown",
   "metadata": {},
   "source": [
    "---"
   ]
  },
  {
   "cell_type": "markdown",
   "metadata": {},
   "source": [
    "### Práctica 5.1\n",
    "\n",
    "Genere una lista de 6 elementos dentro de la variable `lista`, muestre el resultado en pantalla."
   ]
  },
  {
   "cell_type": "code",
   "execution_count": null,
   "metadata": {},
   "outputs": [],
   "source": []
  },
  {
   "cell_type": "markdown",
   "metadata": {},
   "source": [
    "### Práctica 5.2\n",
    "\n",
    "Agregue el elemento `micrómetro` a la siguiente lista de herramientas de medición:\n",
    "\n",
    "`herramientas_medicion = ['vernier', 'goniómetro', 'termómetro', 'báscula', 'nivel']`"
   ]
  },
  {
   "cell_type": "code",
   "execution_count": null,
   "metadata": {},
   "outputs": [],
   "source": []
  },
  {
   "cell_type": "markdown",
   "metadata": {},
   "source": [
    "### Práctica 5.3\n",
    "\n",
    "Utilice el método `pop()` para remover el segundo elemento de la lista colores, almacene el color eliminado en la variable `eliminado`."
   ]
  },
  {
   "cell_type": "code",
   "execution_count": null,
   "metadata": {},
   "outputs": [],
   "source": []
  },
  {
   "cell_type": "markdown",
   "metadata": {},
   "source": [
    "---\n",
    "---"
   ]
  },
  {
   "cell_type": "markdown",
   "metadata": {},
   "source": [
    "# 6. Diccionarios\n",
    "\n",
    "En `Python`, un diccionario es una estructura de datos que permite almacenar y organizar elementos de manera asociativa. A diferencia de las listas, donde los elementos se identifican por su índice, en los diccionarios los elementos se identifican mediante una \"clave\" única que actúa como un identificador. Cada clave se asocia con un \"valor\", y esta asociación se conoce como una \"clave-valor\" o un \"par clave-valor\".\n",
    "\n",
    "Los diccionarios en `Python` se representan entre llaves { } y consisten en una serie de pares clave-valor separados por comas. La sintaxis general para crear un diccionario es la siguiente:\n",
    "\n",
    "```\n",
    "diccionario = {clave1: valor1, clave2: valor2, clave3: valor3, ...}\n",
    "```\n",
    "\n",
    "Una de las ventajas principales de los diccionarios es que proporcionan un acceso rápido a los valores utilizando las claves, lo que los hace ideales para buscar y recuperar información en grandes conjuntos de datos. Además, los diccionarios son mutables, por lo que es posible agregar, modificar y eliminar elementos después de que el diccionario ha sido creado."
   ]
  },
  {
   "cell_type": "markdown",
   "metadata": {},
   "source": [
    "---"
   ]
  },
  {
   "cell_type": "markdown",
   "metadata": {},
   "source": [
    "### Ejemplo 6.1\n",
    "\n",
    "Genere un diccionario llamado `alumno` con claves `parcial_1` y `parcial_2`, los valores para cada clave serán las calificaciones `8.5` y `9.2`, respectivamente. Muestre el diccionario en pantalla."
   ]
  },
  {
   "cell_type": "code",
   "execution_count": null,
   "metadata": {},
   "outputs": [],
   "source": [
    "alumno = {'parcial_1':8.5, 'parcial_2':9.2}\n",
    "print(alumno)"
   ]
  },
  {
   "cell_type": "markdown",
   "metadata": {},
   "source": [
    "> 🔑 **Nota:** Las claves en un diccionario son únicas, es decir, no deben repetirse. Por otro lado, los valores sí pueden repetirse."
   ]
  },
  {
   "cell_type": "markdown",
   "metadata": {},
   "source": [
    "### Ejemplo 6.2\n",
    "\n",
    "Empleando el diccionario del ejemplo anterior, almacene la calificación de `parcial_1` en una variable llamada `calif_1` y muéstrela en pantalla."
   ]
  },
  {
   "cell_type": "code",
   "execution_count": null,
   "metadata": {},
   "outputs": [],
   "source": [
    "alumno = {'parcial_1':8.5, 'parcial_2':9.2}\n",
    "calif_1 = alumno['parcial_1']\n",
    "print(calif_1)"
   ]
  },
  {
   "cell_type": "markdown",
   "metadata": {},
   "source": [
    "> 🔑 **Nota:** En los diccionarios, el orden de los pares *clave-valor* es irrelevante. Para acceder al contenido de un diccionario se realiza a través de la *clave*."
   ]
  },
  {
   "cell_type": "markdown",
   "metadata": {},
   "source": [
    "### Ejemplo 6.3\n",
    "\n",
    "Desarrolle un nuevo diccionario llamado `alumno` en el cual se consideren los siguientes conjuntos de *clave-valor*:\n",
    "\n",
    "```\n",
    "nombre: Vicente\n",
    "apellido: Nario\n",
    "tareas: 9.5\n",
    "faltas: 2\n",
    "```"
   ]
  },
  {
   "cell_type": "code",
   "execution_count": null,
   "metadata": {},
   "outputs": [],
   "source": [
    "alumno = {'nombre':'Vicente', 'apellido':'Nario', 'tareas':9.5, 'faltas':2}\n",
    "print(alumno)"
   ]
  },
  {
   "cell_type": "markdown",
   "metadata": {},
   "source": [
    "### Ejemplo 6.4\n",
    "\n",
    "Considerando el diccionario del ejemplo anterior, genere una variable llamada `consulta` donde almacene el `valor` de la clave `faltas`. Muestre el resultado en pantalla."
   ]
  },
  {
   "cell_type": "code",
   "execution_count": null,
   "metadata": {},
   "outputs": [],
   "source": [
    "alumno = {'nombre':'Vicente', 'apellido':'Nario', 'tareas':9.5, 'faltas':2}\n",
    "consulta = alumno['faltas']\n",
    "print(consulta)"
   ]
  },
  {
   "cell_type": "markdown",
   "metadata": {},
   "source": [
    "> 🔑 **Nota:** Un diccionario puede almacenar diferentes tipos de variables, enteros, flotantes, cadenas de texto, listas e incluso otro diccionario."
   ]
  },
  {
   "cell_type": "markdown",
   "metadata": {},
   "source": [
    "### Ejemplo 6.5\n",
    "\n",
    "Defina un nuevo diccionario llamado `alumno` conformado por los siguientes conjuntos de *clave-valor*:\n",
    "\n",
    "```\n",
    "'datos':{'matricula':00001, 'nombre':'Vicente', 'apellido':'Nario'}\n",
    "'parciales':[8.5, 9.2]\n",
    "'puntos_taller': 140\n",
    "'TOEFL': False\n",
    "```"
   ]
  },
  {
   "cell_type": "code",
   "execution_count": null,
   "metadata": {},
   "outputs": [],
   "source": [
    "alumno = {'datos':{'matricula':'00001', 'nombre':'Vicente', 'apellido':'Nario'},\n",
    "'parciales':[8.5, 9.2],\n",
    "'puntos_taller': 140,\n",
    "'TOEFL': False}\n",
    "print(alumno)"
   ]
  },
  {
   "cell_type": "markdown",
   "metadata": {},
   "source": [
    "> 🔑 **Nota:** Para acceder al valor asociado de una clave, se proporciona el nombre del diccionario seguido de la clave escrita entre corchetes [ ]."
   ]
  },
  {
   "cell_type": "markdown",
   "metadata": {},
   "source": [
    "### Ejemplo 6.6\n",
    "\n",
    "Genere una variable llamada `consulta` con la cual pueda acceder a:\n",
    "- el valor de los puntos de taller,\n",
    "- la segunda calificación de la clave parciales,\n",
    "- al nombre de la clave datos."
   ]
  },
  {
   "cell_type": "code",
   "execution_count": null,
   "metadata": {},
   "outputs": [],
   "source": [
    "alumno = {'datos':{'matricula':'00001', 'nombre':'Vicente', 'apellido':'Nario'}, # Diccionario\n",
    "'parciales':[8.5, 9.2], # Lista\n",
    "'puntos_taller': 140, # Valor entero\n",
    "'TOEFL': True} # Valor booleano\n",
    "consulta1 = alumno['puntos_taller']\n",
    "print(consulta1)\n",
    "consulta2 = alumno['parciales'][1]\n",
    "print(consulta2)\n",
    "consulta3 = alumno['datos']['nombre']\n",
    "print(consulta3)"
   ]
  },
  {
   "cell_type": "markdown",
   "metadata": {},
   "source": [
    "> 🔑 **Nota:** Para agregar una nueva *clave-valor* a un diccionario ya definido, se proporciona el nombre del diccionario seguido de la nueva clave entre corchetes y el nuevo valor."
   ]
  },
  {
   "cell_type": "markdown",
   "metadata": {},
   "source": [
    "### Ejemplo 6.7\n",
    "\n",
    "Utilice el diccionario generado en el **Ejemplo 6.2**, agregue una nueva clave llamada `final` que contenga el promedio de las calificaciones parciales 1 y 2. Muestre el resultado en pantalla."
   ]
  },
  {
   "cell_type": "code",
   "execution_count": null,
   "metadata": {},
   "outputs": [],
   "source": [
    "alumno = {'parcial_1':8.5, 'parcial_2':9.2}\n",
    "alumno['final'] = (alumno['parcial_1'] + alumno['parcial_2']) / 2\n",
    "print(alumno)"
   ]
  },
  {
   "cell_type": "markdown",
   "metadata": {},
   "source": [
    "> 🔑 **Nota:** Para modificar el valor de un diccionario, se debe proporcionar el nombre del diccionario con la clave entre corchetes y después el nuevo valor asociado a esta clave."
   ]
  },
  {
   "cell_type": "markdown",
   "metadata": {},
   "source": [
    "### Ejemplo 6.8\n",
    "\n",
    "Considere el diccionario del **Ejemplo 6.5**, cambie a `True` el valor de la clave `TOEFL`. Muestre este único valor en pantalla."
   ]
  },
  {
   "cell_type": "code",
   "execution_count": null,
   "metadata": {},
   "outputs": [],
   "source": [
    "alumno = {'datos':{'matricula':'00001', 'nombre':'Vicente', 'apellido':'Nario'},\n",
    "'parciales':[8.5, 9.2],\n",
    "'puntos_taller': 140,\n",
    "'TOEFL': False}\n",
    "alumno['TOEFL'] = True\n",
    "print(alumno['TOEFL'])"
   ]
  },
  {
   "cell_type": "markdown",
   "metadata": {},
   "source": [
    "> 🔑 **Nota:** Para remover un conjunto *clave-valor* de un diccionario se debe emplear la función `del`. Se debe proporcionar el nombre del diccionario y la clave escrita entre corchetes."
   ]
  },
  {
   "cell_type": "markdown",
   "metadata": {},
   "source": [
    "### Ejemplo 6.8\n",
    "\n",
    "Elimine la clave `matricula` del diccionario definido en el **Ejemplo 6.5**. Muestre el resultado en pantalla."
   ]
  },
  {
   "cell_type": "code",
   "execution_count": null,
   "metadata": {},
   "outputs": [],
   "source": [
    "alumno = {'datos':{'matricula':'00001', 'nombre':'Vicente', 'apellido':'Nario'},\n",
    "'parciales':[8.5, 9.2],\n",
    "'puntos_taller': 140,\n",
    "'TOEFL': False}\n",
    "del alumno['datos']['matricula']\n",
    "print(alumno)"
   ]
  },
  {
   "cell_type": "markdown",
   "metadata": {},
   "source": [
    "---"
   ]
  },
  {
   "cell_type": "markdown",
   "metadata": {},
   "source": [
    "### Práctia 6.1\n",
    "\n",
    "Genere un diccionario llamado `auto` que contenga la siguiente información:\n",
    "\n",
    "```\n",
    "color: negro\n",
    "modelo: 2022\n",
    "marca: Ford\n",
    "```"
   ]
  },
  {
   "cell_type": "code",
   "execution_count": null,
   "metadata": {},
   "outputs": [],
   "source": []
  },
  {
   "cell_type": "markdown",
   "metadata": {},
   "source": [
    "### Práctica 6.2\n",
    "\n",
    "Para el diccionario mostrado, genere una función `print()` que devuelva el valor de la `nota2`."
   ]
  },
  {
   "cell_type": "code",
   "execution_count": null,
   "metadata": {},
   "outputs": [],
   "source": [
    "clase = {'alumnos':{'nombre1':'Pedro', 'nombre2':'Carlos', 'nombre3':'Luis'},\n",
    "        'calificaciones':{'nota1':9.5, 'nota2':7.5, 'nota3':8.4}}\n",
    "print()"
   ]
  },
  {
   "cell_type": "markdown",
   "metadata": {},
   "source": [
    "### Práctica 6.3\n",
    "\n",
    "Para el diccionario mostrado, actualice y agregue la siguiente información. **No debe editar la línea de código ya escrita**.\n",
    "\n",
    "```\n",
    "color: azul\n",
    "modelo: 2023\n",
    "marca: Nissan\n",
    "kilometros: 15000\n",
    "disponibilidad: True\n",
    "```"
   ]
  },
  {
   "cell_type": "code",
   "execution_count": null,
   "metadata": {},
   "outputs": [],
   "source": [
    "auto = {'color':'negro', 'modelo':2022, 'marca':'Ford'}\n",
    "print(auto)"
   ]
  },
  {
   "cell_type": "markdown",
   "metadata": {},
   "source": [
    "---\n",
    "---"
   ]
  },
  {
   "cell_type": "markdown",
   "metadata": {},
   "source": [
    "# 7. Tuplas"
   ]
  },
  {
   "cell_type": "markdown",
   "metadata": {},
   "source": []
  }
 ],
 "metadata": {
  "kernelspec": {
   "display_name": "Python 3",
   "language": "python",
   "name": "python3"
  },
  "language_info": {
   "codemirror_mode": {
    "name": "ipython",
    "version": 3
   },
   "file_extension": ".py",
   "mimetype": "text/x-python",
   "name": "python",
   "nbconvert_exporter": "python",
   "pygments_lexer": "ipython3",
   "version": "3.11.2"
  },
  "orig_nbformat": 4
 },
 "nbformat": 4,
 "nbformat_minor": 2
}
