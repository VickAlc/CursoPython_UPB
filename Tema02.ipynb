{
 "cells": [
  {
   "cell_type": "markdown",
   "metadata": {
    "id": "W4woRk5o5DrV"
   },
   "source": [
    "# 1. Tipos de datos\n",
    "\n",
    "Los **tipos de datos** indican las características que definen a las variables, de acuerdo a su naturaleza y las respectivas operaciones que se pueden realizar dentro de un programa."
   ]
  },
  {
   "cell_type": "markdown",
   "metadata": {
    "id": "Nz5pte_pGNXE"
   },
   "source": [
    "En `Python` se tienen los siguientes tipos:\n",
    "- `string (str)` ➡ \"hola\", \"% $ &\", \"123\"\n",
    "- `integer (int)` ➡ 150, 1, -25, 0\n",
    "- `floating (float)` ➡ 1.25, 2.5, -63.14, 3.1416\n",
    "- `listas (list)` ➡ [\"agua\", -3, 8.5, \"saturno\", 0]\n",
    "  - *Tienen un orden definido, pueden contener diferentes tipos de datos*.\n",
    "- `diccionarios (dic)` ➡ {'color':'azul', 'arte':'pintura'}\n",
    "  - *No tienen un orden específico, se crean con una clave y un valor*.\n",
    "- `tuplas (tuple)` ➡ ('ene', 'feb', 'mar', 'abr')\n",
    "  - *Cuentan con un orden inmutable*.\n",
    "- `sets (set)` ➡ {'a', 'b', 'c', 'd'}\n",
    "  - *Su principal característica es que está formado por elementos únicos e irrepetibles*.\n",
    "- `booleanos (bool)` ➡ True, False\n",
    "  - *Se emplea para evaluar condiciones donde la respuesta es verdadera o falsa*."
   ]
  },
  {
   "cell_type": "markdown",
   "metadata": {
    "id": "XWZMrsLrGVCq"
   },
   "source": [
    "----\n",
    "----"
   ]
  },
  {
   "cell_type": "markdown",
   "metadata": {
    "id": "GafOG7YEBBMS"
   },
   "source": [
    "# 2. Variables\n",
    "\n",
    "Es donde se almacenan y se recuperan los datos de un programa. Tienen un identificador, que no es otra cosa que la forma en que las nombramos.\n",
    "\n",
    "Estas pueden invocadas o cambiar sus valores de acuerdo a las funciones que se deseen realizar con ellas, si se requiere."
   ]
  },
  {
   "cell_type": "markdown",
   "metadata": {
    "id": "OPZFSo-zLINV"
   },
   "source": [
    "### Ejercicio 2.1\n",
    "\n",
    "Genere la variable *nombre*, asigne el valor: `Laura` y muestre en pantalla.\n",
    "\n",
    "```\n",
    "nombre = 'Laura'\n",
    "print(nombre)\n",
    "```"
   ]
  },
  {
   "cell_type": "code",
   "execution_count": null,
   "metadata": {
    "id": "kE1J9almLjHE"
   },
   "outputs": [],
   "source": []
  },
  {
   "cell_type": "markdown",
   "metadata": {
    "id": "NNFZHcEBL04U"
   },
   "source": [
    "### Ejercicio 2.2\n",
    "\n",
    "Reasigne otro valor a la variable *nombre* y muestre el resultado."
   ]
  },
  {
   "cell_type": "code",
   "execution_count": null,
   "metadata": {
    "id": "JpeI5QG6L_og"
   },
   "outputs": [],
   "source": []
  },
  {
   "cell_type": "markdown",
   "metadata": {
    "id": "ZtFKof7cNlxc"
   },
   "source": [
    "> 🔑 **Nota:** También se le pueden asignar valores numéricos enteros."
   ]
  },
  {
   "cell_type": "markdown",
   "metadata": {
    "id": "W8XWSXsVNyOF"
   },
   "source": [
    "### Ejercicio 2.3\n",
    "\n",
    "Establezca una variable *edad* con un valor entero, muestre en pantalla.\n",
    "\n",
    "```\n",
    "edad = 42\n",
    "print(edad)\n",
    "```"
   ]
  },
  {
   "cell_type": "code",
   "execution_count": null,
   "metadata": {
    "id": "jvdWHMyAOcax"
   },
   "outputs": [],
   "source": []
  },
  {
   "cell_type": "markdown",
   "metadata": {
    "id": "OUj-1wNrOxDQ"
   },
   "source": [
    "### Ejercicio 2.4\n",
    "\n",
    "Defina otra variable llamada *edad2*, asigne un valor de 12. Dentro de la función `print()` realice la suma de ambas edades.\n",
    "\n",
    "```\n",
    "edad2 = 12\n",
    "print(edad + edad2)\n",
    "```"
   ]
  },
  {
   "cell_type": "code",
   "execution_count": null,
   "metadata": {
    "id": "WVGw5_AdPNuU"
   },
   "outputs": [],
   "source": []
  },
  {
   "cell_type": "markdown",
   "metadata": {
    "id": "GkjYBImYPbkx"
   },
   "source": [
    "> 🔑 **Nota:** Se puede emplear la función `input()` para asignar valores a las variables."
   ]
  },
  {
   "cell_type": "markdown",
   "metadata": {
    "id": "CUzaxIzBPuKk"
   },
   "source": [
    "### Ejercicio 2.5\n",
    "\n",
    "Realice un código donde el programa solicte al usuario su nombre y guárdelo dentro de una variable. En pantalla se debe mostrar la siguiente frase:\n",
    "```\n",
    "Tu nombre es Laura\n",
    "```\n",
    "\n",
    "```\n",
    "nombre = input('Dime tu nombre: ')\n",
    "print('Tu nombre es ' + nombre)\n",
    "```"
   ]
  },
  {
   "cell_type": "code",
   "execution_count": null,
   "metadata": {
    "id": "n2QIPs8dQCTa"
   },
   "outputs": [],
   "source": []
  },
  {
   "cell_type": "markdown",
   "metadata": {
    "id": "3Ay0ZhGDQ9Wv"
   },
   "source": [
    "> 🔑 **Nota:** Las variables del tipo `string` pueden ser concatenadas para generar una nueva."
   ]
  },
  {
   "cell_type": "markdown",
   "metadata": {
    "id": "EPArlTYDRJ5n"
   },
   "source": [
    "### Ejercicio 2.6\n",
    "\n",
    "Genere una variable *apellido* donde solicite al usuario su primer apellido. Después defina una nueva variable llamada *nombreCompleto* y concatene las variables *nombre* y *apellido*. Muestre en pantalla la siguiente frase:\n",
    "\n",
    "```\n",
    "Tu nombre y apellido es Juan Almaguer\n",
    "```\n",
    "\n",
    "```\n",
    "apellido = input('Dime tu primer apellido: ')\n",
    "nombreCompleto = nombre + ' ' + apellido\n",
    "print('Tu nombre y apellido es ' + nombreCompleto)\n",
    "```"
   ]
  },
  {
   "cell_type": "code",
   "execution_count": null,
   "metadata": {
    "colab": {
     "base_uri": "https://localhost:8080/"
    },
    "executionInfo": {
     "elapsed": 4535,
     "status": "ok",
     "timestamp": 1680298697946,
     "user": {
      "displayName": "Víctor Alfonso Alcántar Camarena",
      "userId": "18237360393784097480"
     },
     "user_tz": 360
    },
    "id": "4qL5w3OHzoyJ",
    "outputId": "8b473a48-8dab-48e8-c27f-21dbedd62beb"
   },
   "outputs": [],
   "source": []
  },
  {
   "cell_type": "markdown",
   "metadata": {
    "id": "jmOtijRgq2-k"
   },
   "source": [
    "> 🔑 **Nota:** Con el objetivo de contar con un código que sea fácil de leer, se recomienda que el nombre de las variables sea acorde al valor que almacenará.\n",
    "```\n",
    "nombre_perro = 'Milo'\n",
    "```\n",
    "\n",
    "> No debe haber espacios entre las palabras que conforman el nombre. Puede usar guión bajo como en el ejemplo anterior o emplear una combinación de minúsculas y mayúsculas.\n",
    "```\n",
    "nombrePerro = 'Milo'\n",
    "```\n",
    "\n",
    "> También se recomienda omitir el uso de acentos y la letra ñ.\n",
    "\n",
    "> Es posible usar números, siempre que no estén al inicio:\n",
    "```\n",
    "✅ mes4 = 'abril'\n",
    "❌ 4mes = 'abril'\n",
    "```\n",
    "\n",
    "> No pueden contener ninguno de los siguientes símbolos:\n",
    "```\n",
    "\" ' , < > / ? | ° \\ ( ) ! @ # $ % ^ & * ~ - +\n",
    "```\n",
    "\n",
    "> Evitar el uso de palabras reservadas como:\n",
    "```\n",
    "print input string int float\n",
    "```"
   ]
  },
  {
   "cell_type": "markdown",
   "metadata": {
    "id": "j00yfyZMnWlD"
   },
   "source": [
    "----"
   ]
  },
  {
   "cell_type": "markdown",
   "metadata": {
    "id": "Zb-1rNkXngeZ"
   },
   "source": [
    "### Práctica 2.1\n",
    "\n",
    "Declare dos variables, llamadas *nombre* y *edad*.\n",
    "\n",
    "Asigna a la variable nombre el valor \"Simone Simons\", y a la edad, el valor 38. Muestre en pantalla la siguiente frase:\n",
    "\n",
    "```\n",
    "Simone Simons tiene 38 años.\n",
    "```"
   ]
  },
  {
   "cell_type": "code",
   "execution_count": null,
   "metadata": {
    "id": "xNyElwVppDg5"
   },
   "outputs": [],
   "source": []
  },
  {
   "cell_type": "markdown",
   "metadata": {
    "id": "Qq97Qe2xpD12"
   },
   "source": [
    "### Práctica 2.2\n",
    "\n",
    "Defina la variable *curso*, asigne el valor \"Python\" y muestre en pantalla la frase:\n",
    "\n",
    "```\n",
    "Estás tomando un curso de Python\n",
    "```\n",
    "\n",
    "Para ello deberá concatenar la primera parte de la frase con el valor que asumirá la variable. Recuerde agregar el espacio correspondiente."
   ]
  },
  {
   "cell_type": "code",
   "execution_count": null,
   "metadata": {
    "id": "IG1JPE1vpfeQ"
   },
   "outputs": [],
   "source": []
  },
  {
   "cell_type": "markdown",
   "metadata": {
    "id": "89AWxfvxzRTt"
   },
   "source": [
    "----\n",
    "----"
   ]
  },
  {
   "cell_type": "markdown",
   "metadata": {
    "id": "_MgF27vRuYpT"
   },
   "source": [
    "# 3. Enteros y flotantes\n",
    "\n",
    "- Enteros. No admiten números decimales: edad, población, días restantes, número de clientes, etc.\n",
    "\n",
    "- Flotantes. Representan valores continuos, por ejemplo: temperaturas, altura, peso, etc."
   ]
  },
  {
   "cell_type": "markdown",
   "metadata": {
    "id": "6ZrHp5AwzPpb"
   },
   "source": [
    "### Ejercicio 3.1\n",
    "\n",
    "Genere la variable *miNumero* y asigne el valor 5. Muestre el valor en pantalla.\n",
    "\n",
    "```\n",
    "miNumero = 5\n",
    "print(miNumero)\n",
    "```"
   ]
  },
  {
   "cell_type": "code",
   "execution_count": null,
   "metadata": {
    "id": "HAv_ZyZZzlB1"
   },
   "outputs": [],
   "source": []
  },
  {
   "cell_type": "markdown",
   "metadata": {
    "id": "uaIrCBTKz5B7"
   },
   "source": [
    "> 🔑 **Nota:** La función `type()` permite saber el tipo de dato que se está empleando."
   ]
  },
  {
   "cell_type": "markdown",
   "metadata": {
    "id": "G7avr4vq0Nx6"
   },
   "source": [
    "### Ejercicio 3.2\n",
    "\n",
    "Utilice la función `type()` para mostrar en pantalla el tipo de dato que es la variable *miNumero*.\n",
    "\n",
    "```\n",
    "print(type(miNumero))\n",
    "```"
   ]
  },
  {
   "cell_type": "code",
   "execution_count": null,
   "metadata": {
    "id": "HDfyoVI101wv"
   },
   "outputs": [],
   "source": []
  },
  {
   "cell_type": "markdown",
   "metadata": {
    "id": "DzzRYN3x1CJ3"
   },
   "source": [
    "> 🔑 **Nota:** Las variables también pueden ser definidas a partir de operaciones matemáticas."
   ]
  },
  {
   "cell_type": "markdown",
   "metadata": {
    "id": "gJedAiCU1Vr3"
   },
   "source": [
    "### Ejercicio 3.3\n",
    "\n",
    "Defina la variable *suma* en donde se realice la operación `5 + 3`. Muestre el resultado en pantalla.\n",
    "\n",
    "```\n",
    "suma = 5 + 3\n",
    "print(suma)\n",
    "```"
   ]
  },
  {
   "cell_type": "code",
   "execution_count": null,
   "metadata": {
    "id": "S_ZuBaRA102O"
   },
   "outputs": [],
   "source": []
  },
  {
   "cell_type": "markdown",
   "metadata": {
    "id": "UDdVM89A2Pum"
   },
   "source": [
    "### Ejercicio 3.4\n",
    "\n",
    "Establezca la variable *calificacion* y asigne el valor de 9.6. Muestre el tipo de dato.\n",
    "\n",
    "```\n",
    "calificacion = 9.6\n",
    "print(type(calificacion))\n",
    "```"
   ]
  },
  {
   "cell_type": "code",
   "execution_count": null,
   "metadata": {
    "id": "v6ZHh7Li2a_L"
   },
   "outputs": [],
   "source": []
  },
  {
   "cell_type": "markdown",
   "metadata": {
    "id": "56YEX9bW21GL"
   },
   "source": [
    "### Ejercicio 3.5\n",
    "\n",
    "Cree la variable *numero* donde se realice la operación `5 + 3.6`, imprima de qué tipo es.\n",
    "\n",
    "```\n",
    "numero = 5 + 3.6\n",
    "print(type(numero))\n",
    "```"
   ]
  },
  {
   "cell_type": "code",
   "execution_count": null,
   "metadata": {
    "id": "mebd36nX3v8R"
   },
   "outputs": [],
   "source": []
  },
  {
   "cell_type": "markdown",
   "metadata": {
    "id": "o0zAcKLW3_9S"
   },
   "source": [
    "> 🔑 **Nota:** En el ejercicio anterior el resultado es un valor con decimal, por lo tanto, el tipo de variable es `float`."
   ]
  },
  {
   "cell_type": "markdown",
   "metadata": {
    "id": "sGwab8T65W7N"
   },
   "source": [
    "### Ejercicio 3.6\n",
    "\n",
    "Realice un código que calcula la edad del usuario. El programa debe solicitar el año actual y posteriormente el año de nacimiento, obtenga la diferencia y muestre el resultado en pantalla.\n",
    "\n",
    "```\n",
    "anioActual = input('Ingresa el año actual: ')\n",
    "anioNacimiento = input('Ingresa el año de tu nacimiento: ')\n",
    "edad = anioActual - anioNacimiento\n",
    "print('Tu edad es ' + edad + 'años')\n",
    "```"
   ]
  },
  {
   "cell_type": "code",
   "execution_count": null,
   "metadata": {
    "id": "hFj6Rai451DK"
   },
   "outputs": [],
   "source": []
  },
  {
   "cell_type": "markdown",
   "metadata": {
    "id": "dSVnNE_k6YZ8"
   },
   "source": [
    "> 🔑 **Nota:** Todo lo que el usuario ingresa a través de la función `input()` el sistema lo toma como un dato del tipo `string`. Por lo tanto, no es posible realizar operaciones matemáticas."
   ]
  },
  {
   "cell_type": "markdown",
   "metadata": {
    "id": "Avw_Af_p64SG"
   },
   "source": [
    "### Ejercicio 3.7\n",
    "\n",
    "Muestre en pantalla el tipo de dato correspondientes a las variables *anioActual* y *anioNacimiento*.\n",
    "\n",
    "```\n",
    "print(type(anioActual))\n",
    "print(type(anioNacimiento))\n",
    "```"
   ]
  },
  {
   "cell_type": "code",
   "execution_count": null,
   "metadata": {
    "id": "5G_fl6kU7M4P"
   },
   "outputs": [],
   "source": []
  },
  {
   "cell_type": "markdown",
   "metadata": {
    "id": "J0BCVOK87mv6"
   },
   "source": [
    "----"
   ]
  },
  {
   "cell_type": "markdown",
   "metadata": {
    "id": "_0CQptRx7paM"
   },
   "source": [
    "### Práctica 3.1\n",
    "\n",
    "Establece una variable numérica llamada *num_entero* que contenga un valor de tipo `int` de tu elección. Muestre en pantalla el tipo de dato de dicha variable."
   ]
  },
  {
   "cell_type": "code",
   "execution_count": null,
   "metadata": {
    "id": "vrK2fD_X76yE"
   },
   "outputs": [],
   "source": []
  },
  {
   "cell_type": "markdown",
   "metadata": {
    "id": "-b8z9JLf8Dpn"
   },
   "source": [
    "### Práctica 3.2\n",
    "\n",
    "Declara una variable numérica llamada *num_decimal* que contenga un valor de tipo `float` de tu elección. Muestre en pantalla el tipo de dato de dicha variable."
   ]
  },
  {
   "cell_type": "code",
   "execution_count": null,
   "metadata": {
    "id": "K4N2HZ9E8ODa"
   },
   "outputs": [],
   "source": []
  },
  {
   "cell_type": "markdown",
   "metadata": {
    "id": "BEPtIyz68aQD"
   },
   "source": [
    "### Práctica 3.3\n",
    "\n",
    "¿De qué tipo es el resultado de la suma de `\"7.5\" + \"2.5\"`? Genere el código para verificarlo.\n",
    "\n",
    "Para ello, debe crear dos variables:\n",
    "```\n",
    "num1 = \"7.5\"\n",
    "num2 = \"2.5\"\n",
    "resultado = num1 + num2\n",
    "```\n",
    "A continuación, muestra en pantalla el tipo de dato que resulta de la suma de ambos números."
   ]
  },
  {
   "cell_type": "code",
   "execution_count": null,
   "metadata": {
    "id": "NVuWgdIY8pmn"
   },
   "outputs": [],
   "source": []
  },
  {
   "cell_type": "markdown",
   "metadata": {
    "id": "bBMa5xcq8wni"
   },
   "source": [
    "----\n",
    "----"
   ]
  },
  {
   "cell_type": "markdown",
   "metadata": {
    "id": "9iwY6M2L8zW4"
   },
   "source": [
    "# 4. Conversiones entre tipos de datos\n",
    "\n",
    "En `Python` las variables pueden ser declaradas inicialmente con un tipo de datos y posteriormente, ser editada para asignar otro tipo. A esta operación se le conoce como [casteo (*casting*)](https://ellibrodepython.com/casting-python).\n",
    "\n",
    "El casteo puede ser implícito o explícito.\n",
    "- Implícito. Lo realiza `Python` de manera automática, el usuario no realiza la operación.\n",
    "- Explícito. `Python` requiere que el usuario indique la conversión de un tipo de dato a otro.\n",
    "\n",
    "La operación de `casting` se ilustra en el siguiente código.\n",
    "```\n",
    "valor = 5\n",
    "otroValor = str(valor)\n",
    "```"
   ]
  },
  {
   "cell_type": "markdown",
   "metadata": {
    "id": "X0l2OMLSB4cP"
   },
   "source": [
    "### Ejercicio 4.1\n",
    "\n",
    "Defina una variable entera *num1* y otra del tipo decimal *num2*. Declare una tercera, llamada *resultado* donde se realice la operación matemática `num1 + num2`. Muestre el tipo de dato de las tres variables en pantalla.\n",
    "\n",
    "```\n",
    "num1 = 10\n",
    "num2 = 15.6\n",
    "resultado = num1 + num2\n",
    "\n",
    "print(type(num1))\n",
    "print(type(num2))\n",
    "print(type(resultado))\n",
    "```"
   ]
  },
  {
   "cell_type": "code",
   "execution_count": null,
   "metadata": {
    "id": "XAHmZWTvChjc"
   },
   "outputs": [],
   "source": []
  },
  {
   "cell_type": "markdown",
   "metadata": {
    "id": "08WolCrjC3Ss"
   },
   "source": [
    "> 🔑 **Nota:** El ejercicio anterior es un ejemplo de conversión implícita."
   ]
  },
  {
   "cell_type": "markdown",
   "metadata": {
    "id": "HIMgvCV0DiXZ"
   },
   "source": [
    "### Ejercicio 4.2\n",
    "\n",
    "Declare una variable *num1* y asigne el valor `6.8`. Genere una segunda, llamada *num2* donde se realice la conversión de *num1* a tipo entero. Muestre en pantalla el valor de la *num2* y el tipo de variable.\n",
    "\n",
    "```\n",
    "num1 = 6.8\n",
    "num2 = int(num1)\n",
    "print(num2)\n",
    "print(type(num2))\n",
    "```"
   ]
  },
  {
   "cell_type": "code",
   "execution_count": null,
   "metadata": {
    "id": "m9uhH8ZdEjrz"
   },
   "outputs": [],
   "source": []
  },
  {
   "cell_type": "markdown",
   "metadata": {
    "id": "ccj66_3IE3Zo"
   },
   "source": [
    "> 🔑 **Nota:** Como se puede observar en el ejemplo anterior, el proceso de `casting` eliminó la parte decimal y sólo conservo el valor entero."
   ]
  },
  {
   "cell_type": "markdown",
   "metadata": {
    "id": "pzoWrFozFiYa"
   },
   "source": [
    "### Ejercicio 4.3\n",
    "\n",
    "Repita el Ejercicio 3.6 realizando las operaciones de `casting` necesarias para no tener errores en la operación matemática.\n",
    "\n",
    "```\n",
    "anioActual = input('Ingresa el año actual: ')\n",
    "anioNacimiento = input('Ingresa el año de tu nacimiento: ')\n",
    "edad = int(anioActual) - int(anioNacimiento)\n",
    "print('Tu edad es ' + edad + ' años')\n",
    "```"
   ]
  },
  {
   "cell_type": "code",
   "execution_count": null,
   "metadata": {
    "id": "2FWxgq4NGD2o"
   },
   "outputs": [],
   "source": []
  },
  {
   "cell_type": "markdown",
   "metadata": {
    "id": "9DcJ7ZcnHKyy"
   },
   "source": [
    "> 🔑 **Nota:** La concatenación se debe realizar únicamente con variables del tipo `string`."
   ]
  },
  {
   "cell_type": "markdown",
   "metadata": {
    "id": "G36odV0AHdGc"
   },
   "source": [
    "### Ejercicio 4.4\n",
    "\n",
    "Modifique el ejercicio anterior y aplique el `casting` necesario dentro de la función `print()` para no tener errores en el código.\n",
    "\n",
    "```\n",
    "anioActual = input('Ingresa el año acutal: ')\n",
    "anioNacimiento = input('Ingresa el año de tu nacimiento: ')\n",
    "edad = int(anioActual) - int(anioNacimiento)\n",
    "print('Tu edad es ' + str(edad) + ' años')\n",
    "```"
   ]
  },
  {
   "cell_type": "code",
   "execution_count": null,
   "metadata": {
    "id": "Afglvt7WH6QT"
   },
   "outputs": [],
   "source": []
  },
  {
   "cell_type": "markdown",
   "metadata": {
    "id": "r-IZsD90Ixgy"
   },
   "source": [
    "----"
   ]
  },
  {
   "cell_type": "markdown",
   "metadata": {
    "id": "wdRIt-PzIy88"
   },
   "source": [
    "### Práctica 4.1\n",
    "\n",
    "Declare la variable *num1* y asigne el valor `12.3`, luego conviértala a `str` y muestre el tipo de dato que resulta."
   ]
  },
  {
   "cell_type": "code",
   "execution_count": null,
   "metadata": {
    "id": "UNx1RtU_JJbf"
   },
   "outputs": [],
   "source": []
  },
  {
   "cell_type": "markdown",
   "metadata": {
    "id": "6ao3bBPlJXaW"
   },
   "source": [
    "### Práctica 4.2\n",
    "\n",
    "Sume los valores de *num1* y *num2*.\n",
    "\n",
    "No modifique el código ya declarado, sino aplique las conversiones necesarias dentro de la función `print()`.\n",
    "\n",
    "El resultado debe ser una suma, no una concatenación."
   ]
  },
  {
   "cell_type": "code",
   "execution_count": null,
   "metadata": {
    "id": "RIGZ92UsJmvu"
   },
   "outputs": [],
   "source": [
    "num1 = \"5.7\"\n",
    "num2 = \"20\"\n",
    "print()"
   ]
  },
  {
   "cell_type": "markdown",
   "metadata": {
    "id": "c4o8yXCDzilh"
   },
   "source": [
    "----\n",
    "----"
   ]
  },
  {
   "cell_type": "markdown",
   "metadata": {
    "id": "wyHR9L5uHzvf"
   },
   "source": [
    "# 5. Formatear cadenas\n",
    "\n",
    "En `Python` existen algunas opciones para dar formato a las cadenas de texto. Esto evita el uso de `casting` y concatenaciones que pudieran complicar la lectura de código al usuario. Esto se puede realizar de dos maneras:\n",
    "- Empleando la función [`format()`](https://www.freecodecamp.org/espanol/news/formato-de-cadenas-en-python-ejemplos-de-formato-s-sprint-en-python/).\n",
    "```\n",
    "color = \"negro\"\n",
    "modelo = 2020\n",
    "print(\"Mi auto es {} y modelo {}\".format(color, modelo))\n",
    "```\n",
    "\n",
    "- [Cadenas literales](https://www.freecodecamp.org/espanol/news/tutorial-de-f-strings-en-python-formato-de-cadenas-en-python-explicado-con-ejemplos/#:~:text=En%20Python%2C%20una%20cadena%20de,%22%20es%20una%20f%2Dstring.).\n",
    "```\n",
    "color = \"negro\"\n",
    "modelo = 2020\n",
    "print(f\"Mi auto es {color} y modelo {modelo}\")\n",
    "```"
   ]
  },
  {
   "cell_type": "markdown",
   "metadata": {
    "id": "aZyo6IPuQ-f4"
   },
   "source": [
    "### Ejercicio 5.1\n",
    "\n",
    "Declare las variables *nombre*, *hermanos* y *hermanas* asignando los valores correspondientes. Empleando el método de concatenación, muestre en pantalla la siguiente frase:\n",
    "```\n",
    "Mi nombre es Pablo, tengo 2 hermanos y 1 hermana.\n",
    "```\n",
    "\n",
    "```\n",
    "nombre = 'Pablo'\n",
    "hermanos = 2\n",
    "hermanas = 1\n",
    "print('Mi nombre es ' + nombre + ', tengo ' + str(hermanos) + ' hermanos y ' + str(hermanas) + ' hermana')\n",
    "```"
   ]
  },
  {
   "cell_type": "code",
   "execution_count": null,
   "metadata": {
    "id": "_An9ro3ESLV0"
   },
   "outputs": [],
   "source": []
  },
  {
   "cell_type": "markdown",
   "metadata": {
    "id": "QHC4JdDpS0bN"
   },
   "source": [
    "### Ejercicio 5.2\n",
    "\n",
    "Repita el ejercicio anterior empleando la función `format()`.\n",
    "\n",
    "```\n",
    "nombre = 'Pablo'\n",
    "hermanos = 2\n",
    "hermanas = 1\n",
    "print('Mi nombre es {}, tengo {} hermanos y {} hermana.'.format(nombre, hermanos, hermanas))\n",
    "```"
   ]
  },
  {
   "cell_type": "code",
   "execution_count": null,
   "metadata": {
    "id": "-Q8Kxfs5Skcu"
   },
   "outputs": [],
   "source": []
  },
  {
   "cell_type": "markdown",
   "metadata": {
    "id": "LOR3WSqkUd-6"
   },
   "source": [
    "> 🔑 **Nota:** Dentro de la función `format()` también es posible realizar operaciones matemáticas."
   ]
  },
  {
   "cell_type": "markdown",
   "metadata": {
    "id": "fuoy16fWUrA1"
   },
   "source": [
    "### Ejercicio 5.3\n",
    "\n",
    "Declare las variables *num1* y *num2* con valores `12` y `4`, respectivamente. Usando la función `format()`, muestre en pantalla la siguiente frase:\n",
    "```\n",
    "La diferencia de 12 y 4 es igual a 8.\n",
    "```\n",
    "La resta debe realizarse dentro de la función `format()`.\n",
    "\n",
    "```\n",
    "num1 = 12\n",
    "num2 = 4\n",
    "print('La diferencia de {} y {} es igual a {}.'.format(num1, num2, num1-num2))\n",
    "```"
   ]
  },
  {
   "cell_type": "code",
   "execution_count": null,
   "metadata": {
    "id": "bDLagaHgVgmW"
   },
   "outputs": [],
   "source": []
  },
  {
   "cell_type": "markdown",
   "metadata": {
    "id": "uXusyKHtTU7e"
   },
   "source": [
    "### Ejercicio 5.4\n",
    "\n",
    "Repita el Ejercicio 5.1 por medio de cadenas literales.\n",
    "\n",
    "```\n",
    "nombre = 'Pablo'\n",
    "hermanos = 2\n",
    "hermanas = 1\n",
    "print(f'Mi nombre es {nombre}, tengo {hermanos} hermanos y {hermanas} hermana.')\n",
    "```"
   ]
  },
  {
   "cell_type": "code",
   "execution_count": null,
   "metadata": {
    "id": "Ze6ZrwATTLL7"
   },
   "outputs": [],
   "source": []
  },
  {
   "cell_type": "markdown",
   "metadata": {
    "id": "lzJTFbf_WiOR"
   },
   "source": [
    "----"
   ]
  },
  {
   "cell_type": "markdown",
   "metadata": {
    "id": "gC9w-cZzWj8C"
   },
   "source": [
    "### Práctica 5.1\n",
    "\n",
    "Realice un código que muestre en pantalla su nombre y matrícula dentro de la siguiente frase:\n",
    "```\n",
    "Estimado/a (nombre), su número de matrícula es: (matrícula).\n",
    "```"
   ]
  },
  {
   "cell_type": "code",
   "execution_count": null,
   "metadata": {
    "id": "7dkR47qcTnpb"
   },
   "outputs": [],
   "source": []
  },
  {
   "cell_type": "markdown",
   "metadata": {
    "id": "p8cKXbWcXSeB"
   },
   "source": [
    "### Práctica 5.2\n",
    "\n",
    "Declare las variables *puntos_1* y *puntos_2* con los valores `8.5` y `9`, respectivamente. Realice la suma del total de puntos y haga que aparezca en pantalla como aparece a continuación:\n",
    "```\n",
    "Sus puntos en 1er parcial son (puntos_1) y en el segundo parcial obtuvo (puntos_2) puntos, la suma es (suma).\n",
    "```"
   ]
  },
  {
   "cell_type": "code",
   "execution_count": null,
   "metadata": {
    "id": "ZjnwsOdoZmXp"
   },
   "outputs": [],
   "source": []
  },
  {
   "attachments": {},
   "cell_type": "markdown",
   "metadata": {},
   "source": [
    "### Práctica 5.3\n",
    "\n",
    "Muestra al usuario la cantidad de pasos acumulados dentro de la siguiente frase:\n",
    "```\n",
    "En la primera hora diste (pasos_1) pasos, en la segunda hora realizaste (pasos_2) pasos. Has acumulado (pasos_totales) pasos.\n",
    "```\n",
    "En esta ocasión, la cantidad de pasos acumulados (pasos_totales) será igual a `pasos_1 + pasos_2`."
   ]
  },
  {
   "cell_type": "code",
   "execution_count": null,
   "metadata": {},
   "outputs": [],
   "source": []
  },
  {
   "attachments": {},
   "cell_type": "markdown",
   "metadata": {},
   "source": [
    "----\n",
    "----"
   ]
  },
  {
   "attachments": {},
   "cell_type": "markdown",
   "metadata": {},
   "source": [
    "# 6. Operadores matemáticos\n",
    "\n",
    "`Python` admite los operadores que se usan comúnmente en matemáticas y programación."
   ]
  },
  {
   "attachments": {},
   "cell_type": "markdown",
   "metadata": {},
   "source": [
    "- **Suma.** El signo `+` se usa para sumar dos valores numéricos o concatenar dos cadenas de texto."
   ]
  },
  {
   "attachments": {},
   "cell_type": "markdown",
   "metadata": {},
   "source": [
    "### Ejercicio 6.1\n",
    "\n",
    "Muestre en pantalla la suma de 5 `+` 3.\n",
    "\n",
    "```\n",
    "a = 5\n",
    "b = 3\n",
    "c = a + b\n",
    "print(f'La suma de {a} mas {b} es igual a {c}')\n",
    "```"
   ]
  },
  {
   "cell_type": "code",
   "execution_count": null,
   "metadata": {},
   "outputs": [],
   "source": []
  },
  {
   "attachments": {},
   "cell_type": "markdown",
   "metadata": {},
   "source": [
    "- **Resta o diferencia.** El caracter `-` se usa para restar dos valores numéricos."
   ]
  },
  {
   "attachments": {},
   "cell_type": "markdown",
   "metadata": {},
   "source": [
    "### Ejercicio 6.2\n",
    "\n",
    "Muestre en pantalla la diferencia de 5 `-` 3.\n",
    "\n",
    "```\n",
    "a = 5\n",
    "b = 3\n",
    "c = a - b\n",
    "print(f'La diferencia de {a} menos {b} es igual a {c}')\n",
    "```"
   ]
  },
  {
   "cell_type": "code",
   "execution_count": null,
   "metadata": {},
   "outputs": [],
   "source": []
  },
  {
   "attachments": {},
   "cell_type": "markdown",
   "metadata": {},
   "source": [
    "- **Multiplicación.** El símbolo `*` se usa para multiplicar dos valores numéricos."
   ]
  },
  {
   "attachments": {},
   "cell_type": "markdown",
   "metadata": {},
   "source": [
    "### Ejercicio 6.3\n",
    "\n",
    "Muestre en pantalla la multiplicación de 5 `*` 3.\n",
    "\n",
    "```\n",
    "a = 5\n",
    "b = 3\n",
    "c = a * b\n",
    "print(f'La multiplicación de {a} por {b} es igual a {c}')\n",
    "```"
   ]
  },
  {
   "cell_type": "code",
   "execution_count": null,
   "metadata": {},
   "outputs": [],
   "source": []
  },
  {
   "attachments": {},
   "cell_type": "markdown",
   "metadata": {},
   "source": [
    "- **División.** El operador `/` se usa para dividir dos valores numéricos."
   ]
  },
  {
   "attachments": {},
   "cell_type": "markdown",
   "metadata": {},
   "source": [
    "### Ejercicio 6.4\n",
    "\n",
    "Muestre en pantalla la división de 5 `/` 3.\n",
    "\n",
    "```\n",
    "a = 5\n",
    "b = 3\n",
    "c = a / b\n",
    "print(f'La división de {a} entre {b} es igual a {c}')\n",
    "```"
   ]
  },
  {
   "cell_type": "code",
   "execution_count": null,
   "metadata": {},
   "outputs": [],
   "source": []
  },
  {
   "attachments": {},
   "cell_type": "markdown",
   "metadata": {},
   "source": [
    "> 🔑 **Nota:** Es posible definir el número de decimales para mostrar en pantalla empleando `{valor:.4f}`. Lo anterior considera 4 decimales."
   ]
  },
  {
   "attachments": {},
   "cell_type": "markdown",
   "metadata": {},
   "source": [
    "### Ejercicio 6.5\n",
    "\n",
    "Muestre en pantalla la división de 5 `/` 3, considere sólo 2 decimales en el resultado.\n",
    "\n",
    "```\n",
    "a = 5\n",
    "b = 3\n",
    "c = a / b\n",
    "print(f'La división de {a} entre {b} es igual a {c:.2f}')\n",
    "```"
   ]
  },
  {
   "cell_type": "code",
   "execution_count": null,
   "metadata": {},
   "outputs": [],
   "source": []
  },
  {
   "attachments": {},
   "cell_type": "markdown",
   "metadata": {},
   "source": [
    "> 🔑 **Nota:** El operador `//` se usa para realizar una división entera, es decir, devuelve sólo la parte entera del resultado."
   ]
  },
  {
   "attachments": {},
   "cell_type": "markdown",
   "metadata": {},
   "source": [
    "### Ejercicio 6.6\n",
    "\n",
    "Ejecute el ejercicio anterior sin considerar decimales en el resultado.\n",
    "\n",
    "```\n",
    "a = 5\n",
    "b = 3\n",
    "c = a // b\n",
    "print(f'La división de {a} entre {b} es igual a {c}')\n",
    "```"
   ]
  },
  {
   "cell_type": "code",
   "execution_count": null,
   "metadata": {},
   "outputs": [],
   "source": []
  },
  {
   "attachments": {},
   "cell_type": "markdown",
   "metadata": {},
   "source": [
    "- **Módulo.** El signo `%` se usa para obtener el resto o residuo de una división."
   ]
  },
  {
   "attachments": {},
   "cell_type": "markdown",
   "metadata": {},
   "source": [
    "### Ejercicio 6.7\n",
    "\n",
    "Determine el residuo de la división 5 `/` 3.\n",
    "\n",
    "```\n",
    "a = 5\n",
    "b = 3\n",
    "c = a % b\n",
    "print(f'El residuo de la división de {a} entre {b} es igual a {c}')\n",
    "```"
   ]
  },
  {
   "cell_type": "code",
   "execution_count": null,
   "metadata": {},
   "outputs": [],
   "source": []
  },
  {
   "attachments": {},
   "cell_type": "markdown",
   "metadata": {},
   "source": [
    "- **Potencia.** El operador `**` se usa para elevar un número a una potencia."
   ]
  },
  {
   "attachments": {},
   "cell_type": "markdown",
   "metadata": {},
   "source": [
    "### Ejercicio 6.8\n",
    "\n",
    "Obtenga el resultado de 5 `**` 3.\n",
    "\n",
    "```\n",
    "a = 5\n",
    "b = 3\n",
    "c = a ** b\n",
    "print(f'La potencia de {a} elevado a la {b} es igual a {c}')\n",
    "```"
   ]
  },
  {
   "cell_type": "code",
   "execution_count": null,
   "metadata": {},
   "outputs": [],
   "source": []
  },
  {
   "attachments": {},
   "cell_type": "markdown",
   "metadata": {},
   "source": [
    "> 🔑 **Nota:** Es importante tener en cuenta que el orden de evaluación de las operaciones matemáticas sigue las reglas de la aritmética, es decir, se calcula primero la potenciación, luego la multiplicación y división, finalmente la suma y resta. Se pueden usar paréntesis para asignar la secuencia."
   ]
  },
  {
   "attachments": {},
   "cell_type": "markdown",
   "metadata": {},
   "source": [
    "### Ejercicio 6.9\n",
    "\n",
    "Determine el resultado de la siguiente operación: `2 + 2 * 2`.\n",
    "\n",
    "```\n",
    "calc = 2 + 2 * 2\n",
    "print(calc)\n",
    "```"
   ]
  },
  {
   "cell_type": "code",
   "execution_count": null,
   "metadata": {},
   "outputs": [],
   "source": []
  },
  {
   "attachments": {},
   "cell_type": "markdown",
   "metadata": {},
   "source": [
    "### Ejercicio 6.10\n",
    "\n",
    "Calcule: `2 + 2 * 2 / 2 ** 2`.\n",
    "\n",
    "```\n",
    "calc = 2 + 2 * 2 / 2 ** 2\n",
    "print(calc)\n",
    "```"
   ]
  },
  {
   "cell_type": "code",
   "execution_count": null,
   "metadata": {},
   "outputs": [],
   "source": []
  },
  {
   "attachments": {},
   "cell_type": "markdown",
   "metadata": {},
   "source": [
    "----"
   ]
  },
  {
   "attachments": {},
   "cell_type": "markdown",
   "metadata": {},
   "source": [
    "### Práctica 6.1\n",
    "\n",
    "Muestra en pantalla el cociente (división) de los siguientes dos números: `874` dividido entre `27`. Considere sólo el número entero."
   ]
  },
  {
   "cell_type": "code",
   "execution_count": null,
   "metadata": {},
   "outputs": [],
   "source": []
  },
  {
   "attachments": {},
   "cell_type": "markdown",
   "metadata": {},
   "source": [
    "### Práctica 6.2\n",
    "\n",
    "Presente el resultado del módulo (es decir, el resto) de la división entre `456` y `33`."
   ]
  },
  {
   "cell_type": "code",
   "execution_count": null,
   "metadata": {},
   "outputs": [],
   "source": []
  },
  {
   "attachments": {},
   "cell_type": "markdown",
   "metadata": {},
   "source": [
    "### Práctica 6.3\n",
    "\n",
    "Calcule la raíz cuadrada de `783`."
   ]
  },
  {
   "cell_type": "code",
   "execution_count": null,
   "metadata": {},
   "outputs": [],
   "source": []
  },
  {
   "attachments": {},
   "cell_type": "markdown",
   "metadata": {},
   "source": [
    "----\n",
    "----"
   ]
  },
  {
   "attachments": {},
   "cell_type": "markdown",
   "metadata": {},
   "source": [
    "# 7. Redondeo\n",
    "\n",
    "`Python` proporciona varias funciones integradas para redondear valores numéricos. A continuación, se describen algunas de ellas.\n",
    "\n",
    "- `round()`. Redondea al número entero más cercano. Si el valor está justo en el medio de dos enteros, tomará al entero par."
   ]
  },
  {
   "attachments": {},
   "cell_type": "markdown",
   "metadata": {},
   "source": [
    "### Ejercicio 7.1\n",
    "\n",
    "Aplique la función `round()` al siguiente valor: $x = 3.14159$. Muestre el resultado en pantalla.\n",
    "\n",
    "```\n",
    "x = 3.14159\n",
    "print(round(x))\n",
    "```"
   ]
  },
  {
   "cell_type": "code",
   "execution_count": null,
   "metadata": {},
   "outputs": [],
   "source": []
  },
  {
   "attachments": {},
   "cell_type": "markdown",
   "metadata": {},
   "source": [
    "> 🔑 **Nota:** `round()` también puede aceptar un segundo argumento opcional que indica el número de decimales a los que se debe redondear un valor."
   ]
  },
  {
   "attachments": {},
   "cell_type": "markdown",
   "metadata": {},
   "source": [
    "### Ejercicio 7.2\n",
    "\n",
    "Aplique la función `round()` al siguiente valor: $x = 3.14159$ considerando dos decimales. Muestre el resultado en pantalla.\n",
    "\n",
    "```\n",
    "x = 3.14159\n",
    "print(round(x, 2))\n",
    "```"
   ]
  },
  {
   "cell_type": "code",
   "execution_count": null,
   "metadata": {},
   "outputs": [],
   "source": []
  },
  {
   "attachments": {},
   "cell_type": "markdown",
   "metadata": {},
   "source": [
    "- `ceil()`. Se utiliza para redondear un valor numérico al siguiente entero mayor. Se requiere importar el módulo `math` para hacer uso de esta función."
   ]
  },
  {
   "attachments": {},
   "cell_type": "markdown",
   "metadata": {},
   "source": [
    "### Ejercicio 7.3\n",
    "\n",
    "Use la función `ceil()` al valor $x=3.14159$.\n",
    "\n",
    "```\n",
    "import math\n",
    "x = 3.14159\n",
    "print(math.ceil(x))\n",
    "```"
   ]
  },
  {
   "cell_type": "code",
   "execution_count": null,
   "metadata": {},
   "outputs": [],
   "source": []
  },
  {
   "attachments": {},
   "cell_type": "markdown",
   "metadata": {},
   "source": [
    "- `floor()`. Se utiliza para redondear un valor numérico al entero menor. Se requiere importar el módulo `math` para hacer uso de esta función."
   ]
  },
  {
   "attachments": {},
   "cell_type": "markdown",
   "metadata": {},
   "source": [
    "### Ejercicio 7.4\n",
    "\n",
    "Aplique la función `floor()` al valor $x=3.14159$.\n",
    "\n",
    "```\n",
    "import math\n",
    "x = 3.14159\n",
    "print(math.floor(x))\n",
    "```"
   ]
  },
  {
   "cell_type": "code",
   "execution_count": null,
   "metadata": {},
   "outputs": [],
   "source": []
  },
  {
   "attachments": {},
   "cell_type": "markdown",
   "metadata": {},
   "source": [
    "- `trunc()`. Se utiliza para truncar un valor numérico al entero más cercano hacia cero. Se requiere importar el módulo `math` para hacer uso de esta función."
   ]
  },
  {
   "attachments": {},
   "cell_type": "markdown",
   "metadata": {},
   "source": [
    "### Ejercicio 7.5\n",
    "\n",
    "Aplique la función `trunc()` al valor $x=3.14159$.\n",
    "\n",
    "```\n",
    "import math\n",
    "x = 3.14159\n",
    "print(math.trunc(x))\n",
    "```"
   ]
  },
  {
   "cell_type": "code",
   "execution_count": null,
   "metadata": {},
   "outputs": [],
   "source": []
  },
  {
   "attachments": {},
   "cell_type": "markdown",
   "metadata": {},
   "source": [
    "- `int()`. Se utiliza para convertir un valor numérico en un entero eliminando cualquier parte fraccionaria."
   ]
  },
  {
   "attachments": {},
   "cell_type": "markdown",
   "metadata": {},
   "source": [
    "### Ejercicio 7.6\n",
    "\n",
    "Use la función `int()` al valor $x=3.14159$.\n",
    "\n",
    "```\n",
    "x = 3.14159\n",
    "print(int(x))\n",
    "```"
   ]
  },
  {
   "cell_type": "code",
   "execution_count": null,
   "metadata": {},
   "outputs": [],
   "source": []
  },
  {
   "attachments": {},
   "cell_type": "markdown",
   "metadata": {},
   "source": [
    "----"
   ]
  },
  {
   "attachments": {},
   "cell_type": "markdown",
   "metadata": {},
   "source": [
    "### Práctica 7.1\n",
    "\n",
    "Aplique redondeo al resultado de la división $10/3$ y obtener un número con 2 decimales, muestra en pantalla el valor resultante."
   ]
  },
  {
   "cell_type": "code",
   "execution_count": null,
   "metadata": {},
   "outputs": [],
   "source": []
  },
  {
   "attachments": {},
   "cell_type": "markdown",
   "metadata": {},
   "source": [
    "### Práctica 7.2\n",
    "\n",
    "Utilice la función de redondeo correspondiente al número $x=10.676767$ para obtener el entero más próximo, muestra en pantalla el resultado."
   ]
  },
  {
   "cell_type": "code",
   "execution_count": null,
   "metadata": {},
   "outputs": [],
   "source": []
  },
  {
   "attachments": {},
   "cell_type": "markdown",
   "metadata": {},
   "source": [
    "### Práctica 7.3\n",
    "\n",
    "Calcule la raíz cuadrada de $5$, y muestra en pantalla el resultado redondeado con $4$ posiciones decimales."
   ]
  },
  {
   "cell_type": "code",
   "execution_count": null,
   "metadata": {},
   "outputs": [],
   "source": []
  }
 ],
 "metadata": {
  "colab": {
   "authorship_tag": "ABX9TyME1XwpjijTyOPXIKKPqk+j",
   "provenance": []
  },
  "kernelspec": {
   "display_name": "upb_env",
   "language": "python",
   "name": "python3"
  },
  "language_info": {
   "codemirror_mode": {
    "name": "ipython",
    "version": 3
   },
   "file_extension": ".py",
   "mimetype": "text/x-python",
   "name": "python",
   "nbconvert_exporter": "python",
   "pygments_lexer": "ipython3",
   "version": "3.11.2"
  }
 },
 "nbformat": 4,
 "nbformat_minor": 0
}
